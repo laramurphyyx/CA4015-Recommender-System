{
 "cells": [
  {
   "cell_type": "code",
   "execution_count": 1,
   "id": "92c9de07",
   "metadata": {},
   "outputs": [],
   "source": [
    "import pandas as pd\n",
    "import numpy as np\n",
    "import itertools\n",
    "import matplotlib.pyplot as plt"
   ]
  },
  {
   "cell_type": "code",
   "execution_count": 225,
   "id": "ae824eee",
   "metadata": {},
   "outputs": [],
   "source": [
    "dataframe_names = [\n",
    "    'user_friends',\n",
    "    'user_taggedartists',\n",
    "    'artists',\n",
    "    'tags',\n",
    "    'user_artists']\n",
    "\n",
    "file_names = [\n",
    "    'data/user_friends.dat',\n",
    "    'data/user_taggedartists.dat',\n",
    "    'data/artists.dat',\n",
    "    'data/tags.dat',\n",
    "    'data/user_artists.dat']"
   ]
  },
  {
   "cell_type": "code",
   "execution_count": 226,
   "id": "39a3013b",
   "metadata": {},
   "outputs": [],
   "source": [
    "for (dataframe, file) in zip(dataframe_names, file_names):\n",
    "    if dataframe == 'tags':\n",
    "        vars()[dataframe] = pd.read_table(file, sep=\"\\t\", encoding = \"latin-1\")\n",
    "    else:\n",
    "        vars()[dataframe] = pd.read_table(file, sep=\"\\t\")"
   ]
  },
  {
   "cell_type": "markdown",
   "id": "c4e3f4ba",
   "metadata": {},
   "source": [
    "## Exploring the data"
   ]
  },
  {
   "cell_type": "code",
   "execution_count": 4,
   "id": "77003a65",
   "metadata": {},
   "outputs": [
    {
     "data": {
      "text/html": [
       "<div>\n",
       "<style scoped>\n",
       "    .dataframe tbody tr th:only-of-type {\n",
       "        vertical-align: middle;\n",
       "    }\n",
       "\n",
       "    .dataframe tbody tr th {\n",
       "        vertical-align: top;\n",
       "    }\n",
       "\n",
       "    .dataframe thead th {\n",
       "        text-align: right;\n",
       "    }\n",
       "</style>\n",
       "<table border=\"1\" class=\"dataframe\">\n",
       "  <thead>\n",
       "    <tr style=\"text-align: right;\">\n",
       "      <th></th>\n",
       "      <th>userID</th>\n",
       "      <th>artistID</th>\n",
       "      <th>weight</th>\n",
       "    </tr>\n",
       "  </thead>\n",
       "  <tbody>\n",
       "    <tr>\n",
       "      <th>0</th>\n",
       "      <td>2</td>\n",
       "      <td>51</td>\n",
       "      <td>13883</td>\n",
       "    </tr>\n",
       "    <tr>\n",
       "      <th>1</th>\n",
       "      <td>2</td>\n",
       "      <td>52</td>\n",
       "      <td>11690</td>\n",
       "    </tr>\n",
       "    <tr>\n",
       "      <th>2</th>\n",
       "      <td>2</td>\n",
       "      <td>53</td>\n",
       "      <td>11351</td>\n",
       "    </tr>\n",
       "    <tr>\n",
       "      <th>3</th>\n",
       "      <td>2</td>\n",
       "      <td>54</td>\n",
       "      <td>10300</td>\n",
       "    </tr>\n",
       "    <tr>\n",
       "      <th>4</th>\n",
       "      <td>2</td>\n",
       "      <td>55</td>\n",
       "      <td>8983</td>\n",
       "    </tr>\n",
       "  </tbody>\n",
       "</table>\n",
       "</div>"
      ],
      "text/plain": [
       "   userID  artistID  weight\n",
       "0       2        51   13883\n",
       "1       2        52   11690\n",
       "2       2        53   11351\n",
       "3       2        54   10300\n",
       "4       2        55    8983"
      ]
     },
     "execution_count": 4,
     "metadata": {},
     "output_type": "execute_result"
    }
   ],
   "source": [
    "user_artists.head()"
   ]
  },
  {
   "cell_type": "code",
   "execution_count": 5,
   "id": "36f1d021",
   "metadata": {},
   "outputs": [],
   "source": [
    "list_of_weights = np.asarray(user_artists['weight'])"
   ]
  },
  {
   "cell_type": "code",
   "execution_count": 6,
   "id": "c1699560",
   "metadata": {},
   "outputs": [
    {
     "data": {
      "text/plain": [
       "(array([8.1435e+04, 6.8300e+03, 1.9950e+03, 8.8700e+02, 4.6700e+02,\n",
       "        2.6300e+02, 1.7500e+02, 1.0900e+02, 9.2000e+01, 8.4000e+01,\n",
       "        6.0000e+01, 4.6000e+01, 3.5000e+01, 4.2000e+01, 3.0000e+01,\n",
       "        1.6000e+01, 1.7000e+01, 2.0000e+01, 1.7000e+01, 1.4000e+01,\n",
       "        1.8000e+01, 7.0000e+00, 1.4000e+01, 9.0000e+00, 9.0000e+00,\n",
       "        9.0000e+00, 9.0000e+00, 7.0000e+00, 7.0000e+00, 7.0000e+00,\n",
       "        5.0000e+00, 4.0000e+00, 3.0000e+00, 5.0000e+00, 5.0000e+00,\n",
       "        2.0000e+00, 1.0000e+00, 6.0000e+00, 4.0000e+00, 0.0000e+00,\n",
       "        5.0000e+00, 1.0000e+00, 1.0000e+00, 1.0000e+00, 1.0000e+00,\n",
       "        2.0000e+00, 2.0000e+00, 2.0000e+00, 2.0000e+00, 0.0000e+00,\n",
       "        1.0000e+00, 5.0000e+00, 2.0000e+00, 0.0000e+00, 2.0000e+00,\n",
       "        0.0000e+00, 1.0000e+00, 0.0000e+00, 1.0000e+00, 0.0000e+00,\n",
       "        0.0000e+00, 2.0000e+00, 2.0000e+00, 0.0000e+00, 1.0000e+00,\n",
       "        0.0000e+00, 1.0000e+00, 1.0000e+00, 2.0000e+00, 1.0000e+00,\n",
       "        3.0000e+00, 0.0000e+00, 1.0000e+00, 0.0000e+00, 1.0000e+00,\n",
       "        0.0000e+00, 0.0000e+00, 0.0000e+00, 0.0000e+00, 0.0000e+00,\n",
       "        0.0000e+00, 0.0000e+00, 0.0000e+00, 0.0000e+00, 0.0000e+00,\n",
       "        1.0000e+00, 0.0000e+00, 1.0000e+00, 0.0000e+00, 0.0000e+00,\n",
       "        0.0000e+00, 1.0000e+00, 0.0000e+00, 3.0000e+00, 0.0000e+00,\n",
       "        1.0000e+00, 0.0000e+00, 1.0000e+00, 0.0000e+00, 0.0000e+00,\n",
       "        0.0000e+00, 0.0000e+00, 0.0000e+00, 0.0000e+00, 1.0000e+00,\n",
       "        0.0000e+00, 1.0000e+00, 0.0000e+00, 0.0000e+00, 1.0000e+00,\n",
       "        1.0000e+00, 0.0000e+00, 1.0000e+00, 0.0000e+00, 0.0000e+00,\n",
       "        0.0000e+00, 0.0000e+00, 0.0000e+00, 0.0000e+00, 0.0000e+00,\n",
       "        0.0000e+00, 0.0000e+00, 1.0000e+00, 0.0000e+00, 1.0000e+00,\n",
       "        0.0000e+00, 0.0000e+00, 0.0000e+00, 0.0000e+00, 0.0000e+00,\n",
       "        0.0000e+00, 0.0000e+00, 0.0000e+00, 0.0000e+00, 0.0000e+00,\n",
       "        0.0000e+00, 0.0000e+00, 0.0000e+00, 0.0000e+00, 0.0000e+00,\n",
       "        0.0000e+00, 1.0000e+00, 0.0000e+00, 0.0000e+00, 1.0000e+00,\n",
       "        0.0000e+00, 1.0000e+00, 0.0000e+00, 0.0000e+00, 1.0000e+00,\n",
       "        0.0000e+00, 0.0000e+00, 0.0000e+00, 0.0000e+00, 0.0000e+00,\n",
       "        0.0000e+00, 0.0000e+00, 0.0000e+00, 0.0000e+00, 0.0000e+00,\n",
       "        0.0000e+00, 0.0000e+00, 0.0000e+00, 0.0000e+00, 0.0000e+00,\n",
       "        0.0000e+00, 0.0000e+00, 0.0000e+00, 0.0000e+00, 0.0000e+00,\n",
       "        0.0000e+00, 0.0000e+00, 1.0000e+00, 0.0000e+00, 0.0000e+00,\n",
       "        0.0000e+00, 0.0000e+00, 0.0000e+00, 0.0000e+00, 0.0000e+00,\n",
       "        0.0000e+00, 0.0000e+00, 0.0000e+00, 0.0000e+00, 0.0000e+00,\n",
       "        0.0000e+00, 0.0000e+00, 0.0000e+00, 0.0000e+00, 0.0000e+00,\n",
       "        0.0000e+00, 0.0000e+00, 0.0000e+00, 1.0000e+00, 0.0000e+00,\n",
       "        0.0000e+00, 0.0000e+00, 0.0000e+00, 0.0000e+00, 0.0000e+00,\n",
       "        0.0000e+00, 0.0000e+00, 0.0000e+00, 0.0000e+00, 0.0000e+00,\n",
       "        0.0000e+00, 0.0000e+00, 0.0000e+00, 0.0000e+00, 0.0000e+00,\n",
       "        0.0000e+00, 0.0000e+00, 0.0000e+00, 0.0000e+00, 0.0000e+00,\n",
       "        0.0000e+00, 0.0000e+00, 0.0000e+00, 0.0000e+00, 1.0000e+00,\n",
       "        0.0000e+00, 0.0000e+00, 0.0000e+00, 0.0000e+00, 0.0000e+00,\n",
       "        0.0000e+00, 0.0000e+00, 0.0000e+00, 0.0000e+00, 0.0000e+00,\n",
       "        0.0000e+00, 0.0000e+00, 0.0000e+00, 0.0000e+00, 0.0000e+00,\n",
       "        0.0000e+00, 0.0000e+00, 0.0000e+00, 0.0000e+00, 0.0000e+00,\n",
       "        0.0000e+00, 0.0000e+00, 0.0000e+00, 0.0000e+00, 0.0000e+00,\n",
       "        0.0000e+00, 0.0000e+00, 0.0000e+00, 0.0000e+00, 0.0000e+00,\n",
       "        0.0000e+00, 0.0000e+00, 0.0000e+00, 0.0000e+00, 0.0000e+00,\n",
       "        0.0000e+00, 0.0000e+00, 0.0000e+00, 0.0000e+00, 0.0000e+00,\n",
       "        0.0000e+00, 0.0000e+00, 0.0000e+00, 0.0000e+00, 0.0000e+00,\n",
       "        0.0000e+00, 0.0000e+00, 0.0000e+00, 0.0000e+00, 0.0000e+00,\n",
       "        0.0000e+00, 0.0000e+00, 1.0000e+00, 0.0000e+00, 0.0000e+00,\n",
       "        0.0000e+00, 1.0000e+00, 0.0000e+00, 0.0000e+00, 0.0000e+00,\n",
       "        0.0000e+00, 0.0000e+00, 0.0000e+00, 0.0000e+00, 0.0000e+00,\n",
       "        0.0000e+00, 0.0000e+00, 0.0000e+00, 0.0000e+00, 0.0000e+00,\n",
       "        0.0000e+00, 0.0000e+00, 0.0000e+00, 0.0000e+00, 0.0000e+00,\n",
       "        0.0000e+00, 0.0000e+00, 0.0000e+00, 0.0000e+00, 1.0000e+00]),\n",
       " array([1.00000000e+00, 1.17665667e+03, 2.35231333e+03, 3.52797000e+03,\n",
       "        4.70362667e+03, 5.87928333e+03, 7.05494000e+03, 8.23059667e+03,\n",
       "        9.40625333e+03, 1.05819100e+04, 1.17575667e+04, 1.29332233e+04,\n",
       "        1.41088800e+04, 1.52845367e+04, 1.64601933e+04, 1.76358500e+04,\n",
       "        1.88115067e+04, 1.99871633e+04, 2.11628200e+04, 2.23384767e+04,\n",
       "        2.35141333e+04, 2.46897900e+04, 2.58654467e+04, 2.70411033e+04,\n",
       "        2.82167600e+04, 2.93924167e+04, 3.05680733e+04, 3.17437300e+04,\n",
       "        3.29193867e+04, 3.40950433e+04, 3.52707000e+04, 3.64463567e+04,\n",
       "        3.76220133e+04, 3.87976700e+04, 3.99733267e+04, 4.11489833e+04,\n",
       "        4.23246400e+04, 4.35002967e+04, 4.46759533e+04, 4.58516100e+04,\n",
       "        4.70272667e+04, 4.82029233e+04, 4.93785800e+04, 5.05542367e+04,\n",
       "        5.17298933e+04, 5.29055500e+04, 5.40812067e+04, 5.52568633e+04,\n",
       "        5.64325200e+04, 5.76081767e+04, 5.87838333e+04, 5.99594900e+04,\n",
       "        6.11351467e+04, 6.23108033e+04, 6.34864600e+04, 6.46621167e+04,\n",
       "        6.58377733e+04, 6.70134300e+04, 6.81890867e+04, 6.93647433e+04,\n",
       "        7.05404000e+04, 7.17160567e+04, 7.28917133e+04, 7.40673700e+04,\n",
       "        7.52430267e+04, 7.64186833e+04, 7.75943400e+04, 7.87699967e+04,\n",
       "        7.99456533e+04, 8.11213100e+04, 8.22969667e+04, 8.34726233e+04,\n",
       "        8.46482800e+04, 8.58239367e+04, 8.69995933e+04, 8.81752500e+04,\n",
       "        8.93509067e+04, 9.05265633e+04, 9.17022200e+04, 9.28778767e+04,\n",
       "        9.40535333e+04, 9.52291900e+04, 9.64048467e+04, 9.75805033e+04,\n",
       "        9.87561600e+04, 9.99318167e+04, 1.01107473e+05, 1.02283130e+05,\n",
       "        1.03458787e+05, 1.04634443e+05, 1.05810100e+05, 1.06985757e+05,\n",
       "        1.08161413e+05, 1.09337070e+05, 1.10512727e+05, 1.11688383e+05,\n",
       "        1.12864040e+05, 1.14039697e+05, 1.15215353e+05, 1.16391010e+05,\n",
       "        1.17566667e+05, 1.18742323e+05, 1.19917980e+05, 1.21093637e+05,\n",
       "        1.22269293e+05, 1.23444950e+05, 1.24620607e+05, 1.25796263e+05,\n",
       "        1.26971920e+05, 1.28147577e+05, 1.29323233e+05, 1.30498890e+05,\n",
       "        1.31674547e+05, 1.32850203e+05, 1.34025860e+05, 1.35201517e+05,\n",
       "        1.36377173e+05, 1.37552830e+05, 1.38728487e+05, 1.39904143e+05,\n",
       "        1.41079800e+05, 1.42255457e+05, 1.43431113e+05, 1.44606770e+05,\n",
       "        1.45782427e+05, 1.46958083e+05, 1.48133740e+05, 1.49309397e+05,\n",
       "        1.50485053e+05, 1.51660710e+05, 1.52836367e+05, 1.54012023e+05,\n",
       "        1.55187680e+05, 1.56363337e+05, 1.57538993e+05, 1.58714650e+05,\n",
       "        1.59890307e+05, 1.61065963e+05, 1.62241620e+05, 1.63417277e+05,\n",
       "        1.64592933e+05, 1.65768590e+05, 1.66944247e+05, 1.68119903e+05,\n",
       "        1.69295560e+05, 1.70471217e+05, 1.71646873e+05, 1.72822530e+05,\n",
       "        1.73998187e+05, 1.75173843e+05, 1.76349500e+05, 1.77525157e+05,\n",
       "        1.78700813e+05, 1.79876470e+05, 1.81052127e+05, 1.82227783e+05,\n",
       "        1.83403440e+05, 1.84579097e+05, 1.85754753e+05, 1.86930410e+05,\n",
       "        1.88106067e+05, 1.89281723e+05, 1.90457380e+05, 1.91633037e+05,\n",
       "        1.92808693e+05, 1.93984350e+05, 1.95160007e+05, 1.96335663e+05,\n",
       "        1.97511320e+05, 1.98686977e+05, 1.99862633e+05, 2.01038290e+05,\n",
       "        2.02213947e+05, 2.03389603e+05, 2.04565260e+05, 2.05740917e+05,\n",
       "        2.06916573e+05, 2.08092230e+05, 2.09267887e+05, 2.10443543e+05,\n",
       "        2.11619200e+05, 2.12794857e+05, 2.13970513e+05, 2.15146170e+05,\n",
       "        2.16321827e+05, 2.17497483e+05, 2.18673140e+05, 2.19848797e+05,\n",
       "        2.21024453e+05, 2.22200110e+05, 2.23375767e+05, 2.24551423e+05,\n",
       "        2.25727080e+05, 2.26902737e+05, 2.28078393e+05, 2.29254050e+05,\n",
       "        2.30429707e+05, 2.31605363e+05, 2.32781020e+05, 2.33956677e+05,\n",
       "        2.35132333e+05, 2.36307990e+05, 2.37483647e+05, 2.38659303e+05,\n",
       "        2.39834960e+05, 2.41010617e+05, 2.42186273e+05, 2.43361930e+05,\n",
       "        2.44537587e+05, 2.45713243e+05, 2.46888900e+05, 2.48064557e+05,\n",
       "        2.49240213e+05, 2.50415870e+05, 2.51591527e+05, 2.52767183e+05,\n",
       "        2.53942840e+05, 2.55118497e+05, 2.56294153e+05, 2.57469810e+05,\n",
       "        2.58645467e+05, 2.59821123e+05, 2.60996780e+05, 2.62172437e+05,\n",
       "        2.63348093e+05, 2.64523750e+05, 2.65699407e+05, 2.66875063e+05,\n",
       "        2.68050720e+05, 2.69226377e+05, 2.70402033e+05, 2.71577690e+05,\n",
       "        2.72753347e+05, 2.73929003e+05, 2.75104660e+05, 2.76280317e+05,\n",
       "        2.77455973e+05, 2.78631630e+05, 2.79807287e+05, 2.80982943e+05,\n",
       "        2.82158600e+05, 2.83334257e+05, 2.84509913e+05, 2.85685570e+05,\n",
       "        2.86861227e+05, 2.88036883e+05, 2.89212540e+05, 2.90388197e+05,\n",
       "        2.91563853e+05, 2.92739510e+05, 2.93915167e+05, 2.95090823e+05,\n",
       "        2.96266480e+05, 2.97442137e+05, 2.98617793e+05, 2.99793450e+05,\n",
       "        3.00969107e+05, 3.02144763e+05, 3.03320420e+05, 3.04496077e+05,\n",
       "        3.05671733e+05, 3.06847390e+05, 3.08023047e+05, 3.09198703e+05,\n",
       "        3.10374360e+05, 3.11550017e+05, 3.12725673e+05, 3.13901330e+05,\n",
       "        3.15076987e+05, 3.16252643e+05, 3.17428300e+05, 3.18603957e+05,\n",
       "        3.19779613e+05, 3.20955270e+05, 3.22130927e+05, 3.23306583e+05,\n",
       "        3.24482240e+05, 3.25657897e+05, 3.26833553e+05, 3.28009210e+05,\n",
       "        3.29184867e+05, 3.30360523e+05, 3.31536180e+05, 3.32711837e+05,\n",
       "        3.33887493e+05, 3.35063150e+05, 3.36238807e+05, 3.37414463e+05,\n",
       "        3.38590120e+05, 3.39765777e+05, 3.40941433e+05, 3.42117090e+05,\n",
       "        3.43292747e+05, 3.44468403e+05, 3.45644060e+05, 3.46819717e+05,\n",
       "        3.47995373e+05, 3.49171030e+05, 3.50346687e+05, 3.51522343e+05,\n",
       "        3.52698000e+05]),\n",
       " <BarContainer object of 300 artists>)"
      ]
     },
     "execution_count": 6,
     "metadata": {},
     "output_type": "execute_result"
    },
    {
     "data": {
      "image/png": "[encoded data removed]",
      "text/plain": [
       "<Figure size 432x288 with 1 Axes>"
      ]
     },
     "metadata": {
      "needs_background": "light"
     },
     "output_type": "display_data"
    }
   ],
   "source": [
    "plt.hist(list_of_weights, bins=300)"
   ]
  },
  {
   "cell_type": "code",
   "execution_count": 7,
   "id": "03baecdb",
   "metadata": {},
   "outputs": [
    {
     "data": {
      "text/plain": [
       "(array([17759., 14407., 11094.,  8422.,  6262.,  4968.,  3828.,  3172.,\n",
       "         2543.,  2116.,  1794.,  1360.,  1223.,  1258.,  1077.,   899.,\n",
       "          749.,   714.,   624.,   575.,   536.,   416.,   409.,   356.,\n",
       "          292.,   324.,   255.,   266.,   257.,   238.]),\n",
       " array([1.00000000e+00, 7.85666667e+01, 1.56133333e+02, 2.33700000e+02,\n",
       "        3.11266667e+02, 3.88833333e+02, 4.66400000e+02, 5.43966667e+02,\n",
       "        6.21533333e+02, 6.99100000e+02, 7.76666667e+02, 8.54233333e+02,\n",
       "        9.31800000e+02, 1.00936667e+03, 1.08693333e+03, 1.16450000e+03,\n",
       "        1.24206667e+03, 1.31963333e+03, 1.39720000e+03, 1.47476667e+03,\n",
       "        1.55233333e+03, 1.62990000e+03, 1.70746667e+03, 1.78503333e+03,\n",
       "        1.86260000e+03, 1.94016667e+03, 2.01773333e+03, 2.09530000e+03,\n",
       "        2.17286667e+03, 2.25043333e+03, 2.32800000e+03]),\n",
       " <BarContainer object of 30 artists>)"
      ]
     },
     "execution_count": 7,
     "metadata": {},
     "output_type": "execute_result"
    },
    {
     "data": {
      "image/png": "[encoded data removed]",
      "text/plain": [
       "<Figure size 432x288 with 1 Axes>"
      ]
     },
     "metadata": {
      "needs_background": "light"
     },
     "output_type": "display_data"
    }
   ],
   "source": [
    "plt.hist(user_artists[user_artists['weight']<=2328]['weight'], bins = 30)"
   ]
  },
  {
   "cell_type": "code",
   "execution_count": 8,
   "id": "0ea6d9d4",
   "metadata": {},
   "outputs": [
    {
     "data": {
      "text/plain": [
       "userID      0.037282\n",
       "artistID    0.037282\n",
       "weight      0.037282\n",
       "dtype: float64"
      ]
     },
     "execution_count": 8,
     "metadata": {},
     "output_type": "execute_result"
    }
   ],
   "source": [
    "user_artists[user_artists['weight']<=10].count()/92834"
   ]
  },
  {
   "cell_type": "markdown",
   "id": "53ffb00d",
   "metadata": {},
   "source": [
    "## Different options"
   ]
  },
  {
   "cell_type": "markdown",
   "id": "0d7fae5d",
   "metadata": {},
   "source": [
    "### Option 1\n",
    "Since the distribution of weights has a very long tail, we can find a point where most of the tail is where users gave artists a 5-star rating, and then divide the rest of the weights intuitively/mathematically into 1-4 stars.\n",
    "\n",
    "### Option 2\n",
    "Use a users average weighting and do a normal distribution seperator. \n",
    "1. Do a case study on 10 random people to see the distribution of their weights \n",
    "2. Find an algorithm to decipher how close each users distribution of weights is to a normal distribution - if it's close then we can use normal distribution to assign their weights."
   ]
  },
  {
   "cell_type": "markdown",
   "id": "4aa4bdbb",
   "metadata": {},
   "source": [
    "## Investigating users average weight"
   ]
  },
  {
   "cell_type": "code",
   "execution_count": 10,
   "id": "508c3dd1",
   "metadata": {},
   "outputs": [],
   "source": [
    "distribution_of_weights_given = (\n",
    "    user_artists\n",
    "    .groupby('weight', as_index=False)\n",
    "    .agg({'userID': ['mean']})\n",
    ")"
   ]
  },
  {
   "cell_type": "code",
   "execution_count": 11,
   "id": "b9d0e444",
   "metadata": {},
   "outputs": [
    {
     "data": {
      "text/plain": [
       "MultiIndex([('weight',     ''),\n",
       "            ('userID', 'mean')],\n",
       "           )"
      ]
     },
     "execution_count": 11,
     "metadata": {},
     "output_type": "execute_result"
    }
   ],
   "source": [
    "distribution_of_weights_given.columns"
   ]
  },
  {
   "cell_type": "code",
   "execution_count": 12,
   "id": "a3ec17a9",
   "metadata": {},
   "outputs": [],
   "source": [
    "distribution_of_weights_given.columns = ['weight', 'users_avg']"
   ]
  },
  {
   "cell_type": "code",
   "execution_count": 13,
   "id": "c627b5cc",
   "metadata": {},
   "outputs": [
    {
     "data": {
      "image/png": "[encoded data removed]",
      "text/plain": [
       "<Figure size 432x288 with 1 Axes>"
      ]
     },
     "metadata": {
      "needs_background": "light"
     },
     "output_type": "display_data"
    }
   ],
   "source": [
    "data = distribution_of_weights_given['users_avg']\n",
    "plt.hist(data, weights=np.ones(len(data)) / len(data), bins=200)\n",
    "plt.gca().set(\n",
    "    title='Distribution of Average Weights ', \n",
    "    xlabel='Average Weight per User',\n",
    "    ylabel='Frequency'\n",
    ");"
   ]
  },
  {
   "cell_type": "code",
   "execution_count": 14,
   "id": "39201d98",
   "metadata": {},
   "outputs": [
    {
     "data": {
      "text/html": [
       "<div>\n",
       "<style scoped>\n",
       "    .dataframe tbody tr th:only-of-type {\n",
       "        vertical-align: middle;\n",
       "    }\n",
       "\n",
       "    .dataframe tbody tr th {\n",
       "        vertical-align: top;\n",
       "    }\n",
       "\n",
       "    .dataframe thead th {\n",
       "        text-align: right;\n",
       "    }\n",
       "</style>\n",
       "<table border=\"1\" class=\"dataframe\">\n",
       "  <thead>\n",
       "    <tr style=\"text-align: right;\">\n",
       "      <th></th>\n",
       "      <th>userID</th>\n",
       "      <th>artistID</th>\n",
       "      <th>weight</th>\n",
       "    </tr>\n",
       "  </thead>\n",
       "  <tbody>\n",
       "    <tr>\n",
       "      <th>0</th>\n",
       "      <td>2</td>\n",
       "      <td>51</td>\n",
       "      <td>13883</td>\n",
       "    </tr>\n",
       "    <tr>\n",
       "      <th>1</th>\n",
       "      <td>2</td>\n",
       "      <td>52</td>\n",
       "      <td>11690</td>\n",
       "    </tr>\n",
       "    <tr>\n",
       "      <th>2</th>\n",
       "      <td>2</td>\n",
       "      <td>53</td>\n",
       "      <td>11351</td>\n",
       "    </tr>\n",
       "    <tr>\n",
       "      <th>3</th>\n",
       "      <td>2</td>\n",
       "      <td>54</td>\n",
       "      <td>10300</td>\n",
       "    </tr>\n",
       "    <tr>\n",
       "      <th>4</th>\n",
       "      <td>2</td>\n",
       "      <td>55</td>\n",
       "      <td>8983</td>\n",
       "    </tr>\n",
       "    <tr>\n",
       "      <th>5</th>\n",
       "      <td>2</td>\n",
       "      <td>56</td>\n",
       "      <td>6152</td>\n",
       "    </tr>\n",
       "    <tr>\n",
       "      <th>6</th>\n",
       "      <td>2</td>\n",
       "      <td>57</td>\n",
       "      <td>5955</td>\n",
       "    </tr>\n",
       "    <tr>\n",
       "      <th>7</th>\n",
       "      <td>2</td>\n",
       "      <td>58</td>\n",
       "      <td>4616</td>\n",
       "    </tr>\n",
       "    <tr>\n",
       "      <th>8</th>\n",
       "      <td>2</td>\n",
       "      <td>59</td>\n",
       "      <td>4337</td>\n",
       "    </tr>\n",
       "    <tr>\n",
       "      <th>9</th>\n",
       "      <td>2</td>\n",
       "      <td>60</td>\n",
       "      <td>4147</td>\n",
       "    </tr>\n",
       "    <tr>\n",
       "      <th>10</th>\n",
       "      <td>2</td>\n",
       "      <td>61</td>\n",
       "      <td>3923</td>\n",
       "    </tr>\n",
       "    <tr>\n",
       "      <th>11</th>\n",
       "      <td>2</td>\n",
       "      <td>62</td>\n",
       "      <td>3782</td>\n",
       "    </tr>\n",
       "    <tr>\n",
       "      <th>12</th>\n",
       "      <td>2</td>\n",
       "      <td>63</td>\n",
       "      <td>3735</td>\n",
       "    </tr>\n",
       "    <tr>\n",
       "      <th>13</th>\n",
       "      <td>2</td>\n",
       "      <td>64</td>\n",
       "      <td>3644</td>\n",
       "    </tr>\n",
       "    <tr>\n",
       "      <th>14</th>\n",
       "      <td>2</td>\n",
       "      <td>65</td>\n",
       "      <td>3579</td>\n",
       "    </tr>\n",
       "    <tr>\n",
       "      <th>15</th>\n",
       "      <td>2</td>\n",
       "      <td>66</td>\n",
       "      <td>3312</td>\n",
       "    </tr>\n",
       "    <tr>\n",
       "      <th>16</th>\n",
       "      <td>2</td>\n",
       "      <td>67</td>\n",
       "      <td>3301</td>\n",
       "    </tr>\n",
       "    <tr>\n",
       "      <th>17</th>\n",
       "      <td>2</td>\n",
       "      <td>68</td>\n",
       "      <td>2927</td>\n",
       "    </tr>\n",
       "    <tr>\n",
       "      <th>18</th>\n",
       "      <td>2</td>\n",
       "      <td>69</td>\n",
       "      <td>2720</td>\n",
       "    </tr>\n",
       "    <tr>\n",
       "      <th>19</th>\n",
       "      <td>2</td>\n",
       "      <td>70</td>\n",
       "      <td>2686</td>\n",
       "    </tr>\n",
       "    <tr>\n",
       "      <th>20</th>\n",
       "      <td>2</td>\n",
       "      <td>71</td>\n",
       "      <td>2654</td>\n",
       "    </tr>\n",
       "    <tr>\n",
       "      <th>21</th>\n",
       "      <td>2</td>\n",
       "      <td>72</td>\n",
       "      <td>2619</td>\n",
       "    </tr>\n",
       "    <tr>\n",
       "      <th>22</th>\n",
       "      <td>2</td>\n",
       "      <td>73</td>\n",
       "      <td>2584</td>\n",
       "    </tr>\n",
       "    <tr>\n",
       "      <th>23</th>\n",
       "      <td>2</td>\n",
       "      <td>74</td>\n",
       "      <td>2547</td>\n",
       "    </tr>\n",
       "    <tr>\n",
       "      <th>24</th>\n",
       "      <td>2</td>\n",
       "      <td>75</td>\n",
       "      <td>2397</td>\n",
       "    </tr>\n",
       "    <tr>\n",
       "      <th>25</th>\n",
       "      <td>2</td>\n",
       "      <td>76</td>\n",
       "      <td>2382</td>\n",
       "    </tr>\n",
       "    <tr>\n",
       "      <th>26</th>\n",
       "      <td>2</td>\n",
       "      <td>77</td>\n",
       "      <td>2120</td>\n",
       "    </tr>\n",
       "    <tr>\n",
       "      <th>27</th>\n",
       "      <td>2</td>\n",
       "      <td>78</td>\n",
       "      <td>2119</td>\n",
       "    </tr>\n",
       "    <tr>\n",
       "      <th>28</th>\n",
       "      <td>2</td>\n",
       "      <td>79</td>\n",
       "      <td>1990</td>\n",
       "    </tr>\n",
       "    <tr>\n",
       "      <th>29</th>\n",
       "      <td>2</td>\n",
       "      <td>80</td>\n",
       "      <td>1972</td>\n",
       "    </tr>\n",
       "    <tr>\n",
       "      <th>30</th>\n",
       "      <td>2</td>\n",
       "      <td>81</td>\n",
       "      <td>1948</td>\n",
       "    </tr>\n",
       "    <tr>\n",
       "      <th>31</th>\n",
       "      <td>2</td>\n",
       "      <td>82</td>\n",
       "      <td>1868</td>\n",
       "    </tr>\n",
       "    <tr>\n",
       "      <th>32</th>\n",
       "      <td>2</td>\n",
       "      <td>83</td>\n",
       "      <td>1792</td>\n",
       "    </tr>\n",
       "    <tr>\n",
       "      <th>33</th>\n",
       "      <td>2</td>\n",
       "      <td>84</td>\n",
       "      <td>1740</td>\n",
       "    </tr>\n",
       "    <tr>\n",
       "      <th>34</th>\n",
       "      <td>2</td>\n",
       "      <td>85</td>\n",
       "      <td>1638</td>\n",
       "    </tr>\n",
       "    <tr>\n",
       "      <th>35</th>\n",
       "      <td>2</td>\n",
       "      <td>86</td>\n",
       "      <td>1594</td>\n",
       "    </tr>\n",
       "    <tr>\n",
       "      <th>36</th>\n",
       "      <td>2</td>\n",
       "      <td>87</td>\n",
       "      <td>1559</td>\n",
       "    </tr>\n",
       "    <tr>\n",
       "      <th>37</th>\n",
       "      <td>2</td>\n",
       "      <td>88</td>\n",
       "      <td>1553</td>\n",
       "    </tr>\n",
       "    <tr>\n",
       "      <th>38</th>\n",
       "      <td>2</td>\n",
       "      <td>89</td>\n",
       "      <td>1519</td>\n",
       "    </tr>\n",
       "    <tr>\n",
       "      <th>39</th>\n",
       "      <td>2</td>\n",
       "      <td>90</td>\n",
       "      <td>1471</td>\n",
       "    </tr>\n",
       "    <tr>\n",
       "      <th>40</th>\n",
       "      <td>2</td>\n",
       "      <td>91</td>\n",
       "      <td>1438</td>\n",
       "    </tr>\n",
       "    <tr>\n",
       "      <th>41</th>\n",
       "      <td>2</td>\n",
       "      <td>92</td>\n",
       "      <td>1411</td>\n",
       "    </tr>\n",
       "    <tr>\n",
       "      <th>42</th>\n",
       "      <td>2</td>\n",
       "      <td>93</td>\n",
       "      <td>1407</td>\n",
       "    </tr>\n",
       "    <tr>\n",
       "      <th>43</th>\n",
       "      <td>2</td>\n",
       "      <td>94</td>\n",
       "      <td>1373</td>\n",
       "    </tr>\n",
       "    <tr>\n",
       "      <th>44</th>\n",
       "      <td>2</td>\n",
       "      <td>95</td>\n",
       "      <td>1363</td>\n",
       "    </tr>\n",
       "    <tr>\n",
       "      <th>45</th>\n",
       "      <td>2</td>\n",
       "      <td>96</td>\n",
       "      <td>1342</td>\n",
       "    </tr>\n",
       "    <tr>\n",
       "      <th>46</th>\n",
       "      <td>2</td>\n",
       "      <td>97</td>\n",
       "      <td>1337</td>\n",
       "    </tr>\n",
       "    <tr>\n",
       "      <th>47</th>\n",
       "      <td>2</td>\n",
       "      <td>98</td>\n",
       "      <td>1332</td>\n",
       "    </tr>\n",
       "    <tr>\n",
       "      <th>48</th>\n",
       "      <td>2</td>\n",
       "      <td>99</td>\n",
       "      <td>1330</td>\n",
       "    </tr>\n",
       "    <tr>\n",
       "      <th>49</th>\n",
       "      <td>2</td>\n",
       "      <td>100</td>\n",
       "      <td>1315</td>\n",
       "    </tr>\n",
       "  </tbody>\n",
       "</table>\n",
       "</div>"
      ],
      "text/plain": [
       "    userID  artistID  weight\n",
       "0        2        51   13883\n",
       "1        2        52   11690\n",
       "2        2        53   11351\n",
       "3        2        54   10300\n",
       "4        2        55    8983\n",
       "5        2        56    6152\n",
       "6        2        57    5955\n",
       "7        2        58    4616\n",
       "8        2        59    4337\n",
       "9        2        60    4147\n",
       "10       2        61    3923\n",
       "11       2        62    3782\n",
       "12       2        63    3735\n",
       "13       2        64    3644\n",
       "14       2        65    3579\n",
       "15       2        66    3312\n",
       "16       2        67    3301\n",
       "17       2        68    2927\n",
       "18       2        69    2720\n",
       "19       2        70    2686\n",
       "20       2        71    2654\n",
       "21       2        72    2619\n",
       "22       2        73    2584\n",
       "23       2        74    2547\n",
       "24       2        75    2397\n",
       "25       2        76    2382\n",
       "26       2        77    2120\n",
       "27       2        78    2119\n",
       "28       2        79    1990\n",
       "29       2        80    1972\n",
       "30       2        81    1948\n",
       "31       2        82    1868\n",
       "32       2        83    1792\n",
       "33       2        84    1740\n",
       "34       2        85    1638\n",
       "35       2        86    1594\n",
       "36       2        87    1559\n",
       "37       2        88    1553\n",
       "38       2        89    1519\n",
       "39       2        90    1471\n",
       "40       2        91    1438\n",
       "41       2        92    1411\n",
       "42       2        93    1407\n",
       "43       2        94    1373\n",
       "44       2        95    1363\n",
       "45       2        96    1342\n",
       "46       2        97    1337\n",
       "47       2        98    1332\n",
       "48       2        99    1330\n",
       "49       2       100    1315"
      ]
     },
     "execution_count": 14,
     "metadata": {},
     "output_type": "execute_result"
    }
   ],
   "source": [
    "user_artists[user_artists['userID']==2]"
   ]
  },
  {
   "cell_type": "code",
   "execution_count": 31,
   "id": "a610b1b7",
   "metadata": {},
   "outputs": [
    {
     "data": {
      "image/png": "[encoded data removed]",
      "text/plain": [
       "<Figure size 432x288 with 1 Axes>"
      ]
     },
     "metadata": {
      "needs_background": "light"
     },
     "output_type": "display_data"
    }
   ],
   "source": [
    "data = user_artists[user_artists['userID']==6]['weight']\n",
    "plt.hist(data, weights=np.ones(len(data)) / len(data), bins=range(0,42))\n",
    "plt.gca().set(\n",
    "    title='Distribution of Weights ', \n",
    "    xlabel='Number of Users',\n",
    "    ylabel='Frequency'\n",
    ");"
   ]
  },
  {
   "cell_type": "code",
   "execution_count": 27,
   "id": "19368dc4",
   "metadata": {},
   "outputs": [
    {
     "data": {
      "text/plain": [
       "41"
      ]
     },
     "execution_count": 27,
     "metadata": {},
     "output_type": "execute_result"
    }
   ],
   "source": [
    "user_artists[user_artists['userID']==6]['weight'].max()"
   ]
  },
  {
   "cell_type": "code",
   "execution_count": 29,
   "id": "ee5f4cce",
   "metadata": {},
   "outputs": [
    {
     "data": {
      "text/plain": [
       "13"
      ]
     },
     "execution_count": 29,
     "metadata": {},
     "output_type": "execute_result"
    }
   ],
   "source": [
    "user_artists[user_artists['userID']==6]['weight'].min()"
   ]
  },
  {
   "cell_type": "code",
   "execution_count": 32,
   "id": "bda4fe68",
   "metadata": {},
   "outputs": [],
   "source": [
    "user6 = user_artists[user_artists['userID']==6]"
   ]
  },
  {
   "cell_type": "code",
   "execution_count": 34,
   "id": "c37752ed",
   "metadata": {
    "scrolled": true
   },
   "outputs": [
    {
     "data": {
      "text/plain": [
       "userID      0.66\n",
       "artistID    0.66\n",
       "weight      0.66\n",
       "dtype: float64"
      ]
     },
     "execution_count": 34,
     "metadata": {},
     "output_type": "execute_result"
    }
   ],
   "source": [
    "user6[user6['weight']<20].count()/len(user6)"
   ]
  },
  {
   "cell_type": "code",
   "execution_count": 35,
   "id": "f2b2c229",
   "metadata": {},
   "outputs": [
    {
     "data": {
      "text/plain": [
       "userID      0.034524\n",
       "artistID    0.034524\n",
       "weight      0.034524\n",
       "dtype: float64"
      ]
     },
     "execution_count": 35,
     "metadata": {},
     "output_type": "execute_result"
    }
   ],
   "source": [
    "user_artists[user_artists['weight']<10].count()/len(user_artists)"
   ]
  },
  {
   "cell_type": "code",
   "execution_count": 37,
   "id": "e47920db",
   "metadata": {},
   "outputs": [
    {
     "data": {
      "image/png": "[encoded data removed]",
      "text/plain": [
       "<Figure size 432x288 with 1 Axes>"
      ]
     },
     "metadata": {
      "needs_background": "light"
     },
     "output_type": "display_data"
    }
   ],
   "source": [
    "data = user_artists[user_artists['weight']<10]['weight']\n",
    "plt.hist(data, weights=np.ones(len(data)) / len(data), bins=range(0,11))\n",
    "plt.gca().set(\n",
    "    title='Distribution of Weights ', \n",
    "    xlabel='Number of Users',\n",
    "    ylabel='Frequency'\n",
    ");"
   ]
  },
  {
   "cell_type": "markdown",
   "id": "7796e153",
   "metadata": {},
   "source": [
    "## User-based option"
   ]
  },
  {
   "cell_type": "markdown",
   "id": "9547a0d6",
   "metadata": {},
   "source": [
    "There are different methods we can try to use to identify the star rating for each user-artist match.\n",
    "\n",
    "#### Option 1:\n",
    "Assume equal distribution of ratings, and assign the bottom 20% 1-star, the next 20% 2-star, the next 20% 3-star, etc.\n",
    "\n",
    "The drawbacks of this option:\n",
    "- It is not user specific, the percentages (20%) will be the same for all users.\n",
    "- It is not accurately representative of the weights.\n",
    "\n",
    "#### Option 2:\n",
    "Assume that the opinions of users follow a normal distribution, where 1 and 5 star ratings occur less frequently, and 3 star ratings occur most frequently. \n",
    "\n",
    "The drawbacks of this option:\n",
    "- Since the distribution (upon brief analysis) of each user's weights follow more of a gamma/exponetial distribution, the normal distribution wil have to be created as a standard guideline and will not be user-specific."
   ]
  },
  {
   "cell_type": "code",
   "execution_count": 39,
   "id": "439d57e0",
   "metadata": {},
   "outputs": [
    {
     "data": {
      "text/plain": [
       "20.22"
      ]
     },
     "execution_count": 39,
     "metadata": {},
     "output_type": "execute_result"
    }
   ],
   "source": [
    "user6['weight'].mean()"
   ]
  },
  {
   "cell_type": "code",
   "execution_count": 57,
   "id": "33eeb888",
   "metadata": {},
   "outputs": [],
   "source": [
    "sd = np.std(user6['weight'])"
   ]
  },
  {
   "cell_type": "code",
   "execution_count": 58,
   "id": "4b8b08ed",
   "metadata": {},
   "outputs": [
    {
     "data": {
      "image/png": "[encoded data removed]",
      "text/plain": [
       "<Figure size 432x288 with 1 Axes>"
      ]
     },
     "metadata": {
      "needs_background": "light"
     },
     "output_type": "display_data"
    }
   ],
   "source": [
    "data = user6['weight']\n",
    "plt.hist(data, weights=np.ones(len(data)) / len(data), bins=range(0,50))\n",
    "plt.axvline(data.mean(), color='red', linestyle='dashed', linewidth=1)\n",
    "plt.axvline(data.mean() - (2.5 * sd), color='k', linestyle='dashed', linewidth=1)\n",
    "plt.axvline(data.mean() - (1.5 * sd), color='k', linestyle='dashed', linewidth=1)\n",
    "plt.axvline(data.mean() - (0.5 * sd), color='k', linestyle='dashed', linewidth=1)\n",
    "plt.axvline(data.mean() + (0.5 * sd), color='k', linestyle='dashed', linewidth=1)\n",
    "plt.axvline(data.mean() + (1.5 * sd), color='k', linestyle='dashed', linewidth=1)\n",
    "plt.axvline(data.mean() + (2.5 * sd), color='k', linestyle='dashed', linewidth=1)\n",
    "plt.gca().set(\n",
    "    title='Distribution of Weights ', \n",
    "    xlabel='Number of Users',\n",
    "    ylabel='Frequency'\n",
    ");"
   ]
  },
  {
   "cell_type": "code",
   "execution_count": 59,
   "id": "c5c64367",
   "metadata": {},
   "outputs": [
    {
     "data": {
      "image/png": "[encoded data removed]",
      "text/plain": [
       "<Figure size 432x288 with 1 Axes>"
      ]
     },
     "metadata": {
      "needs_background": "light"
     },
     "output_type": "display_data"
    }
   ],
   "source": [
    "user7 = user_artists[user_artists['userID']==7]\n",
    "mean = user7['weight'].mean()\n",
    "sd = np.std(user7['weight'])\n",
    "\n",
    "data = user7['weight']\n",
    "plt.hist(data, weights=np.ones(len(data)) / len(data), bins=100)\n",
    "plt.axvline(data.mean(), color='red', linestyle='dashed', linewidth=1)\n",
    "plt.axvline(data.mean() - (2.5 * sd), color='k', linestyle='dashed', linewidth=1)\n",
    "plt.axvline(data.mean() - (1.5 * sd), color='k', linestyle='dashed', linewidth=1)\n",
    "plt.axvline(data.mean() - (0.5 * sd), color='k', linestyle='dashed', linewidth=1)\n",
    "plt.axvline(data.mean() + (0.5 * sd), color='k', linestyle='dashed', linewidth=1)\n",
    "plt.axvline(data.mean() + (1.5 * sd), color='k', linestyle='dashed', linewidth=1)\n",
    "plt.axvline(data.mean() + (2.5 * sd), color='k', linestyle='dashed', linewidth=1)\n",
    "plt.gca().set(\n",
    "    title='Distribution of Weights ', \n",
    "    xlabel='Number of Users',\n",
    "    ylabel='Frequency'\n",
    ");"
   ]
  },
  {
   "cell_type": "markdown",
   "id": "9820b832",
   "metadata": {},
   "source": [
    "## Removing outliers for user 7 to adjust standard deviation"
   ]
  },
  {
   "cell_type": "code",
   "execution_count": 78,
   "id": "e658f6fb",
   "metadata": {},
   "outputs": [],
   "source": [
    "mean = user7['weight'].mean()\n",
    "sd = np.std(user7['weight'])"
   ]
  },
  {
   "cell_type": "code",
   "execution_count": 77,
   "id": "cec33631",
   "metadata": {},
   "outputs": [
    {
     "data": {
      "text/html": [
       "<div>\n",
       "<style scoped>\n",
       "    .dataframe tbody tr th:only-of-type {\n",
       "        vertical-align: middle;\n",
       "    }\n",
       "\n",
       "    .dataframe tbody tr th {\n",
       "        vertical-align: top;\n",
       "    }\n",
       "\n",
       "    .dataframe thead th {\n",
       "        text-align: right;\n",
       "    }\n",
       "</style>\n",
       "<table border=\"1\" class=\"dataframe\">\n",
       "  <thead>\n",
       "    <tr style=\"text-align: right;\">\n",
       "      <th></th>\n",
       "      <th>userID</th>\n",
       "      <th>artistID</th>\n",
       "      <th>weight</th>\n",
       "    </tr>\n",
       "  </thead>\n",
       "  <tbody>\n",
       "    <tr>\n",
       "      <th>250</th>\n",
       "      <td>7</td>\n",
       "      <td>55</td>\n",
       "      <td>3151</td>\n",
       "    </tr>\n",
       "    <tr>\n",
       "      <th>251</th>\n",
       "      <td>7</td>\n",
       "      <td>67</td>\n",
       "      <td>2540</td>\n",
       "    </tr>\n",
       "    <tr>\n",
       "      <th>252</th>\n",
       "      <td>7</td>\n",
       "      <td>89</td>\n",
       "      <td>5846</td>\n",
       "    </tr>\n",
       "    <tr>\n",
       "      <th>253</th>\n",
       "      <td>7</td>\n",
       "      <td>257</td>\n",
       "      <td>5188</td>\n",
       "    </tr>\n",
       "    <tr>\n",
       "      <th>255</th>\n",
       "      <td>7</td>\n",
       "      <td>289</td>\n",
       "      <td>11112</td>\n",
       "    </tr>\n",
       "    <tr>\n",
       "      <th>256</th>\n",
       "      <td>7</td>\n",
       "      <td>290</td>\n",
       "      <td>6266</td>\n",
       "    </tr>\n",
       "    <tr>\n",
       "      <th>257</th>\n",
       "      <td>7</td>\n",
       "      <td>291</td>\n",
       "      <td>5379</td>\n",
       "    </tr>\n",
       "    <tr>\n",
       "      <th>258</th>\n",
       "      <td>7</td>\n",
       "      <td>292</td>\n",
       "      <td>4201</td>\n",
       "    </tr>\n",
       "    <tr>\n",
       "      <th>259</th>\n",
       "      <td>7</td>\n",
       "      <td>293</td>\n",
       "      <td>4059</td>\n",
       "    </tr>\n",
       "    <tr>\n",
       "      <th>260</th>\n",
       "      <td>7</td>\n",
       "      <td>294</td>\n",
       "      <td>3251</td>\n",
       "    </tr>\n",
       "    <tr>\n",
       "      <th>261</th>\n",
       "      <td>7</td>\n",
       "      <td>295</td>\n",
       "      <td>2852</td>\n",
       "    </tr>\n",
       "    <tr>\n",
       "      <th>262</th>\n",
       "      <td>7</td>\n",
       "      <td>296</td>\n",
       "      <td>2356</td>\n",
       "    </tr>\n",
       "    <tr>\n",
       "      <th>263</th>\n",
       "      <td>7</td>\n",
       "      <td>297</td>\n",
       "      <td>1848</td>\n",
       "    </tr>\n",
       "    <tr>\n",
       "      <th>264</th>\n",
       "      <td>7</td>\n",
       "      <td>298</td>\n",
       "      <td>1802</td>\n",
       "    </tr>\n",
       "    <tr>\n",
       "      <th>265</th>\n",
       "      <td>7</td>\n",
       "      <td>299</td>\n",
       "      <td>1780</td>\n",
       "    </tr>\n",
       "    <tr>\n",
       "      <th>266</th>\n",
       "      <td>7</td>\n",
       "      <td>300</td>\n",
       "      <td>1747</td>\n",
       "    </tr>\n",
       "    <tr>\n",
       "      <th>267</th>\n",
       "      <td>7</td>\n",
       "      <td>301</td>\n",
       "      <td>1553</td>\n",
       "    </tr>\n",
       "    <tr>\n",
       "      <th>268</th>\n",
       "      <td>7</td>\n",
       "      <td>302</td>\n",
       "      <td>1490</td>\n",
       "    </tr>\n",
       "    <tr>\n",
       "      <th>269</th>\n",
       "      <td>7</td>\n",
       "      <td>303</td>\n",
       "      <td>1426</td>\n",
       "    </tr>\n",
       "    <tr>\n",
       "      <th>270</th>\n",
       "      <td>7</td>\n",
       "      <td>304</td>\n",
       "      <td>1312</td>\n",
       "    </tr>\n",
       "    <tr>\n",
       "      <th>271</th>\n",
       "      <td>7</td>\n",
       "      <td>305</td>\n",
       "      <td>1169</td>\n",
       "    </tr>\n",
       "    <tr>\n",
       "      <th>272</th>\n",
       "      <td>7</td>\n",
       "      <td>306</td>\n",
       "      <td>1164</td>\n",
       "    </tr>\n",
       "    <tr>\n",
       "      <th>273</th>\n",
       "      <td>7</td>\n",
       "      <td>307</td>\n",
       "      <td>1162</td>\n",
       "    </tr>\n",
       "    <tr>\n",
       "      <th>274</th>\n",
       "      <td>7</td>\n",
       "      <td>308</td>\n",
       "      <td>1082</td>\n",
       "    </tr>\n",
       "    <tr>\n",
       "      <th>275</th>\n",
       "      <td>7</td>\n",
       "      <td>309</td>\n",
       "      <td>1027</td>\n",
       "    </tr>\n",
       "    <tr>\n",
       "      <th>276</th>\n",
       "      <td>7</td>\n",
       "      <td>310</td>\n",
       "      <td>962</td>\n",
       "    </tr>\n",
       "    <tr>\n",
       "      <th>277</th>\n",
       "      <td>7</td>\n",
       "      <td>311</td>\n",
       "      <td>960</td>\n",
       "    </tr>\n",
       "    <tr>\n",
       "      <th>278</th>\n",
       "      <td>7</td>\n",
       "      <td>312</td>\n",
       "      <td>926</td>\n",
       "    </tr>\n",
       "    <tr>\n",
       "      <th>279</th>\n",
       "      <td>7</td>\n",
       "      <td>313</td>\n",
       "      <td>900</td>\n",
       "    </tr>\n",
       "    <tr>\n",
       "      <th>280</th>\n",
       "      <td>7</td>\n",
       "      <td>314</td>\n",
       "      <td>868</td>\n",
       "    </tr>\n",
       "    <tr>\n",
       "      <th>281</th>\n",
       "      <td>7</td>\n",
       "      <td>315</td>\n",
       "      <td>834</td>\n",
       "    </tr>\n",
       "    <tr>\n",
       "      <th>282</th>\n",
       "      <td>7</td>\n",
       "      <td>316</td>\n",
       "      <td>809</td>\n",
       "    </tr>\n",
       "    <tr>\n",
       "      <th>283</th>\n",
       "      <td>7</td>\n",
       "      <td>317</td>\n",
       "      <td>773</td>\n",
       "    </tr>\n",
       "    <tr>\n",
       "      <th>284</th>\n",
       "      <td>7</td>\n",
       "      <td>318</td>\n",
       "      <td>753</td>\n",
       "    </tr>\n",
       "    <tr>\n",
       "      <th>285</th>\n",
       "      <td>7</td>\n",
       "      <td>319</td>\n",
       "      <td>741</td>\n",
       "    </tr>\n",
       "    <tr>\n",
       "      <th>286</th>\n",
       "      <td>7</td>\n",
       "      <td>320</td>\n",
       "      <td>719</td>\n",
       "    </tr>\n",
       "    <tr>\n",
       "      <th>287</th>\n",
       "      <td>7</td>\n",
       "      <td>321</td>\n",
       "      <td>674</td>\n",
       "    </tr>\n",
       "    <tr>\n",
       "      <th>288</th>\n",
       "      <td>7</td>\n",
       "      <td>322</td>\n",
       "      <td>667</td>\n",
       "    </tr>\n",
       "    <tr>\n",
       "      <th>289</th>\n",
       "      <td>7</td>\n",
       "      <td>323</td>\n",
       "      <td>646</td>\n",
       "    </tr>\n",
       "    <tr>\n",
       "      <th>290</th>\n",
       "      <td>7</td>\n",
       "      <td>324</td>\n",
       "      <td>605</td>\n",
       "    </tr>\n",
       "    <tr>\n",
       "      <th>291</th>\n",
       "      <td>7</td>\n",
       "      <td>325</td>\n",
       "      <td>599</td>\n",
       "    </tr>\n",
       "    <tr>\n",
       "      <th>292</th>\n",
       "      <td>7</td>\n",
       "      <td>326</td>\n",
       "      <td>593</td>\n",
       "    </tr>\n",
       "    <tr>\n",
       "      <th>293</th>\n",
       "      <td>7</td>\n",
       "      <td>327</td>\n",
       "      <td>587</td>\n",
       "    </tr>\n",
       "    <tr>\n",
       "      <th>294</th>\n",
       "      <td>7</td>\n",
       "      <td>328</td>\n",
       "      <td>571</td>\n",
       "    </tr>\n",
       "    <tr>\n",
       "      <th>295</th>\n",
       "      <td>7</td>\n",
       "      <td>329</td>\n",
       "      <td>534</td>\n",
       "    </tr>\n",
       "    <tr>\n",
       "      <th>296</th>\n",
       "      <td>7</td>\n",
       "      <td>330</td>\n",
       "      <td>527</td>\n",
       "    </tr>\n",
       "    <tr>\n",
       "      <th>297</th>\n",
       "      <td>7</td>\n",
       "      <td>331</td>\n",
       "      <td>516</td>\n",
       "    </tr>\n",
       "    <tr>\n",
       "      <th>298</th>\n",
       "      <td>7</td>\n",
       "      <td>332</td>\n",
       "      <td>510</td>\n",
       "    </tr>\n",
       "    <tr>\n",
       "      <th>299</th>\n",
       "      <td>7</td>\n",
       "      <td>333</td>\n",
       "      <td>498</td>\n",
       "    </tr>\n",
       "  </tbody>\n",
       "</table>\n",
       "</div>"
      ],
      "text/plain": [
       "     userID  artistID  weight\n",
       "250       7        55    3151\n",
       "251       7        67    2540\n",
       "252       7        89    5846\n",
       "253       7       257    5188\n",
       "255       7       289   11112\n",
       "256       7       290    6266\n",
       "257       7       291    5379\n",
       "258       7       292    4201\n",
       "259       7       293    4059\n",
       "260       7       294    3251\n",
       "261       7       295    2852\n",
       "262       7       296    2356\n",
       "263       7       297    1848\n",
       "264       7       298    1802\n",
       "265       7       299    1780\n",
       "266       7       300    1747\n",
       "267       7       301    1553\n",
       "268       7       302    1490\n",
       "269       7       303    1426\n",
       "270       7       304    1312\n",
       "271       7       305    1169\n",
       "272       7       306    1164\n",
       "273       7       307    1162\n",
       "274       7       308    1082\n",
       "275       7       309    1027\n",
       "276       7       310     962\n",
       "277       7       311     960\n",
       "278       7       312     926\n",
       "279       7       313     900\n",
       "280       7       314     868\n",
       "281       7       315     834\n",
       "282       7       316     809\n",
       "283       7       317     773\n",
       "284       7       318     753\n",
       "285       7       319     741\n",
       "286       7       320     719\n",
       "287       7       321     674\n",
       "288       7       322     667\n",
       "289       7       323     646\n",
       "290       7       324     605\n",
       "291       7       325     599\n",
       "292       7       326     593\n",
       "293       7       327     587\n",
       "294       7       328     571\n",
       "295       7       329     534\n",
       "296       7       330     527\n",
       "297       7       331     516\n",
       "298       7       332     510\n",
       "299       7       333     498"
      ]
     },
     "execution_count": 77,
     "metadata": {},
     "output_type": "execute_result"
    }
   ],
   "source": [
    "user7_final"
   ]
  },
  {
   "cell_type": "code",
   "execution_count": 79,
   "id": "efd15aae",
   "metadata": {},
   "outputs": [],
   "source": [
    "user7_almostfinal = user7[abs(user7['weight']-mean)<(2*sd)]\n",
    "mean = user7_almostfinal['weight'].mean()\n",
    "sd = np.std(user7_almostfinal['weight'])"
   ]
  },
  {
   "cell_type": "code",
   "execution_count": 81,
   "id": "35601a4d",
   "metadata": {},
   "outputs": [],
   "source": [
    "user7_final = user7_almostfinal[abs(user7_almostfinal['weight']-mean)<(2*sd)]\n",
    "mean = user7_final['weight'].mean()\n",
    "sd = np.std(user7_final['weight'])"
   ]
  },
  {
   "cell_type": "code",
   "execution_count": 82,
   "id": "24e0daf6",
   "metadata": {},
   "outputs": [
    {
     "data": {
      "text/plain": [
       "(array([[47.,  0.,  0.,  0.,  0.,  0.,  0.,  0.,  0.,  0.,  0.,  0.,  0.,\n",
       "          0.,  0.,  0.,  0.,  0.,  0.,  0.,  0.,  0.,  0.,  0.,  0.,  0.,\n",
       "          0.,  0.,  0.,  0.,  0.,  0.,  0.,  0.,  0.,  0.,  0.,  0.,  0.,\n",
       "          0.,  0.,  0.,  0.,  0.,  0.,  0.,  0.,  0.,  0.,  0.,  0.,  0.,\n",
       "          0.,  0.,  0.,  0.,  0.,  0.,  0.,  0.,  0.,  0.,  0.,  0.,  0.,\n",
       "          0.,  0.,  0.,  0.,  0.,  0.,  0.,  0.,  0.,  0.,  0.,  0.,  0.,\n",
       "          0.,  0.,  0.,  0.,  0.,  0.,  0.,  0.,  0.,  0.,  0.,  0.,  0.,\n",
       "          0.,  0.,  0.,  0.,  0.,  0.,  0.,  0.,  0.],\n",
       "        [ 1.,  2.,  0.,  0.,  9., 35.,  0.,  0.,  0.,  0.,  0.,  0.,  0.,\n",
       "          0.,  0.,  0.,  0.,  0.,  0.,  0.,  0.,  0.,  0.,  0.,  0.,  0.,\n",
       "          0.,  0.,  0.,  0.,  0.,  0.,  0.,  0.,  0.,  0.,  0.,  0.,  0.,\n",
       "          0.,  0.,  0.,  0.,  0.,  0.,  0.,  0.,  0.,  0.,  0.,  0.,  0.,\n",
       "          0.,  0.,  0.,  0.,  0.,  0.,  0.,  0.,  0.,  0.,  0.,  0.,  0.,\n",
       "          0.,  0.,  0.,  0.,  0.,  0.,  0.,  0.,  0.,  0.,  0.,  0.,  0.,\n",
       "          0.,  0.,  0.,  0.,  0.,  0.,  0.,  0.,  0.,  0.,  0.,  0.,  0.,\n",
       "          0.,  0.,  0.,  0.,  0.,  0.,  0.,  0.,  0.],\n",
       "        [ 0.,  0.,  0.,  0.,  0.,  0.,  0.,  0.,  4.,  3.,  4.,  2.,  3.,\n",
       "          2.,  2.,  2.,  2.,  1.,  1.,  3.,  0.,  0.,  1.,  0.,  1.,  1.,\n",
       "          1.,  0.,  0.,  1.,  2.,  1.,  0.,  0.,  0.,  0.,  0.,  0.,  0.,\n",
       "          0.,  1.,  0.,  0.,  1.,  0.,  0.,  0.,  0.,  1.,  0.,  0.,  0.,\n",
       "          0.,  1.,  0.,  1.,  0.,  0.,  0.,  0.,  0.,  0.,  0.,  0.,  0.,\n",
       "          0.,  0.,  0.,  0.,  1.,  0.,  1.,  0.,  0.,  0.,  0.,  0.,  0.,\n",
       "          0.,  0.,  0.,  0.,  0.,  0.,  0.,  0.,  0.,  0.,  1.,  0.,  0.,\n",
       "          0.,  1.,  0.,  0.,  0.,  0.,  0.,  0.,  1.]]),\n",
       " array([   7.  ,   65.39,  123.78,  182.17,  240.56,  298.95,  357.34,\n",
       "         415.73,  474.12,  532.51,  590.9 ,  649.29,  707.68,  766.07,\n",
       "         824.46,  882.85,  941.24,  999.63, 1058.02, 1116.41, 1174.8 ,\n",
       "        1233.19, 1291.58, 1349.97, 1408.36, 1466.75, 1525.14, 1583.53,\n",
       "        1641.92, 1700.31, 1758.7 , 1817.09, 1875.48, 1933.87, 1992.26,\n",
       "        2050.65, 2109.04, 2167.43, 2225.82, 2284.21, 2342.6 , 2400.99,\n",
       "        2459.38, 2517.77, 2576.16, 2634.55, 2692.94, 2751.33, 2809.72,\n",
       "        2868.11, 2926.5 , 2984.89, 3043.28, 3101.67, 3160.06, 3218.45,\n",
       "        3276.84, 3335.23, 3393.62, 3452.01, 3510.4 , 3568.79, 3627.18,\n",
       "        3685.57, 3743.96, 3802.35, 3860.74, 3919.13, 3977.52, 4035.91,\n",
       "        4094.3 , 4152.69, 4211.08, 4269.47, 4327.86, 4386.25, 4444.64,\n",
       "        4503.03, 4561.42, 4619.81, 4678.2 , 4736.59, 4794.98, 4853.37,\n",
       "        4911.76, 4970.15, 5028.54, 5086.93, 5145.32, 5203.71, 5262.1 ,\n",
       "        5320.49, 5378.88, 5437.27, 5495.66, 5554.05, 5612.44, 5670.83,\n",
       "        5729.22, 5787.61, 5846.  ]),\n",
       " <a list of 3 BarContainer objects>)"
      ]
     },
     "execution_count": 82,
     "metadata": {},
     "output_type": "execute_result"
    },
    {
     "data": {
      "image/png": "[encoded data removed]",
      "text/plain": [
       "<Figure size 432x288 with 1 Axes>"
      ]
     },
     "metadata": {
      "needs_background": "light"
     },
     "output_type": "display_data"
    }
   ],
   "source": [
    "plt.hist(user7_final, bins=100)"
   ]
  },
  {
   "cell_type": "code",
   "execution_count": 83,
   "id": "3c0fa6cc",
   "metadata": {},
   "outputs": [
    {
     "data": {
      "image/png": "[encoded data removed]",
      "text/plain": [
       "<Figure size 432x288 with 1 Axes>"
      ]
     },
     "metadata": {
      "needs_background": "light"
     },
     "output_type": "display_data"
    }
   ],
   "source": [
    "data = user7_final['weight']\n",
    "mean = data.mean()\n",
    "sd = np.std(data)\n",
    "\n",
    "plt.hist(data, weights=np.ones(len(data)) / len(data), bins=100)\n",
    "plt.axvline(data.mean(), color='red', linestyle='dashed', linewidth=1)\n",
    "plt.axvline(data.mean() - (2.5 * sd), color='k', linestyle='dashed', linewidth=1)\n",
    "plt.axvline(data.mean() - (1.5 * sd), color='k', linestyle='dashed', linewidth=1)\n",
    "plt.axvline(data.mean() - (0.5 * sd), color='k', linestyle='dashed', linewidth=1)\n",
    "plt.axvline(data.mean() + (0.5 * sd), color='k', linestyle='dashed', linewidth=1)\n",
    "plt.axvline(data.mean() + (1.5 * sd), color='k', linestyle='dashed', linewidth=1)\n",
    "plt.axvline(data.mean() + (2.5 * sd), color='k', linestyle='dashed', linewidth=1)\n",
    "plt.gca().set(\n",
    "    title='Distribution of Weights ', \n",
    "    xlabel='Number of Users',\n",
    "    ylabel='Frequency'\n",
    ");"
   ]
  },
  {
   "cell_type": "markdown",
   "id": "b949da06",
   "metadata": {},
   "source": [
    "# Creating a loop to add star-ratings (without excluding outliers)"
   ]
  },
  {
   "cell_type": "code",
   "execution_count": 118,
   "id": "3734e40e",
   "metadata": {},
   "outputs": [],
   "source": [
    "## Creating a dictionary to discover each users mean and standard deviation\n",
    "means = {}\n",
    "stds = {}\n",
    "for userID in user_artists.userID.unique():\n",
    "    user_data = user_artists[user_artists['userID']==userID]\n",
    "    user_mean = user_data['weight'].mean()\n",
    "    user_std = np.std(user_data['weight'])\n",
    "    means[userID] = user_mean\n",
    "    stds[userID] = user_std"
   ]
  },
  {
   "cell_type": "code",
   "execution_count": 123,
   "id": "09ef9276",
   "metadata": {},
   "outputs": [],
   "source": [
    "user_artists['rating'] = 0\n",
    "user_artists['mean'] = 0\n",
    "user_artists['std'] = 0"
   ]
  },
  {
   "cell_type": "code",
   "execution_count": 124,
   "id": "85fa2715",
   "metadata": {},
   "outputs": [],
   "source": [
    "def find_mean(row):\n",
    "    return means[row['userID']]\n",
    "\n",
    "def find_std(row):\n",
    "    return stds[row['userID']]"
   ]
  },
  {
   "cell_type": "code",
   "execution_count": 125,
   "id": "18c8c160",
   "metadata": {},
   "outputs": [],
   "source": [
    "user_artists['mean'] = user_artists.apply(lambda row: find_mean(row), axis=1)"
   ]
  },
  {
   "cell_type": "code",
   "execution_count": 127,
   "id": "377a59a3",
   "metadata": {},
   "outputs": [],
   "source": [
    "user_artists['std'] = user_artists.apply(lambda row: find_std(row), axis=1)"
   ]
  },
  {
   "cell_type": "code",
   "execution_count": 128,
   "id": "bf9b2cc6",
   "metadata": {},
   "outputs": [
    {
     "data": {
      "text/html": [
       "<div>\n",
       "<style scoped>\n",
       "    .dataframe tbody tr th:only-of-type {\n",
       "        vertical-align: middle;\n",
       "    }\n",
       "\n",
       "    .dataframe tbody tr th {\n",
       "        vertical-align: top;\n",
       "    }\n",
       "\n",
       "    .dataframe thead th {\n",
       "        text-align: right;\n",
       "    }\n",
       "</style>\n",
       "<table border=\"1\" class=\"dataframe\">\n",
       "  <thead>\n",
       "    <tr style=\"text-align: right;\">\n",
       "      <th></th>\n",
       "      <th>userID</th>\n",
       "      <th>artistID</th>\n",
       "      <th>weight</th>\n",
       "      <th>rating</th>\n",
       "      <th>mean</th>\n",
       "      <th>std</th>\n",
       "    </tr>\n",
       "  </thead>\n",
       "  <tbody>\n",
       "    <tr>\n",
       "      <th>0</th>\n",
       "      <td>2</td>\n",
       "      <td>51</td>\n",
       "      <td>13883</td>\n",
       "      <td>3</td>\n",
       "      <td>3374.74</td>\n",
       "      <td>2908.622154</td>\n",
       "    </tr>\n",
       "    <tr>\n",
       "      <th>1</th>\n",
       "      <td>2</td>\n",
       "      <td>52</td>\n",
       "      <td>11690</td>\n",
       "      <td>3</td>\n",
       "      <td>3374.74</td>\n",
       "      <td>2908.622154</td>\n",
       "    </tr>\n",
       "    <tr>\n",
       "      <th>2</th>\n",
       "      <td>2</td>\n",
       "      <td>53</td>\n",
       "      <td>11351</td>\n",
       "      <td>3</td>\n",
       "      <td>3374.74</td>\n",
       "      <td>2908.622154</td>\n",
       "    </tr>\n",
       "    <tr>\n",
       "      <th>3</th>\n",
       "      <td>2</td>\n",
       "      <td>54</td>\n",
       "      <td>10300</td>\n",
       "      <td>3</td>\n",
       "      <td>3374.74</td>\n",
       "      <td>2908.622154</td>\n",
       "    </tr>\n",
       "    <tr>\n",
       "      <th>4</th>\n",
       "      <td>2</td>\n",
       "      <td>55</td>\n",
       "      <td>8983</td>\n",
       "      <td>3</td>\n",
       "      <td>3374.74</td>\n",
       "      <td>2908.622154</td>\n",
       "    </tr>\n",
       "    <tr>\n",
       "      <th>...</th>\n",
       "      <td>...</td>\n",
       "      <td>...</td>\n",
       "      <td>...</td>\n",
       "      <td>...</td>\n",
       "      <td>...</td>\n",
       "      <td>...</td>\n",
       "    </tr>\n",
       "    <tr>\n",
       "      <th>92829</th>\n",
       "      <td>2100</td>\n",
       "      <td>18726</td>\n",
       "      <td>337</td>\n",
       "      <td>3</td>\n",
       "      <td>617.54</td>\n",
       "      <td>366.972163</td>\n",
       "    </tr>\n",
       "    <tr>\n",
       "      <th>92830</th>\n",
       "      <td>2100</td>\n",
       "      <td>18727</td>\n",
       "      <td>297</td>\n",
       "      <td>3</td>\n",
       "      <td>617.54</td>\n",
       "      <td>366.972163</td>\n",
       "    </tr>\n",
       "    <tr>\n",
       "      <th>92831</th>\n",
       "      <td>2100</td>\n",
       "      <td>18728</td>\n",
       "      <td>281</td>\n",
       "      <td>3</td>\n",
       "      <td>617.54</td>\n",
       "      <td>366.972163</td>\n",
       "    </tr>\n",
       "    <tr>\n",
       "      <th>92832</th>\n",
       "      <td>2100</td>\n",
       "      <td>18729</td>\n",
       "      <td>280</td>\n",
       "      <td>3</td>\n",
       "      <td>617.54</td>\n",
       "      <td>366.972163</td>\n",
       "    </tr>\n",
       "    <tr>\n",
       "      <th>92833</th>\n",
       "      <td>2100</td>\n",
       "      <td>18730</td>\n",
       "      <td>263</td>\n",
       "      <td>3</td>\n",
       "      <td>617.54</td>\n",
       "      <td>366.972163</td>\n",
       "    </tr>\n",
       "  </tbody>\n",
       "</table>\n",
       "<p>92834 rows × 6 columns</p>\n",
       "</div>"
      ],
      "text/plain": [
       "       userID  artistID  weight  rating     mean          std\n",
       "0           2        51   13883       3  3374.74  2908.622154\n",
       "1           2        52   11690       3  3374.74  2908.622154\n",
       "2           2        53   11351       3  3374.74  2908.622154\n",
       "3           2        54   10300       3  3374.74  2908.622154\n",
       "4           2        55    8983       3  3374.74  2908.622154\n",
       "...       ...       ...     ...     ...      ...          ...\n",
       "92829    2100     18726     337       3   617.54   366.972163\n",
       "92830    2100     18727     297       3   617.54   366.972163\n",
       "92831    2100     18728     281       3   617.54   366.972163\n",
       "92832    2100     18729     280       3   617.54   366.972163\n",
       "92833    2100     18730     263       3   617.54   366.972163\n",
       "\n",
       "[92834 rows x 6 columns]"
      ]
     },
     "execution_count": 128,
     "metadata": {},
     "output_type": "execute_result"
    }
   ],
   "source": [
    "user_artists"
   ]
  },
  {
   "cell_type": "code",
   "execution_count": 132,
   "id": "873a62a5",
   "metadata": {},
   "outputs": [],
   "source": [
    "def find_rating(row):\n",
    "    weight = row['weight']\n",
    "    user_mean = row['mean']\n",
    "    user_std = row['std']\n",
    "    if weight <= (user_mean - (1.5 * user_std)):\n",
    "        return 1\n",
    "    elif weight <= (user_mean - (0.5 * user_std)):\n",
    "        return 2\n",
    "    elif weight <= (user_mean + (0.5 * user_std)):\n",
    "        return 3\n",
    "    elif weight <= (user_mean + (1.5 * user_std)):\n",
    "        return 4\n",
    "    elif weight > (user_mean + (1.5 * user_std)):\n",
    "        return 5"
   ]
  },
  {
   "cell_type": "code",
   "execution_count": 133,
   "id": "be80cf98",
   "metadata": {},
   "outputs": [],
   "source": [
    "user_artists['rating'] = user_artists.apply(lambda row: find_rating(row), axis=1)"
   ]
  },
  {
   "cell_type": "code",
   "execution_count": 136,
   "id": "2c88ad40",
   "metadata": {},
   "outputs": [
    {
     "data": {
      "text/plain": [
       "2.9787146950470733"
      ]
     },
     "execution_count": 136,
     "metadata": {},
     "output_type": "execute_result"
    }
   ],
   "source": [
    "user_artists['rating'].mean()"
   ]
  },
  {
   "cell_type": "code",
   "execution_count": 141,
   "id": "dcf40850",
   "metadata": {},
   "outputs": [
    {
     "data": {
      "text/plain": [
       "(array([0.0000e+00, 3.3000e+01, 2.1449e+04, 5.7678e+04, 1.3674e+04]),\n",
       " array([0, 1, 2, 3, 4, 5]),\n",
       " <BarContainer object of 5 artists>)"
      ]
     },
     "execution_count": 141,
     "metadata": {},
     "output_type": "execute_result"
    },
    {
     "data": {
      "image/png": "[encoded data removed]",
      "text/plain": [
       "<Figure size 432x288 with 1 Axes>"
      ]
     },
     "metadata": {
      "needs_background": "light"
     },
     "output_type": "display_data"
    }
   ],
   "source": [
    "plt.hist(user_artists['rating'], bins=range(0,6))"
   ]
  },
  {
   "cell_type": "markdown",
   "id": "02a8d724",
   "metadata": {},
   "source": [
    "There are no artists that recieved a 1-star rating, this is due to the fact that the users' weights are not normally distributed, they're long-tailed distributions. \n",
    "\n",
    "This causes the standard deviation to be larger, meaning that most of the weights to the left of the mean will be within 1 standard deviation of the mean, resulting in no 1-star ratings.\n",
    "\n",
    "A possible solution to this would be to exclude outliers when finding the mean and standard deviation of each user. If this does not have the desired effect, we can set standardised cut off points, for example, a weight less than 10 will be 1-star for everyone, or a weight larger than 30,000 will be 5-stars for everyone."
   ]
  },
  {
   "cell_type": "markdown",
   "id": "80d4b8c5",
   "metadata": {},
   "source": [
    "## Adjusting star-ratings to allow for outlier exclusion"
   ]
  },
  {
   "cell_type": "code",
   "execution_count": 175,
   "id": "6300c028",
   "metadata": {},
   "outputs": [],
   "source": [
    "## Removing any weight that is above 2 standard deviations away from the mean\n",
    "adjusted_user_artists = user_artists[abs(user_artists['weight']-user_artists['mean'])<(2*user_artists['std'])]"
   ]
  },
  {
   "cell_type": "code",
   "execution_count": 176,
   "id": "d6b057d5",
   "metadata": {},
   "outputs": [],
   "source": [
    "## Dropping and recreating the mean, standard deviation and rating columns\n",
    "adjusted_user_artists = adjusted_user_artists.drop(['std', 'rating', 'mean'], axis=1)\n",
    "\n",
    "adjusted_user_artists['rating'] = 0\n",
    "adjusted_user_artists['mean'] = 0\n",
    "adjusted_user_artists['std'] = 0"
   ]
  },
  {
   "cell_type": "code",
   "execution_count": 181,
   "id": "13ab37d2",
   "metadata": {},
   "outputs": [],
   "source": [
    "## Finding the new means and standard deviations\n",
    "## Creating a dictionary to discover each users mean and standard deviation\n",
    "means = {}\n",
    "stds = {}\n",
    "for userID in adjusted_user_artists.userID.unique():\n",
    "    user_data = user_artists[user_artists['userID']==userID]\n",
    "    user_mean = user_data['weight'].mean()\n",
    "    user_std = np.std(user_data['weight'])\n",
    "    means[userID] = user_mean\n",
    "    stds[userID] = user_std"
   ]
  },
  {
   "cell_type": "code",
   "execution_count": 182,
   "id": "f4ff45cd",
   "metadata": {},
   "outputs": [],
   "source": [
    "def find_mean(row, means):\n",
    "    return means[row['userID']]\n",
    "\n",
    "def find_std(row, stds):\n",
    "    return stds[row['userID']]"
   ]
  },
  {
   "cell_type": "code",
   "execution_count": 183,
   "id": "3cfef6ff",
   "metadata": {},
   "outputs": [],
   "source": [
    "## Recalculate the means, standard deviations and ratings\n",
    "\n",
    "adjusted_user_artists['mean'] = adjusted_user_artists.apply(lambda row: find_mean(row, means), axis=1)\n",
    "adjusted_user_artists['std'] = adjusted_user_artists.apply(lambda row: find_std(row, stds), axis=1)\n",
    "adjusted_user_artists['rating'] = adjusted_user_artists.apply(lambda row: find_rating(row), axis=1)"
   ]
  },
  {
   "cell_type": "code",
   "execution_count": 184,
   "id": "06e14c3e",
   "metadata": {},
   "outputs": [
    {
     "data": {
      "text/html": [
       "<div>\n",
       "<style scoped>\n",
       "    .dataframe tbody tr th:only-of-type {\n",
       "        vertical-align: middle;\n",
       "    }\n",
       "\n",
       "    .dataframe tbody tr th {\n",
       "        vertical-align: top;\n",
       "    }\n",
       "\n",
       "    .dataframe thead th {\n",
       "        text-align: right;\n",
       "    }\n",
       "</style>\n",
       "<table border=\"1\" class=\"dataframe\">\n",
       "  <thead>\n",
       "    <tr style=\"text-align: right;\">\n",
       "      <th></th>\n",
       "      <th>userID</th>\n",
       "      <th>artistID</th>\n",
       "      <th>weight</th>\n",
       "      <th>rating</th>\n",
       "      <th>mean</th>\n",
       "      <th>std</th>\n",
       "    </tr>\n",
       "  </thead>\n",
       "  <tbody>\n",
       "    <tr>\n",
       "      <th>4</th>\n",
       "      <td>2</td>\n",
       "      <td>55</td>\n",
       "      <td>8983</td>\n",
       "      <td>5</td>\n",
       "      <td>3374.74</td>\n",
       "      <td>2908.622154</td>\n",
       "    </tr>\n",
       "    <tr>\n",
       "      <th>5</th>\n",
       "      <td>2</td>\n",
       "      <td>56</td>\n",
       "      <td>6152</td>\n",
       "      <td>4</td>\n",
       "      <td>3374.74</td>\n",
       "      <td>2908.622154</td>\n",
       "    </tr>\n",
       "    <tr>\n",
       "      <th>6</th>\n",
       "      <td>2</td>\n",
       "      <td>57</td>\n",
       "      <td>5955</td>\n",
       "      <td>4</td>\n",
       "      <td>3374.74</td>\n",
       "      <td>2908.622154</td>\n",
       "    </tr>\n",
       "    <tr>\n",
       "      <th>7</th>\n",
       "      <td>2</td>\n",
       "      <td>58</td>\n",
       "      <td>4616</td>\n",
       "      <td>3</td>\n",
       "      <td>3374.74</td>\n",
       "      <td>2908.622154</td>\n",
       "    </tr>\n",
       "    <tr>\n",
       "      <th>8</th>\n",
       "      <td>2</td>\n",
       "      <td>59</td>\n",
       "      <td>4337</td>\n",
       "      <td>3</td>\n",
       "      <td>3374.74</td>\n",
       "      <td>2908.622154</td>\n",
       "    </tr>\n",
       "    <tr>\n",
       "      <th>...</th>\n",
       "      <td>...</td>\n",
       "      <td>...</td>\n",
       "      <td>...</td>\n",
       "      <td>...</td>\n",
       "      <td>...</td>\n",
       "      <td>...</td>\n",
       "    </tr>\n",
       "    <tr>\n",
       "      <th>92829</th>\n",
       "      <td>2100</td>\n",
       "      <td>18726</td>\n",
       "      <td>337</td>\n",
       "      <td>2</td>\n",
       "      <td>617.54</td>\n",
       "      <td>366.972163</td>\n",
       "    </tr>\n",
       "    <tr>\n",
       "      <th>92830</th>\n",
       "      <td>2100</td>\n",
       "      <td>18727</td>\n",
       "      <td>297</td>\n",
       "      <td>2</td>\n",
       "      <td>617.54</td>\n",
       "      <td>366.972163</td>\n",
       "    </tr>\n",
       "    <tr>\n",
       "      <th>92831</th>\n",
       "      <td>2100</td>\n",
       "      <td>18728</td>\n",
       "      <td>281</td>\n",
       "      <td>2</td>\n",
       "      <td>617.54</td>\n",
       "      <td>366.972163</td>\n",
       "    </tr>\n",
       "    <tr>\n",
       "      <th>92832</th>\n",
       "      <td>2100</td>\n",
       "      <td>18729</td>\n",
       "      <td>280</td>\n",
       "      <td>2</td>\n",
       "      <td>617.54</td>\n",
       "      <td>366.972163</td>\n",
       "    </tr>\n",
       "    <tr>\n",
       "      <th>92833</th>\n",
       "      <td>2100</td>\n",
       "      <td>18730</td>\n",
       "      <td>263</td>\n",
       "      <td>2</td>\n",
       "      <td>617.54</td>\n",
       "      <td>366.972163</td>\n",
       "    </tr>\n",
       "  </tbody>\n",
       "</table>\n",
       "<p>88647 rows × 6 columns</p>\n",
       "</div>"
      ],
      "text/plain": [
       "       userID  artistID  weight  rating     mean          std\n",
       "4           2        55    8983       5  3374.74  2908.622154\n",
       "5           2        56    6152       4  3374.74  2908.622154\n",
       "6           2        57    5955       4  3374.74  2908.622154\n",
       "7           2        58    4616       3  3374.74  2908.622154\n",
       "8           2        59    4337       3  3374.74  2908.622154\n",
       "...       ...       ...     ...     ...      ...          ...\n",
       "92829    2100     18726     337       2   617.54   366.972163\n",
       "92830    2100     18727     297       2   617.54   366.972163\n",
       "92831    2100     18728     281       2   617.54   366.972163\n",
       "92832    2100     18729     280       2   617.54   366.972163\n",
       "92833    2100     18730     263       2   617.54   366.972163\n",
       "\n",
       "[88647 rows x 6 columns]"
      ]
     },
     "execution_count": 184,
     "metadata": {},
     "output_type": "execute_result"
    }
   ],
   "source": [
    "adjusted_user_artists"
   ]
  },
  {
   "cell_type": "code",
   "execution_count": 191,
   "id": "427d4819",
   "metadata": {},
   "outputs": [
    {
     "data": {
      "text/plain": [
       "(array([2.0000e+00, 0.0000e+00, 2.1449e+04, 0.0000e+00, 0.0000e+00,\n",
       "        5.7678e+04, 0.0000e+00, 7.8090e+03, 0.0000e+00, 1.7090e+03]),\n",
       " array([1. , 1.4, 1.8, 2.2, 2.6, 3. , 3.4, 3.8, 4.2, 4.6, 5. ]),\n",
       " <BarContainer object of 10 artists>)"
      ]
     },
     "execution_count": 191,
     "metadata": {},
     "output_type": "execute_result"
    },
    {
     "data": {
      "image/png": "[encoded data removed]",
      "text/plain": [
       "<Figure size 432x288 with 1 Axes>"
      ]
     },
     "metadata": {
      "needs_background": "light"
     },
     "output_type": "display_data"
    }
   ],
   "source": [
    "plt.hist(adjusted_user_artists['rating'], bins=10)"
   ]
  },
  {
   "cell_type": "markdown",
   "id": "eb98d9b4",
   "metadata": {},
   "source": [
    "So the adjustment didn't have a huge effect on the final allocation of ratings, there are still a large number of weights on the tail of the distribution that are skewing the ratings."
   ]
  },
  {
   "cell_type": "markdown",
   "id": "9e8ec945",
   "metadata": {},
   "source": [
    "A next possible option would be to filter the data where weights are below 2328, as we found that this exludes the top 5% of values that could be skewing the data.\n",
    "\n",
    "Or to use the median instead of the mean (probs not helpful)\n",
    "\n",
    "Or to use only half a standard deviation to the left of the mean"
   ]
  },
  {
   "cell_type": "markdown",
   "id": "5257952e",
   "metadata": {},
   "source": [
    "## Adding star ratings excluding the top 5% of weights"
   ]
  },
  {
   "cell_type": "code",
   "execution_count": 201,
   "id": "aea2541e",
   "metadata": {},
   "outputs": [],
   "source": [
    "adjusted_user_artists = user_artists[user_artists['weight']<=2328]"
   ]
  },
  {
   "cell_type": "code",
   "execution_count": 203,
   "id": "c27d703b",
   "metadata": {},
   "outputs": [],
   "source": [
    "## Dropping and recreating the mean, standard deviation and rating columns\n",
    "adjusted_user_artists = adjusted_user_artists.drop(['std', 'rating', 'mean'], axis=1)\n",
    "\n",
    "adjusted_user_artists['rating'] = 0\n",
    "adjusted_user_artists['mean'] = 0\n",
    "adjusted_user_artists['std'] = 0"
   ]
  },
  {
   "cell_type": "code",
   "execution_count": 204,
   "id": "44fb2bd7",
   "metadata": {},
   "outputs": [],
   "source": [
    "## Finding the new means and standard deviations\n",
    "## Creating a dictionary to discover each users mean and standard deviation\n",
    "means = {}\n",
    "stds = {}\n",
    "for userID in adjusted_user_artists.userID.unique():\n",
    "    user_data = user_artists[user_artists['userID']==userID]\n",
    "    user_mean = user_data['weight'].mean()\n",
    "    user_std = np.std(user_data['weight'])\n",
    "    means[userID] = user_mean\n",
    "    stds[userID] = user_std"
   ]
  },
  {
   "cell_type": "code",
   "execution_count": 205,
   "id": "893cda82",
   "metadata": {},
   "outputs": [],
   "source": [
    "## Recalculate the means, standard deviations and ratings\n",
    "\n",
    "adjusted_user_artists['mean'] = adjusted_user_artists.apply(lambda row: find_mean(row, means), axis=1)\n",
    "adjusted_user_artists['std'] = adjusted_user_artists.apply(lambda row: find_std(row, stds), axis=1)\n",
    "adjusted_user_artists['rating'] = adjusted_user_artists.apply(lambda row: find_rating(row), axis=1)"
   ]
  },
  {
   "cell_type": "code",
   "execution_count": 207,
   "id": "b6b5579b",
   "metadata": {},
   "outputs": [
    {
     "data": {
      "text/plain": [
       "(array([3.1000e+01, 0.0000e+00, 2.1375e+04, 0.0000e+00, 0.0000e+00,\n",
       "        5.6176e+04, 0.0000e+00, 6.8130e+03, 0.0000e+00, 3.7980e+03]),\n",
       " array([1. , 1.4, 1.8, 2.2, 2.6, 3. , 3.4, 3.8, 4.2, 4.6, 5. ]),\n",
       " <BarContainer object of 10 artists>)"
      ]
     },
     "execution_count": 207,
     "metadata": {},
     "output_type": "execute_result"
    },
    {
     "data": {
      "image/png": "[encoded data removed]",
      "text/plain": [
       "<Figure size 432x288 with 1 Axes>"
      ]
     },
     "metadata": {
      "needs_background": "light"
     },
     "output_type": "display_data"
    }
   ],
   "source": [
    "plt.hist(adjusted_user_artists['rating'])"
   ]
  },
  {
   "cell_type": "markdown",
   "id": "2a770c6b",
   "metadata": {},
   "source": [
    "Still have the same issue, let's investigate what proportion of users' weights are less than their mean."
   ]
  },
  {
   "cell_type": "markdown",
   "id": "34e65999",
   "metadata": {},
   "source": [
    "## Investigating proportion of weights below mean"
   ]
  },
  {
   "cell_type": "code",
   "execution_count": 208,
   "id": "7dee781f",
   "metadata": {},
   "outputs": [],
   "source": [
    "## Finding the new means and standard deviations\n",
    "## Creating a dictionary to discover each users mean and standard deviation\n",
    "means = {}\n",
    "stds = {}\n",
    "for userID in user_artists.userID.unique():\n",
    "    user_data = user_artists[user_artists['userID']==userID]\n",
    "    user_mean = user_data['weight'].mean()\n",
    "    user_std = np.std(user_data['weight'])\n",
    "    means[userID] = user_mean\n",
    "    stds[userID] = user_std"
   ]
  },
  {
   "cell_type": "code",
   "execution_count": 216,
   "id": "8a9bde0b",
   "metadata": {},
   "outputs": [],
   "source": [
    "below_mean = {}\n",
    "weights = []\n",
    "for userID in adjusted_user_artists.userID.unique():\n",
    "    total = 0\n",
    "    below_means_count = 0\n",
    "    user_data = user_artists[user_artists['userID']==userID]\n",
    "    for weight in user_data['weight']:\n",
    "        if weight <= means[userID]:\n",
    "            below_means_count += 1\n",
    "            weights.append(weight)\n",
    "        total += 1\n",
    "    below_mean[userID] = below_means_count/total"
   ]
  },
  {
   "cell_type": "code",
   "execution_count": 215,
   "id": "457b1092",
   "metadata": {},
   "outputs": [
    {
     "data": {
      "text/plain": [
       "(array([  1.,   0.,   7.,  73., 329., 557., 572., 224.,  78.,  48.]),\n",
       " array([0.34 , 0.406, 0.472, 0.538, 0.604, 0.67 , 0.736, 0.802, 0.868,\n",
       "        0.934, 1.   ]),\n",
       " <BarContainer object of 10 artists>)"
      ]
     },
     "execution_count": 215,
     "metadata": {},
     "output_type": "execute_result"
    },
    {
     "data": {
      "image/png": "[encoded data removed]",
      "text/plain": [
       "<Figure size 432x288 with 1 Axes>"
      ]
     },
     "metadata": {
      "needs_background": "light"
     },
     "output_type": "display_data"
    }
   ],
   "source": [
    "plt.hist(below_mean.values())"
   ]
  },
  {
   "cell_type": "markdown",
   "id": "64ec4481",
   "metadata": {},
   "source": [
    "Judging by this graph, almost all of the users have most of their weightings lower than their mean, meaning that there are few very large weights that are causing this increase in the mean."
   ]
  },
  {
   "cell_type": "code",
   "execution_count": 219,
   "id": "a0796549",
   "metadata": {},
   "outputs": [
    {
     "data": {
      "text/plain": [
       "(array([5.285e+04, 9.924e+03, 2.919e+03, 1.126e+03, 5.510e+02, 3.350e+02,\n",
       "        1.880e+02, 9.900e+01, 6.900e+01, 4.400e+01, 3.400e+01, 1.100e+01,\n",
       "        6.000e+00, 7.000e+00, 2.000e+00, 5.000e+00, 0.000e+00, 1.000e+00,\n",
       "        1.000e+00, 4.000e+00]),\n",
       " array([1.0000e+00, 4.3940e+02, 8.7780e+02, 1.3162e+03, 1.7546e+03,\n",
       "        2.1930e+03, 2.6314e+03, 3.0698e+03, 3.5082e+03, 3.9466e+03,\n",
       "        4.3850e+03, 4.8234e+03, 5.2618e+03, 5.7002e+03, 6.1386e+03,\n",
       "        6.5770e+03, 7.0154e+03, 7.4538e+03, 7.8922e+03, 8.3306e+03,\n",
       "        8.7690e+03]),\n",
       " <BarContainer object of 20 artists>)"
      ]
     },
     "execution_count": 219,
     "metadata": {},
     "output_type": "execute_result"
    },
    {
     "data": {
      "image/png": "[encoded data removed]",
      "text/plain": [
       "<Figure size 432x288 with 1 Axes>"
      ]
     },
     "metadata": {
      "needs_background": "light"
     },
     "output_type": "display_data"
    }
   ],
   "source": [
    "plt.hist(weights, bins = 20)"
   ]
  },
  {
   "cell_type": "code",
   "execution_count": 223,
   "id": "5959f504",
   "metadata": {},
   "outputs": [
    {
     "data": {
      "text/plain": [
       "0.9852880779159822"
      ]
     },
     "execution_count": 223,
     "metadata": {},
     "output_type": "execute_result"
    }
   ],
   "source": [
    "len([weight for weight in weights if weight<=2000])/len(weights)"
   ]
  },
  {
   "cell_type": "markdown",
   "id": "d8a1d627",
   "metadata": {},
   "source": [
    "1. Find the mean\n",
    "2. Find the minimum, and find the range of weights between the minimum and the mean.\n",
    "3. Adjust the ratings so this range is divided into 25%, 50%, 25% for 1-star, 2-star and 3-star ratings respectively.\n",
    "4. Find the maximum (up to a limit), and find the range of weights between the mean and the maximum.\n",
    "5. Adjust the ratings so this range is divided into 25%, 50%, 25% for 3-star, 4-star and 5-star ratings respectively.\n",
    "\n",
    "The weights will not be distributed evenly, the percentages will be calculated as minimum + ((mean - min) * 0.25) for thw 1 star ratings, for example."
   ]
  },
  {
   "cell_type": "code",
   "execution_count": 229,
   "id": "b53dec5e",
   "metadata": {},
   "outputs": [],
   "source": [
    "user_artists['mean'] = 0\n",
    "user_artists['rating'] = 0"
   ]
  },
  {
   "cell_type": "code",
   "execution_count": null,
   "id": "19245baa",
   "metadata": {},
   "outputs": [],
   "source": []
  }
 ],
 "metadata": {
  "kernelspec": {
   "display_name": "Python 3 (ipykernel)",
   "language": "python",
   "name": "python3"
  },
  "language_info": {
   "codemirror_mode": {
    "name": "ipython",
    "version": 3
   },
   "file_extension": ".py",
   "mimetype": "text/x-python",
   "name": "python",
   "nbconvert_exporter": "python",
   "pygments_lexer": "ipython3",
   "version": "3.9.7"
  }
 },
 "nbformat": 4,
 "nbformat_minor": 5
}
