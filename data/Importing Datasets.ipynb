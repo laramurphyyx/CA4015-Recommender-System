{
 "cells": [
  {
   "cell_type": "markdown",
   "id": "326414dc",
   "metadata": {},
   "source": [
    "# Following the guide to import the data as per [this link](https://colab.research.google.com/github/google/eng-edu/blob/main/ml/recommendation-systems/recommendation-systems.ipynb?utm_source=ss-recommendation-systems&utm_campaign=colab-external&utm_medium=referral&utm_content=recommendation-systems)"
   ]
  },
  {
   "cell_type": "markdown",
   "id": "e75b8895",
   "metadata": {},
   "source": [
    "## Importing Relevant Packages"
   ]
  },
  {
   "cell_type": "code",
   "execution_count": 6,
   "id": "9b6b6a52",
   "metadata": {},
   "outputs": [],
   "source": [
    "import pandas as pd\n",
    "from urllib.request import urlretrieve\n",
    "import zipfile"
   ]
  },
  {
   "cell_type": "markdown",
   "id": "f83e2d35",
   "metadata": {},
   "source": [
    "## Extracting the files from the Zip Folder"
   ]
  },
  {
   "cell_type": "code",
   "execution_count": 7,
   "id": "b5477011",
   "metadata": {},
   "outputs": [],
   "source": [
    "urlretrieve(\"http://files.grouplens.org/datasets/hetrec2011/hetrec2011-lastfm-2k.zip\", \"lastfm.zip\")\n",
    "zip_ref = zipfile.ZipFile('lastfm.zip', \"r\")\n",
    "zip_ref.extractall()"
   ]
  },
  {
   "cell_type": "code",
   "execution_count": 1,
   "id": "422854d8",
   "metadata": {},
   "outputs": [],
   "source": [
    "# Checking these parameters to make sure the zipfile is correct\n",
    "# zip_ref.infolist()\n",
    "# zip_ref.namelist()"
   ]
  },
  {
   "cell_type": "markdown",
   "id": "4548119e",
   "metadata": {},
   "source": [
    "## Removing the zipped folder and README file"
   ]
  },
  {
   "cell_type": "code",
   "execution_count": 15,
   "id": "4e2e7ad7",
   "metadata": {},
   "outputs": [],
   "source": [
    "import os"
   ]
  },
  {
   "cell_type": "code",
   "execution_count": 16,
   "id": "f166d0a5",
   "metadata": {},
   "outputs": [],
   "source": [
    "zip_ref.close()\n",
    "zip_file = 'lastfm.zip'\n",
    "readme_file = 'readme.txt'\n",
    "unnecessary_timestamp_file = 'user_taggedartists-timestamps.dat'\n",
    "os.remove(file_path)\n",
    "os.remove(readme_file)\n",
    "os.remove(unnecessary_timestamp_file)"
   ]
  }
 ],
 "metadata": {
  "kernelspec": {
   "display_name": "Python 3 (ipykernel)",
   "language": "python",
   "name": "python3"
  },
  "language_info": {
   "codemirror_mode": {
    "name": "ipython",
    "version": 3
   },
   "file_extension": ".py",
   "mimetype": "text/x-python",
   "name": "python",
   "nbconvert_exporter": "python",
   "pygments_lexer": "ipython3",
   "version": "3.9.7"
  }
 },
 "nbformat": 4,
 "nbformat_minor": 5
}
