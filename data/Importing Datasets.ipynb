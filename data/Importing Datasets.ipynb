{
 "cells": [
  {
   "cell_type": "markdown",
   "id": "326414dc",
   "metadata": {},
   "source": [
    "# Following the guide to import the data as per [this link](https://colab.research.google.com/github/google/eng-edu/blob/main/ml/recommendation-systems/recommendation-systems.ipynb?utm_source=ss-recommendation-systems&utm_campaign=colab-external&utm_medium=referral&utm_content=recommendation-systems)"
   ]
  },
  {
   "cell_type": "markdown",
   "id": "e75b8895",
   "metadata": {},
   "source": [
    "## Importing Relevant Packages"
   ]
  },
  {
   "cell_type": "code",
   "execution_count": 3,
   "id": "9b6b6a52",
   "metadata": {},
   "outputs": [],
   "source": [
    "import pandas as pd\n",
    "from urllib.request import urlretrieve\n",
    "import zipfile\n",
    "import os"
   ]
  },
  {
   "cell_type": "markdown",
   "id": "f83e2d35",
   "metadata": {},
   "source": [
    "## Extracting the files from the Zip Folder"
   ]
  },
  {
   "cell_type": "code",
   "execution_count": 4,
   "id": "b5477011",
   "metadata": {},
   "outputs": [],
   "source": [
    "urlretrieve(\"http://files.grouplens.org/datasets/hetrec2011/hetrec2011-lastfm-2k.zip\", \"lastfm.zip\")\n",
    "zip_ref = zipfile.ZipFile('lastfm.zip', \"r\")\n",
    "zip_ref.extractall()"
   ]
  },
  {
   "cell_type": "markdown",
   "id": "4548119e",
   "metadata": {},
   "source": [
    "## Removing the zipped folder and README file"
   ]
  },
  {
   "cell_type": "code",
   "execution_count": 7,
   "id": "f166d0a5",
   "metadata": {},
   "outputs": [],
   "source": [
    "zip_ref.close()\n",
    "zip_file = 'lastfm.zip'\n",
    "unnecessary_timestamp_file = 'user_taggedartists-timestamps.dat'\n",
    "os.remove(zip_file)\n",
    "os.remove(unnecessary_timestamp_file)"
   ]
  },
  {
   "cell_type": "markdown",
   "id": "e7f98d74",
   "metadata": {},
   "source": [
    "## Cleaning Some of the Files"
   ]
  },
  {
   "cell_type": "code",
   "execution_count": 14,
   "id": "8410c529",
   "metadata": {},
   "outputs": [],
   "source": [
    "dataframe_names = [\n",
    "    'user_friends',\n",
    "    'user_taggedartists',\n",
    "    'artists',\n",
    "    'tags',\n",
    "    'user_artists']\n",
    "\n",
    "file_names = [\n",
    "    'user_friends.dat',\n",
    "    'user_taggedartists.dat',\n",
    "    'artists.dat',\n",
    "    'tags.dat',\n",
    "    'user_artists.dat']"
   ]
  },
  {
   "cell_type": "code",
   "execution_count": 15,
   "id": "d6ae5916",
   "metadata": {},
   "outputs": [],
   "source": [
    "for (dataframe, file) in zip(dataframe_names, file_names):\n",
    "    if dataframe == 'tags':\n",
    "        vars()[dataframe] = pd.read_table(file, sep=\"\\t\", encoding = \"latin-1\")\n",
    "    else:\n",
    "        vars()[dataframe] = pd.read_table(file, sep=\"\\t\")"
   ]
  },
  {
   "cell_type": "markdown",
   "id": "3092cf0b",
   "metadata": {},
   "source": [
    "## Re-indexing the User and Artist IDs"
   ]
  },
  {
   "cell_type": "code",
   "execution_count": 16,
   "id": "6eca90e1",
   "metadata": {},
   "outputs": [],
   "source": [
    "user_id_mapping = {}\n",
    "artist_id_mapping = {}\n",
    "\n",
    "new_id = 0\n",
    "for userID in user_artists.userID.unique():\n",
    "    user_id_mapping[userID] = new_id\n",
    "    new_id += 1\n",
    "\n",
    "new_id = 0\n",
    "for artistID in artists.id.unique():\n",
    "    artist_id_mapping[artistID] = new_id\n",
    "    new_id += 1"
   ]
  },
  {
   "cell_type": "code",
   "execution_count": 21,
   "id": "0fd70a80",
   "metadata": {},
   "outputs": [],
   "source": [
    "user_artists = user_artists.replace({\"userID\": user_id_mapping})\n",
    "user_artists = user_artists.replace({\"artistID\": artist_id_mapping})\n",
    "artists = artists.replace({\"id\": artist_id_mapping})\n",
    "user_friends = user_friends.replace({\"userID\": user_id_mapping})\n",
    "user_friends = user_friends.replace({\"friendID\": user_id_mapping})\n",
    "user_taggedartists = user_taggedartists.replace({\"userID\": user_id_mapping})\n",
    "user_taggedartists = user_taggedartists.replace({\"artistID\": artist_id_mapping})"
   ]
  },
  {
   "cell_type": "markdown",
   "id": "6ea9a119",
   "metadata": {},
   "source": [
    "## Deleting the Old Datasets"
   ]
  },
  {
   "cell_type": "code",
   "execution_count": null,
   "id": "71f993f4",
   "metadata": {},
   "outputs": [],
   "source": [
    "user_artists_file = 'user_artists.dat'\n",
    "artists_file = 'artists.dat'\n",
    "user_friends_file = 'user_friends.dat'\n",
    "user_taggedartists_file = 'user_taggedartists.dat'\n",
    "\n",
    "os.remove(user_artists_file)\n",
    "os.remove(artists_file)\n",
    "os.remove(user_friends_file)\n",
    "os.remove(user_taggedartists_file)"
   ]
  },
  {
   "cell_type": "markdown",
   "id": "fd44b107",
   "metadata": {},
   "source": [
    "## Exporting the Cleaned Datasets"
   ]
  },
  {
   "cell_type": "code",
   "execution_count": 27,
   "id": "935ade95",
   "metadata": {},
   "outputs": [],
   "source": [
    "user_artists.to_csv('user_artists.csv', index=False)\n",
    "artists.to_csv('artists.csv', index=False)\n",
    "user_friends.to_csv('user_friends.csv', index=False)\n",
    "user_taggedartists.to_csv('user_taggedartists.csv', index=False)"
   ]
  }
 ],
 "metadata": {
  "kernelspec": {
   "display_name": "Python 3 (ipykernel)",
   "language": "python",
   "name": "python3"
  },
  "language_info": {
   "codemirror_mode": {
    "name": "ipython",
    "version": 3
   },
   "file_extension": ".py",
   "mimetype": "text/x-python",
   "name": "python",
   "nbconvert_exporter": "python",
   "pygments_lexer": "ipython3",
   "version": "3.9.7"
  }
 },
 "nbformat": 4,
 "nbformat_minor": 5
}
