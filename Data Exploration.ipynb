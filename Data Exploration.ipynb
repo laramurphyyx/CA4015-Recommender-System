{
 "cells": [
  {
   "cell_type": "code",
   "execution_count": 51,
   "id": "aefc81eb",
   "metadata": {},
   "outputs": [],
   "source": [
    "import pandas as pd\n",
    "import numpy as np\n",
    "import itertools\n",
    "import matplotlib.pyplot as plt"
   ]
  },
  {
   "cell_type": "code",
   "execution_count": 7,
   "id": "592b3db6",
   "metadata": {},
   "outputs": [],
   "source": [
    "dataframe_names = [\n",
    "    'user_friends',\n",
    "    'user_taggedartists',\n",
    "    'user_taggedartists_timestamps',\n",
    "    'artists',\n",
    "    'tags',\n",
    "    'user_artists']\n",
    "\n",
    "file_names = [\n",
    "    'data/user_friends.dat',\n",
    "    'data/user_taggedartists.dat',\n",
    "    'data/user_taggedartists-timestamps.dat',\n",
    "    'data/artists.dat',\n",
    "    'data/tags.dat',\n",
    "    'data/user_artists.dat']"
   ]
  },
  {
   "cell_type": "code",
   "execution_count": 8,
   "id": "9bcd2acb",
   "metadata": {},
   "outputs": [],
   "source": [
    "for (dataframe, file) in zip(dataframe_names, file_names):\n",
    "    if dataframe == 'tags':\n",
    "        vars()[dataframe] = pd.read_table(file, sep=\"\\t\", encoding = \"latin-1\")\n",
    "    else:\n",
    "        vars()[dataframe] = pd.read_table(file, sep=\"\\t\")"
   ]
  },
  {
   "cell_type": "markdown",
   "id": "75183fc5",
   "metadata": {},
   "source": [
    "# Exploring the Users' Friends Dataset"
   ]
  },
  {
   "cell_type": "code",
   "execution_count": 165,
   "id": "7176fee0",
   "metadata": {},
   "outputs": [],
   "source": [
    "users_friends_count = (\n",
    "    user_friends\n",
    "    .groupby('userID', as_index=False)\n",
    "    .agg({'friendID': ['count']})\n",
    ")"
   ]
  },
  {
   "cell_type": "code",
   "execution_count": 166,
   "id": "8a676dbe",
   "metadata": {},
   "outputs": [],
   "source": [
    "users_friends_count.columns = ['userID', 'count_friends']"
   ]
  },
  {
   "cell_type": "code",
   "execution_count": 167,
   "id": "54695ebc",
   "metadata": {},
   "outputs": [
    {
     "name": "stdout",
     "output_type": "stream",
     "text": [
      "The average number of friends each user has is 13.44291754756871 friends\n",
      "The user with the least amount of friends has 1 friends\n",
      "The user with the most amount of friends has 119 friends\n"
     ]
    }
   ],
   "source": [
    "mean = str(users_friends_count['count_friends'].mean())\n",
    "min = str(users_friends_count['count_friends'].min())\n",
    "max = str(users_friends_count['count_friends'].max())\n",
    "\n",
    "print('The average number of friends each user has is ' + mean + ' friends')\n",
    "print('The user with the least amount of friends has ' + min + ' friends')\n",
    "print('The user with the most amount of friends has ' + max + ' friends')"
   ]
  },
  {
   "cell_type": "code",
   "execution_count": 172,
   "id": "faf1b7d2",
   "metadata": {},
   "outputs": [
    {
     "data": {
      "image/png": "[encoded data removed]",
      "text/plain": [
       "<Figure size 432x288 with 1 Axes>"
      ]
     },
     "metadata": {
      "needs_background": "light"
     },
     "output_type": "display_data"
    }
   ],
   "source": [
    "data = users_friends_count['count_friends']\n",
    "plt.hist(data, weights=np.ones(len(data)) / len(data), bins=120, edgecolor='black')\n",
    "plt.gca().set(\n",
    "    title='Distribution of Number of Friends per User', \n",
    "    xlabel='Number of Friends',\n",
    "    ylabel='Frequency'\n",
    ");"
   ]
  },
  {
   "cell_type": "markdown",
   "id": "597b3863",
   "metadata": {},
   "source": [
    "As you can see in the above chart, over 60% of the users in this dataset have between 0 and 10 friends. Only ~15% of users have between 10 and 20 friends. \n",
    "\n",
    "We can also conclude that only less than 25% of users have over 20 friends. This is useful to know, as this would imply that a recommender system based off a user's friends' favourite artists alone may not perform accurately.\n",
    "\n",
    "Although using friends' liked artists as a sole method to recommend songs, it might be useful to put a slightly larger weight on their friends' artists, as long as they have a similar taste in music."
   ]
  },
  {
   "cell_type": "markdown",
   "id": "8980a324",
   "metadata": {},
   "source": [
    "# Exploring Users' Tagged Artists"
   ]
  },
  {
   "cell_type": "code",
   "execution_count": 140,
   "id": "b61fe73f",
   "metadata": {},
   "outputs": [],
   "source": [
    "tagged_artists_users = (\n",
    "    user_taggedartists\n",
    "    .groupby('artistID', as_index=False)\n",
    "    .agg({'userID': ['count']})\n",
    ")\n",
    "\n",
    "tagged_artists_users = (\n",
    "    user_taggedartists\n",
    "    .groupby('artistID', as_index=False)\n",
    "    .agg({'userID': lambda x: x.nunique()})\n",
    ")"
   ]
  },
  {
   "cell_type": "code",
   "execution_count": 141,
   "id": "786cad63",
   "metadata": {},
   "outputs": [],
   "source": [
    "tagged_artists_users.columns = ['artistID', 'count_users']"
   ]
  },
  {
   "cell_type": "code",
   "execution_count": 148,
   "id": "28047287",
   "metadata": {},
   "outputs": [
    {
     "data": {
      "text/plain": [
       "0    1\n",
       "dtype: int64"
      ]
     },
     "execution_count": 148,
     "metadata": {},
     "output_type": "execute_result"
    }
   ],
   "source": []
  },
  {
   "cell_type": "code",
   "execution_count": 149,
   "id": "aec4df4c",
   "metadata": {},
   "outputs": [
    {
     "name": "stdout",
     "output_type": "stream",
     "text": [
      "The average artist has been assigned a tag from 5.674678591391839 users\n",
      "The user with the least amount of of users assigning tags has 1 user(s)\n",
      "The user with the most amount users assigning tags has 206 users\n"
     ]
    }
   ],
   "source": [
    "mean = str(tagged_artists_users['count_users'].mean())\n",
    "min = str(tagged_artists_users['count_users'].min())\n",
    "max = str(tagged_artists_users['count_users'].max())\n",
    "\n",
    "print('The average artist has been assigned a tag from ' + mean + ' users')\n",
    "print('The user with the least amount of of users assigning tags has ' + min + ' user(s)')\n",
    "print('The user with the most amount users assigning tags has ' + max + ' users')"
   ]
  },
  {
   "cell_type": "code",
   "execution_count": 163,
   "id": "a6ea8ce5",
   "metadata": {},
   "outputs": [
    {
     "data": {
      "image/png": "[encoded data removed]",
      "text/plain": [
       "<Figure size 432x288 with 1 Axes>"
      ]
     },
     "metadata": {
      "needs_background": "light"
     },
     "output_type": "display_data"
    }
   ],
   "source": [
    "data = tagged_artists_users['count_users']\n",
    "plt.hist(data, weights=np.ones(len(data)) / len(data), bins=200)\n",
    "plt.gca().set(\n",
    "    title='Distribution of Number of Users assigning Tags per Artist', \n",
    "    xlabel='Number of Users',\n",
    "    ylabel='Frequency'\n",
    ");"
   ]
  },
  {
   "cell_type": "markdown",
   "id": "fa512cad",
   "metadata": {},
   "source": [
    "The plot above shows that there are very few artists that have over 50 users assigning tags."
   ]
  },
  {
   "cell_type": "code",
   "execution_count": 173,
   "id": "9d0f2a2a",
   "metadata": {},
   "outputs": [
    {
     "data": {
      "text/plain": [
       "artistID       146\n",
       "count_users    146\n",
       "dtype: int64"
      ]
     },
     "execution_count": 173,
     "metadata": {},
     "output_type": "execute_result"
    }
   ],
   "source": [
    "tagged_artists_users[tagged_artists_users['count_users']>=50].count()"
   ]
  },
  {
   "cell_type": "markdown",
   "id": "8e485b43",
   "metadata": {},
   "source": [
    "There are 55 artists who have been assigned tags from over 50 users. This suggests that there isn't a mistaken outlier, and that the data is just very sparse (just over 1%) after reaching 50 users."
   ]
  },
  {
   "cell_type": "raw",
   "id": "963c181e",
   "metadata": {},
   "source": [
    "tagged_artists_tags = (\n",
    "    user_taggedartists\n",
    "    .groupby('artistID', as_index=False)\n",
    "    .agg({'tagID': lambda x: x.nunique()})\n",
    ")"
   ]
  },
  {
   "cell_type": "code",
   "execution_count": 137,
   "id": "9c52b495",
   "metadata": {},
   "outputs": [],
   "source": [
    "tagged_artists_tags.columns = ['artistID', 'count_tags']"
   ]
  },
  {
   "cell_type": "code",
   "execution_count": 139,
   "id": "d952d139",
   "metadata": {},
   "outputs": [
    {
     "name": "stdout",
     "output_type": "stream",
     "text": [
      "The average artist has been assigned 8.763874470973409 tags\n",
      "The user with the least amount of tags has 1 tag(s)\n",
      "The user with the most amount tags has 329 tags\n"
     ]
    }
   ],
   "source": [
    "mean = str(tagged_artists_tags['count_tags'].mean())\n",
    "min = str(tagged_artists_tags['count_tags'].min())\n",
    "max = str(tagged_artists_tags['count_tags'].max())\n",
    "\n",
    "print('The average artist has been assigned ' + mean + ' tags')\n",
    "print('The user with the least amount of tags has ' + min + ' tag(s)')\n",
    "print('The user with the most amount tags has ' + max + ' tags')"
   ]
  },
  {
   "cell_type": "code",
   "execution_count": 162,
   "id": "17349d56",
   "metadata": {},
   "outputs": [
    {
     "data": {
      "image/png": "[encoded data removed]",
      "text/plain": [
       "<Figure size 432x288 with 1 Axes>"
      ]
     },
     "metadata": {
      "needs_background": "light"
     },
     "output_type": "display_data"
    }
   ],
   "source": [
    "data = tagged_artists_tags['count_tags']\n",
    "plt.hist(data, weights=np.ones(len(data)) / len(data), bins=300)\n",
    "plt.gca().set(\n",
    "    title='Distribution of Number of Tags assigned to each Artist', \n",
    "    xlabel='Number of Tags',\n",
    "    ylabel='Frequency'\n",
    ");"
   ]
  },
  {
   "cell_type": "markdown",
   "id": "bd834f88",
   "metadata": {},
   "source": [
    "The above graph shows that over 25% of artists have received only 1 unique tag. \n",
    "\n",
    "The frequency of tags seems to be very close to 0 when the number of tags is greater than 75."
   ]
  },
  {
   "cell_type": "code",
   "execution_count": 186,
   "id": "19862a71",
   "metadata": {},
   "outputs": [
    {
     "data": {
      "text/plain": [
       "artistID      6846\n",
       "count_tags    6846\n",
       "dtype: int64"
      ]
     },
     "execution_count": 186,
     "metadata": {},
     "output_type": "execute_result"
    }
   ],
   "source": [
    "tagged_artists_tags[tagged_artists_tags['count_tags']<=5].count()"
   ]
  },
  {
   "cell_type": "markdown",
   "id": "e6721eb3",
   "metadata": {},
   "source": [
    "Only 81 (0.65%) of the artists have greater than 75 unique tags assigned to them. \n",
    "\n",
    "In fact, over half of the artists have been assigned between 1 and 5 unique tags.\n",
    "\n",
    "These tags will allow for a more complex recommendation to be made to a user."
   ]
  },
  {
   "cell_type": "markdown",
   "id": "6f16697b",
   "metadata": {},
   "source": [
    "# Exploring the Artists Dataset"
   ]
  },
  {
   "cell_type": "code",
   "execution_count": null,
   "id": "0b002cd9",
   "metadata": {},
   "outputs": [],
   "source": []
  }
 ],
 "metadata": {
  "kernelspec": {
   "display_name": "Python 3 (ipykernel)",
   "language": "python",
   "name": "python3"
  },
  "language_info": {
   "codemirror_mode": {
    "name": "ipython",
    "version": 3
   },
   "file_extension": ".py",
   "mimetype": "text/x-python",
   "name": "python",
   "nbconvert_exporter": "python",
   "pygments_lexer": "ipython3",
   "version": "3.9.7"
  }
 },
 "nbformat": 4,
 "nbformat_minor": 5
}
