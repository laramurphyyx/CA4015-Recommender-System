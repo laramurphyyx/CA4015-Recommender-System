{
 "cells": [
  {
   "cell_type": "code",
   "execution_count": 1,
   "id": "aefc81eb",
   "metadata": {},
   "outputs": [],
   "source": [
    "import pandas as pd\n",
    "import numpy as np\n",
    "import itertools\n",
    "import matplotlib.pyplot as plt"
   ]
  },
  {
   "cell_type": "code",
   "execution_count": 2,
   "id": "592b3db6",
   "metadata": {},
   "outputs": [],
   "source": [
    "dataframe_names = [\n",
    "    'user_friends',\n",
    "    'user_taggedartists',\n",
    "    'artists',\n",
    "    'tags',\n",
    "    'user_artists']\n",
    "\n",
    "file_names = [\n",
    "    'data/user_friends.dat',\n",
    "    'data/user_taggedartists.dat',\n",
    "    'data/artists.dat',\n",
    "    'data/tags.dat',\n",
    "    'data/user_artists.dat']"
   ]
  },
  {
   "cell_type": "code",
   "execution_count": 3,
   "id": "9bcd2acb",
   "metadata": {},
   "outputs": [],
   "source": [
    "for (dataframe, file) in zip(dataframe_names, file_names):\n",
    "    if dataframe == 'tags':\n",
    "        vars()[dataframe] = pd.read_table(file, sep=\"\\t\", encoding = \"latin-1\")\n",
    "    else:\n",
    "        vars()[dataframe] = pd.read_table(file, sep=\"\\t\")"
   ]
  },
  {
   "cell_type": "markdown",
   "id": "75183fc5",
   "metadata": {},
   "source": [
    "# Exploring the Users' Friends Dataset"
   ]
  },
  {
   "cell_type": "code",
   "execution_count": null,
   "id": "7176fee0",
   "metadata": {},
   "outputs": [],
   "source": [
    "users_friends_count = (\n",
    "    user_friends\n",
    "    .groupby('userID', as_index=False)\n",
    "    .agg({'friendID': ['count']})\n",
    ")"
   ]
  },
  {
   "cell_type": "code",
   "execution_count": null,
   "id": "8a676dbe",
   "metadata": {},
   "outputs": [],
   "source": [
    "users_friends_count.columns = ['userID', 'count_friends']"
   ]
  },
  {
   "cell_type": "code",
   "execution_count": null,
   "id": "54695ebc",
   "metadata": {},
   "outputs": [],
   "source": [
    "mean = str(users_friends_count['count_friends'].mean())\n",
    "min = str(users_friends_count['count_friends'].min())\n",
    "max = str(users_friends_count['count_friends'].max())\n",
    "\n",
    "print('The average number of friends each user has is ' + mean + ' friends')\n",
    "print('The user with the least amount of friends has ' + min + ' friends')\n",
    "print('The user with the most amount of friends has ' + max + ' friends')"
   ]
  },
  {
   "cell_type": "code",
   "execution_count": null,
   "id": "faf1b7d2",
   "metadata": {},
   "outputs": [],
   "source": [
    "data = users_friends_count['count_friends']\n",
    "plt.hist(data, weights=np.ones(len(data)) / len(data), bins=120, edgecolor='black')\n",
    "plt.gca().set(\n",
    "    title='Distribution of Number of Friends per User', \n",
    "    xlabel='Number of Friends',\n",
    "    ylabel='Frequency'\n",
    ");"
   ]
  },
  {
   "cell_type": "markdown",
   "id": "597b3863",
   "metadata": {},
   "source": [
    "As you can see in the above chart, over 60% of the users in this dataset have between 0 and 10 friends. Only ~15% of users have between 10 and 20 friends. \n",
    "\n",
    "We can also conclude that only less than 25% of users have over 20 friends. This is useful to know, as this would imply that a recommender system based off a user's friends' favourite artists alone may not perform accurately.\n",
    "\n",
    "Although using friends' liked artists as a sole method to recommend songs will not perform well, it might be useful to put a slightly larger weight on their friends' artists, as long as they have a similar taste in music."
   ]
  },
  {
   "cell_type": "markdown",
   "id": "8980a324",
   "metadata": {},
   "source": [
    "# Exploring Users' Tagged Artists"
   ]
  },
  {
   "cell_type": "code",
   "execution_count": null,
   "id": "b61fe73f",
   "metadata": {},
   "outputs": [],
   "source": [
    "tagged_artists_users = (\n",
    "    user_taggedartists\n",
    "    .groupby('artistID', as_index=False)\n",
    "    .agg({'userID': ['count']})\n",
    ")\n",
    "\n",
    "tagged_artists_users = (\n",
    "    user_taggedartists\n",
    "    .groupby('artistID', as_index=False)\n",
    "    .agg({'userID': lambda x: x.nunique()})\n",
    ")"
   ]
  },
  {
   "cell_type": "code",
   "execution_count": null,
   "id": "786cad63",
   "metadata": {},
   "outputs": [],
   "source": [
    "tagged_artists_users.columns = ['artistID', 'count_users']"
   ]
  },
  {
   "cell_type": "code",
   "execution_count": null,
   "id": "28047287",
   "metadata": {},
   "outputs": [],
   "source": []
  },
  {
   "cell_type": "code",
   "execution_count": null,
   "id": "aec4df4c",
   "metadata": {},
   "outputs": [],
   "source": [
    "mean = str(tagged_artists_users['count_users'].mean())\n",
    "min = str(tagged_artists_users['count_users'].min())\n",
    "max = str(tagged_artists_users['count_users'].max())\n",
    "\n",
    "print('The average artist has been assigned a tag from ' + mean + ' users')\n",
    "print('The user with the least amount of of users assigning tags has ' + min + ' user(s)')\n",
    "print('The user with the most amount users assigning tags has ' + max + ' users')"
   ]
  },
  {
   "cell_type": "code",
   "execution_count": null,
   "id": "a6ea8ce5",
   "metadata": {},
   "outputs": [],
   "source": [
    "data = tagged_artists_users['count_users']\n",
    "plt.hist(data, weights=np.ones(len(data)) / len(data), bins=200)\n",
    "plt.gca().set(\n",
    "    title='Distribution of Number of Users assigning Tags per Artist', \n",
    "    xlabel='Number of Users',\n",
    "    ylabel='Frequency'\n",
    ");"
   ]
  },
  {
   "cell_type": "markdown",
   "id": "fa512cad",
   "metadata": {},
   "source": [
    "The plot above shows that there are very few artists that have over 50 users assigning tags."
   ]
  },
  {
   "cell_type": "code",
   "execution_count": null,
   "id": "9d0f2a2a",
   "metadata": {},
   "outputs": [],
   "source": [
    "tagged_artists_users[tagged_artists_users['count_users']>=50].count()"
   ]
  },
  {
   "cell_type": "markdown",
   "id": "8e485b43",
   "metadata": {},
   "source": [
    "There are 55 artists who have been assigned tags from over 50 users. This suggests that there isn't a mistaken outlier, and that the data is just very sparse (just over 1%) after reaching 50 users."
   ]
  },
  {
   "cell_type": "raw",
   "id": "963c181e",
   "metadata": {},
   "source": [
    "tagged_artists_tags = (\n",
    "    user_taggedartists\n",
    "    .groupby('artistID', as_index=False)\n",
    "    .agg({'tagID': lambda x: x.nunique()})\n",
    ")"
   ]
  },
  {
   "cell_type": "code",
   "execution_count": null,
   "id": "9c52b495",
   "metadata": {},
   "outputs": [],
   "source": [
    "tagged_artists_tags.columns = ['artistID', 'count_tags']"
   ]
  },
  {
   "cell_type": "code",
   "execution_count": null,
   "id": "d952d139",
   "metadata": {},
   "outputs": [],
   "source": [
    "mean = str(tagged_artists_tags['count_tags'].mean())\n",
    "min = str(tagged_artists_tags['count_tags'].min())\n",
    "max = str(tagged_artists_tags['count_tags'].max())\n",
    "\n",
    "print('The average artist has been assigned ' + mean + ' tags')\n",
    "print('The user with the least amount of tags has ' + min + ' tag(s)')\n",
    "print('The user with the most amount tags has ' + max + ' tags')"
   ]
  },
  {
   "cell_type": "code",
   "execution_count": null,
   "id": "17349d56",
   "metadata": {},
   "outputs": [],
   "source": [
    "data = tagged_artists_tags['count_tags']\n",
    "plt.hist(data, weights=np.ones(len(data)) / len(data), bins=300)\n",
    "plt.gca().set(\n",
    "    title='Distribution of Number of Tags assigned to each Artist', \n",
    "    xlabel='Number of Tags',\n",
    "    ylabel='Frequency'\n",
    ");"
   ]
  },
  {
   "cell_type": "markdown",
   "id": "bd834f88",
   "metadata": {},
   "source": [
    "The above graph shows that over 25% of artists have received only 1 unique tag. \n",
    "\n",
    "The frequency of tags seems to be very close to 0 when the number of tags is greater than 75."
   ]
  },
  {
   "cell_type": "code",
   "execution_count": null,
   "id": "19862a71",
   "metadata": {},
   "outputs": [],
   "source": [
    "tagged_artists_tags[tagged_artists_tags['count_tags']<=5].count()"
   ]
  },
  {
   "cell_type": "markdown",
   "id": "e6721eb3",
   "metadata": {},
   "source": [
    "Only 81 (0.65%) of the artists have greater than 75 unique tags assigned to them. \n",
    "\n",
    "In fact, over half of the artists have been assigned between 1 and 5 unique tags.\n",
    "\n",
    "These tags will allow for a more complex recommendation to be made to a user."
   ]
  },
  {
   "cell_type": "markdown",
   "id": "6f16697b",
   "metadata": {},
   "source": [
    "# Exploring the Artists and Tags Dataset"
   ]
  },
  {
   "cell_type": "code",
   "execution_count": null,
   "id": "cc6381d3",
   "metadata": {
    "scrolled": true
   },
   "outputs": [],
   "source": [
    "artists.head()"
   ]
  },
  {
   "cell_type": "code",
   "execution_count": null,
   "id": "e4bfaefc",
   "metadata": {},
   "outputs": [],
   "source": [
    "tags.head()"
   ]
  },
  {
   "cell_type": "markdown",
   "id": "cd9d061b",
   "metadata": {},
   "source": [
    "The artists and tags datasets are just a reference table to expand on the artist details or the tag details. \n",
    "\n",
    "This does not require any more investigation, as there are no relevant data points to be used in our recommender system."
   ]
  },
  {
   "cell_type": "markdown",
   "id": "e99eef3b",
   "metadata": {},
   "source": [
    "## Exploring Users' Liked Artists"
   ]
  },
  {
   "cell_type": "code",
   "execution_count": null,
   "id": "ecbeaf31",
   "metadata": {},
   "outputs": [],
   "source": [
    "user_artists"
   ]
  },
  {
   "cell_type": "code",
   "execution_count": 4,
   "id": "b5ab7c63",
   "metadata": {},
   "outputs": [],
   "source": [
    "distribution_of_weights_given = (\n",
    "    user_artists\n",
    "    .groupby('weight', as_index=False)\n",
    "    .agg({'userID': ['count']})\n",
    ")"
   ]
  },
  {
   "cell_type": "code",
   "execution_count": 5,
   "id": "f2b06144",
   "metadata": {},
   "outputs": [],
   "source": [
    "distribution_of_weights_given.columns = ['weight', 'users_count']"
   ]
  },
  {
   "cell_type": "code",
   "execution_count": null,
   "id": "b9262d61",
   "metadata": {},
   "outputs": [],
   "source": [
    "data = distribution_of_weights_given['users_count']\n",
    "plt.hist(data, weights=np.ones(len(data)) / len(data), bins=200)\n",
    "plt.gca().set(\n",
    "    title='Distribution of Weights ', \n",
    "    xlabel='Number of Users',\n",
    "    ylabel='Frequency'\n",
    ");"
   ]
  },
  {
   "cell_type": "code",
   "execution_count": null,
   "id": "25445d1e",
   "metadata": {},
   "outputs": [],
   "source": [
    "user_artists['weight']"
   ]
  },
  {
   "cell_type": "code",
   "execution_count": 6,
   "id": "f2c057d8",
   "metadata": {},
   "outputs": [],
   "source": [
    "list_of_weights = np.asarray(user_artists['weight'])"
   ]
  },
  {
   "cell_type": "code",
   "execution_count": 7,
   "id": "f691763c",
   "metadata": {},
   "outputs": [
    {
     "data": {
      "text/plain": [
       "352698"
      ]
     },
     "execution_count": 7,
     "metadata": {},
     "output_type": "execute_result"
    }
   ],
   "source": [
    "max(list_of_weights)"
   ]
  },
  {
   "cell_type": "code",
   "execution_count": null,
   "id": "c79271be",
   "metadata": {},
   "outputs": [],
   "source": [
    "list_of_weights"
   ]
  },
  {
   "cell_type": "code",
   "execution_count": null,
   "id": "0f30b9f3",
   "metadata": {},
   "outputs": [],
   "source": [
    "plt.hist(list_of_weights)"
   ]
  },
  {
   "cell_type": "code",
   "execution_count": 8,
   "id": "169e0594",
   "metadata": {},
   "outputs": [],
   "source": [
    "list_of_weights.sort()"
   ]
  },
  {
   "cell_type": "code",
   "execution_count": 9,
   "id": "27e70154",
   "metadata": {},
   "outputs": [
    {
     "data": {
      "text/plain": [
       "array([     1,      1,      1, ..., 320725, 324663, 352698], dtype=int64)"
      ]
     },
     "execution_count": 9,
     "metadata": {},
     "output_type": "execute_result"
    }
   ],
   "source": [
    "list_of_weights"
   ]
  },
  {
   "cell_type": "code",
   "execution_count": 10,
   "id": "6190f9f5",
   "metadata": {},
   "outputs": [
    {
     "data": {
      "text/plain": [
       "92834"
      ]
     },
     "execution_count": 10,
     "metadata": {},
     "output_type": "execute_result"
    }
   ],
   "source": [
    "len(list_of_weights)"
   ]
  },
  {
   "cell_type": "markdown",
   "id": "9d608f43",
   "metadata": {},
   "source": [
    "Assume a normal distribution for the people that like artists"
   ]
  },
  {
   "cell_type": "code",
   "execution_count": 12,
   "id": "fdd4ae1f",
   "metadata": {},
   "outputs": [
    {
     "data": {
      "text/plain": [
       "745.2439300256372"
      ]
     },
     "execution_count": 12,
     "metadata": {},
     "output_type": "execute_result"
    }
   ],
   "source": [
    "list_of_weights.mean()"
   ]
  },
  {
   "cell_type": "code",
   "execution_count": 17,
   "id": "4d77b359",
   "metadata": {},
   "outputs": [
    {
     "data": {
      "text/plain": [
       "(array([8.1435e+04, 6.8300e+03, 1.9950e+03, 8.8700e+02, 4.6700e+02,\n",
       "        2.6300e+02, 1.7500e+02, 1.0900e+02, 9.2000e+01, 8.4000e+01,\n",
       "        6.0000e+01, 4.6000e+01, 3.5000e+01, 4.2000e+01, 3.0000e+01,\n",
       "        1.6000e+01, 1.7000e+01, 2.0000e+01, 1.7000e+01, 1.4000e+01,\n",
       "        1.8000e+01, 7.0000e+00, 1.4000e+01, 9.0000e+00, 9.0000e+00,\n",
       "        9.0000e+00, 9.0000e+00, 7.0000e+00, 7.0000e+00, 7.0000e+00,\n",
       "        5.0000e+00, 4.0000e+00, 3.0000e+00, 5.0000e+00, 5.0000e+00,\n",
       "        2.0000e+00, 1.0000e+00, 6.0000e+00, 4.0000e+00, 0.0000e+00,\n",
       "        5.0000e+00, 1.0000e+00, 1.0000e+00, 1.0000e+00, 1.0000e+00,\n",
       "        2.0000e+00, 2.0000e+00, 2.0000e+00, 2.0000e+00, 0.0000e+00,\n",
       "        1.0000e+00, 5.0000e+00, 2.0000e+00, 0.0000e+00, 2.0000e+00,\n",
       "        0.0000e+00, 1.0000e+00, 0.0000e+00, 1.0000e+00, 0.0000e+00,\n",
       "        0.0000e+00, 2.0000e+00, 2.0000e+00, 0.0000e+00, 1.0000e+00,\n",
       "        0.0000e+00, 1.0000e+00, 1.0000e+00, 2.0000e+00, 1.0000e+00,\n",
       "        3.0000e+00, 0.0000e+00, 1.0000e+00, 0.0000e+00, 1.0000e+00,\n",
       "        0.0000e+00, 0.0000e+00, 0.0000e+00, 0.0000e+00, 0.0000e+00,\n",
       "        0.0000e+00, 0.0000e+00, 0.0000e+00, 0.0000e+00, 0.0000e+00,\n",
       "        1.0000e+00, 0.0000e+00, 1.0000e+00, 0.0000e+00, 0.0000e+00,\n",
       "        0.0000e+00, 1.0000e+00, 0.0000e+00, 3.0000e+00, 0.0000e+00,\n",
       "        1.0000e+00, 0.0000e+00, 1.0000e+00, 0.0000e+00, 0.0000e+00,\n",
       "        0.0000e+00, 0.0000e+00, 0.0000e+00, 0.0000e+00, 1.0000e+00,\n",
       "        0.0000e+00, 1.0000e+00, 0.0000e+00, 0.0000e+00, 1.0000e+00,\n",
       "        1.0000e+00, 0.0000e+00, 1.0000e+00, 0.0000e+00, 0.0000e+00,\n",
       "        0.0000e+00, 0.0000e+00, 0.0000e+00, 0.0000e+00, 0.0000e+00,\n",
       "        0.0000e+00, 0.0000e+00, 1.0000e+00, 0.0000e+00, 1.0000e+00,\n",
       "        0.0000e+00, 0.0000e+00, 0.0000e+00, 0.0000e+00, 0.0000e+00,\n",
       "        0.0000e+00, 0.0000e+00, 0.0000e+00, 0.0000e+00, 0.0000e+00,\n",
       "        0.0000e+00, 0.0000e+00, 0.0000e+00, 0.0000e+00, 0.0000e+00,\n",
       "        0.0000e+00, 1.0000e+00, 0.0000e+00, 0.0000e+00, 1.0000e+00,\n",
       "        0.0000e+00, 1.0000e+00, 0.0000e+00, 0.0000e+00, 1.0000e+00,\n",
       "        0.0000e+00, 0.0000e+00, 0.0000e+00, 0.0000e+00, 0.0000e+00,\n",
       "        0.0000e+00, 0.0000e+00, 0.0000e+00, 0.0000e+00, 0.0000e+00,\n",
       "        0.0000e+00, 0.0000e+00, 0.0000e+00, 0.0000e+00, 0.0000e+00,\n",
       "        0.0000e+00, 0.0000e+00, 0.0000e+00, 0.0000e+00, 0.0000e+00,\n",
       "        0.0000e+00, 0.0000e+00, 1.0000e+00, 0.0000e+00, 0.0000e+00,\n",
       "        0.0000e+00, 0.0000e+00, 0.0000e+00, 0.0000e+00, 0.0000e+00,\n",
       "        0.0000e+00, 0.0000e+00, 0.0000e+00, 0.0000e+00, 0.0000e+00,\n",
       "        0.0000e+00, 0.0000e+00, 0.0000e+00, 0.0000e+00, 0.0000e+00,\n",
       "        0.0000e+00, 0.0000e+00, 0.0000e+00, 1.0000e+00, 0.0000e+00,\n",
       "        0.0000e+00, 0.0000e+00, 0.0000e+00, 0.0000e+00, 0.0000e+00,\n",
       "        0.0000e+00, 0.0000e+00, 0.0000e+00, 0.0000e+00, 0.0000e+00,\n",
       "        0.0000e+00, 0.0000e+00, 0.0000e+00, 0.0000e+00, 0.0000e+00,\n",
       "        0.0000e+00, 0.0000e+00, 0.0000e+00, 0.0000e+00, 0.0000e+00,\n",
       "        0.0000e+00, 0.0000e+00, 0.0000e+00, 0.0000e+00, 1.0000e+00,\n",
       "        0.0000e+00, 0.0000e+00, 0.0000e+00, 0.0000e+00, 0.0000e+00,\n",
       "        0.0000e+00, 0.0000e+00, 0.0000e+00, 0.0000e+00, 0.0000e+00,\n",
       "        0.0000e+00, 0.0000e+00, 0.0000e+00, 0.0000e+00, 0.0000e+00,\n",
       "        0.0000e+00, 0.0000e+00, 0.0000e+00, 0.0000e+00, 0.0000e+00,\n",
       "        0.0000e+00, 0.0000e+00, 0.0000e+00, 0.0000e+00, 0.0000e+00,\n",
       "        0.0000e+00, 0.0000e+00, 0.0000e+00, 0.0000e+00, 0.0000e+00,\n",
       "        0.0000e+00, 0.0000e+00, 0.0000e+00, 0.0000e+00, 0.0000e+00,\n",
       "        0.0000e+00, 0.0000e+00, 0.0000e+00, 0.0000e+00, 0.0000e+00,\n",
       "        0.0000e+00, 0.0000e+00, 0.0000e+00, 0.0000e+00, 0.0000e+00,\n",
       "        0.0000e+00, 0.0000e+00, 0.0000e+00, 0.0000e+00, 0.0000e+00,\n",
       "        0.0000e+00, 0.0000e+00, 1.0000e+00, 0.0000e+00, 0.0000e+00,\n",
       "        0.0000e+00, 1.0000e+00, 0.0000e+00, 0.0000e+00, 0.0000e+00,\n",
       "        0.0000e+00, 0.0000e+00, 0.0000e+00, 0.0000e+00, 0.0000e+00,\n",
       "        0.0000e+00, 0.0000e+00, 0.0000e+00, 0.0000e+00, 0.0000e+00,\n",
       "        0.0000e+00, 0.0000e+00, 0.0000e+00, 0.0000e+00, 0.0000e+00,\n",
       "        0.0000e+00, 0.0000e+00, 0.0000e+00, 0.0000e+00, 1.0000e+00]),\n",
       " array([1.00000000e+00, 1.17665667e+03, 2.35231333e+03, 3.52797000e+03,\n",
       "        4.70362667e+03, 5.87928333e+03, 7.05494000e+03, 8.23059667e+03,\n",
       "        9.40625333e+03, 1.05819100e+04, 1.17575667e+04, 1.29332233e+04,\n",
       "        1.41088800e+04, 1.52845367e+04, 1.64601933e+04, 1.76358500e+04,\n",
       "        1.88115067e+04, 1.99871633e+04, 2.11628200e+04, 2.23384767e+04,\n",
       "        2.35141333e+04, 2.46897900e+04, 2.58654467e+04, 2.70411033e+04,\n",
       "        2.82167600e+04, 2.93924167e+04, 3.05680733e+04, 3.17437300e+04,\n",
       "        3.29193867e+04, 3.40950433e+04, 3.52707000e+04, 3.64463567e+04,\n",
       "        3.76220133e+04, 3.87976700e+04, 3.99733267e+04, 4.11489833e+04,\n",
       "        4.23246400e+04, 4.35002967e+04, 4.46759533e+04, 4.58516100e+04,\n",
       "        4.70272667e+04, 4.82029233e+04, 4.93785800e+04, 5.05542367e+04,\n",
       "        5.17298933e+04, 5.29055500e+04, 5.40812067e+04, 5.52568633e+04,\n",
       "        5.64325200e+04, 5.76081767e+04, 5.87838333e+04, 5.99594900e+04,\n",
       "        6.11351467e+04, 6.23108033e+04, 6.34864600e+04, 6.46621167e+04,\n",
       "        6.58377733e+04, 6.70134300e+04, 6.81890867e+04, 6.93647433e+04,\n",
       "        7.05404000e+04, 7.17160567e+04, 7.28917133e+04, 7.40673700e+04,\n",
       "        7.52430267e+04, 7.64186833e+04, 7.75943400e+04, 7.87699967e+04,\n",
       "        7.99456533e+04, 8.11213100e+04, 8.22969667e+04, 8.34726233e+04,\n",
       "        8.46482800e+04, 8.58239367e+04, 8.69995933e+04, 8.81752500e+04,\n",
       "        8.93509067e+04, 9.05265633e+04, 9.17022200e+04, 9.28778767e+04,\n",
       "        9.40535333e+04, 9.52291900e+04, 9.64048467e+04, 9.75805033e+04,\n",
       "        9.87561600e+04, 9.99318167e+04, 1.01107473e+05, 1.02283130e+05,\n",
       "        1.03458787e+05, 1.04634443e+05, 1.05810100e+05, 1.06985757e+05,\n",
       "        1.08161413e+05, 1.09337070e+05, 1.10512727e+05, 1.11688383e+05,\n",
       "        1.12864040e+05, 1.14039697e+05, 1.15215353e+05, 1.16391010e+05,\n",
       "        1.17566667e+05, 1.18742323e+05, 1.19917980e+05, 1.21093637e+05,\n",
       "        1.22269293e+05, 1.23444950e+05, 1.24620607e+05, 1.25796263e+05,\n",
       "        1.26971920e+05, 1.28147577e+05, 1.29323233e+05, 1.30498890e+05,\n",
       "        1.31674547e+05, 1.32850203e+05, 1.34025860e+05, 1.35201517e+05,\n",
       "        1.36377173e+05, 1.37552830e+05, 1.38728487e+05, 1.39904143e+05,\n",
       "        1.41079800e+05, 1.42255457e+05, 1.43431113e+05, 1.44606770e+05,\n",
       "        1.45782427e+05, 1.46958083e+05, 1.48133740e+05, 1.49309397e+05,\n",
       "        1.50485053e+05, 1.51660710e+05, 1.52836367e+05, 1.54012023e+05,\n",
       "        1.55187680e+05, 1.56363337e+05, 1.57538993e+05, 1.58714650e+05,\n",
       "        1.59890307e+05, 1.61065963e+05, 1.62241620e+05, 1.63417277e+05,\n",
       "        1.64592933e+05, 1.65768590e+05, 1.66944247e+05, 1.68119903e+05,\n",
       "        1.69295560e+05, 1.70471217e+05, 1.71646873e+05, 1.72822530e+05,\n",
       "        1.73998187e+05, 1.75173843e+05, 1.76349500e+05, 1.77525157e+05,\n",
       "        1.78700813e+05, 1.79876470e+05, 1.81052127e+05, 1.82227783e+05,\n",
       "        1.83403440e+05, 1.84579097e+05, 1.85754753e+05, 1.86930410e+05,\n",
       "        1.88106067e+05, 1.89281723e+05, 1.90457380e+05, 1.91633037e+05,\n",
       "        1.92808693e+05, 1.93984350e+05, 1.95160007e+05, 1.96335663e+05,\n",
       "        1.97511320e+05, 1.98686977e+05, 1.99862633e+05, 2.01038290e+05,\n",
       "        2.02213947e+05, 2.03389603e+05, 2.04565260e+05, 2.05740917e+05,\n",
       "        2.06916573e+05, 2.08092230e+05, 2.09267887e+05, 2.10443543e+05,\n",
       "        2.11619200e+05, 2.12794857e+05, 2.13970513e+05, 2.15146170e+05,\n",
       "        2.16321827e+05, 2.17497483e+05, 2.18673140e+05, 2.19848797e+05,\n",
       "        2.21024453e+05, 2.22200110e+05, 2.23375767e+05, 2.24551423e+05,\n",
       "        2.25727080e+05, 2.26902737e+05, 2.28078393e+05, 2.29254050e+05,\n",
       "        2.30429707e+05, 2.31605363e+05, 2.32781020e+05, 2.33956677e+05,\n",
       "        2.35132333e+05, 2.36307990e+05, 2.37483647e+05, 2.38659303e+05,\n",
       "        2.39834960e+05, 2.41010617e+05, 2.42186273e+05, 2.43361930e+05,\n",
       "        2.44537587e+05, 2.45713243e+05, 2.46888900e+05, 2.48064557e+05,\n",
       "        2.49240213e+05, 2.50415870e+05, 2.51591527e+05, 2.52767183e+05,\n",
       "        2.53942840e+05, 2.55118497e+05, 2.56294153e+05, 2.57469810e+05,\n",
       "        2.58645467e+05, 2.59821123e+05, 2.60996780e+05, 2.62172437e+05,\n",
       "        2.63348093e+05, 2.64523750e+05, 2.65699407e+05, 2.66875063e+05,\n",
       "        2.68050720e+05, 2.69226377e+05, 2.70402033e+05, 2.71577690e+05,\n",
       "        2.72753347e+05, 2.73929003e+05, 2.75104660e+05, 2.76280317e+05,\n",
       "        2.77455973e+05, 2.78631630e+05, 2.79807287e+05, 2.80982943e+05,\n",
       "        2.82158600e+05, 2.83334257e+05, 2.84509913e+05, 2.85685570e+05,\n",
       "        2.86861227e+05, 2.88036883e+05, 2.89212540e+05, 2.90388197e+05,\n",
       "        2.91563853e+05, 2.92739510e+05, 2.93915167e+05, 2.95090823e+05,\n",
       "        2.96266480e+05, 2.97442137e+05, 2.98617793e+05, 2.99793450e+05,\n",
       "        3.00969107e+05, 3.02144763e+05, 3.03320420e+05, 3.04496077e+05,\n",
       "        3.05671733e+05, 3.06847390e+05, 3.08023047e+05, 3.09198703e+05,\n",
       "        3.10374360e+05, 3.11550017e+05, 3.12725673e+05, 3.13901330e+05,\n",
       "        3.15076987e+05, 3.16252643e+05, 3.17428300e+05, 3.18603957e+05,\n",
       "        3.19779613e+05, 3.20955270e+05, 3.22130927e+05, 3.23306583e+05,\n",
       "        3.24482240e+05, 3.25657897e+05, 3.26833553e+05, 3.28009210e+05,\n",
       "        3.29184867e+05, 3.30360523e+05, 3.31536180e+05, 3.32711837e+05,\n",
       "        3.33887493e+05, 3.35063150e+05, 3.36238807e+05, 3.37414463e+05,\n",
       "        3.38590120e+05, 3.39765777e+05, 3.40941433e+05, 3.42117090e+05,\n",
       "        3.43292747e+05, 3.44468403e+05, 3.45644060e+05, 3.46819717e+05,\n",
       "        3.47995373e+05, 3.49171030e+05, 3.50346687e+05, 3.51522343e+05,\n",
       "        3.52698000e+05]),\n",
       " <BarContainer object of 300 artists>)"
      ]
     },
     "execution_count": 17,
     "metadata": {},
     "output_type": "execute_result"
    },
    {
     "data": {
      "image/png": "[encoded data removed]",
      "text/plain": [
       "<Figure size 432x288 with 1 Axes>"
      ]
     },
     "metadata": {
      "needs_background": "light"
     },
     "output_type": "display_data"
    }
   ],
   "source": [
    "plt.hist(list_of_weights, bins=300)"
   ]
  },
  {
   "cell_type": "markdown",
   "id": "adb09255",
   "metadata": {},
   "source": [
    "Let's find out what proportion of people's weights are under 10,000"
   ]
  },
  {
   "cell_type": "code",
   "execution_count": 19,
   "id": "a7aed7ca",
   "metadata": {},
   "outputs": [
    {
     "data": {
      "text/plain": [
       "userID      0.993214\n",
       "artistID    0.993214\n",
       "weight      0.993214\n",
       "dtype: float64"
      ]
     },
     "execution_count": 19,
     "metadata": {},
     "output_type": "execute_result"
    }
   ],
   "source": [
    "user_artists[user_artists['weight']<=10000].count()/92834"
   ]
  },
  {
   "cell_type": "markdown",
   "id": "91c1aa44",
   "metadata": {},
   "source": [
    "99.32% of people are under 10,000 listens"
   ]
  },
  {
   "cell_type": "code",
   "execution_count": 37,
   "id": "cc10fb60",
   "metadata": {},
   "outputs": [
    {
     "data": {
      "text/plain": [
       "userID      0.950008\n",
       "artistID    0.950008\n",
       "weight      0.950008\n",
       "dtype: float64"
      ]
     },
     "execution_count": 37,
     "metadata": {},
     "output_type": "execute_result"
    }
   ],
   "source": [
    "user_artists[user_artists['weight']<=2328].count()/92834"
   ]
  },
  {
   "cell_type": "markdown",
   "id": "bc9ad156",
   "metadata": {},
   "source": [
    "95% of the users listen to artists under 2328 times"
   ]
  },
  {
   "cell_type": "code",
   "execution_count": 38,
   "id": "4039454f",
   "metadata": {},
   "outputs": [
    {
     "data": {
      "text/html": [
       "<div>\n",
       "<style scoped>\n",
       "    .dataframe tbody tr th:only-of-type {\n",
       "        vertical-align: middle;\n",
       "    }\n",
       "\n",
       "    .dataframe tbody tr th {\n",
       "        vertical-align: top;\n",
       "    }\n",
       "\n",
       "    .dataframe thead th {\n",
       "        text-align: right;\n",
       "    }\n",
       "</style>\n",
       "<table border=\"1\" class=\"dataframe\">\n",
       "  <thead>\n",
       "    <tr style=\"text-align: right;\">\n",
       "      <th></th>\n",
       "      <th>userID</th>\n",
       "      <th>artistID</th>\n",
       "      <th>weight</th>\n",
       "    </tr>\n",
       "  </thead>\n",
       "  <tbody>\n",
       "    <tr>\n",
       "      <th>0</th>\n",
       "      <td>2</td>\n",
       "      <td>51</td>\n",
       "      <td>1</td>\n",
       "    </tr>\n",
       "    <tr>\n",
       "      <th>1</th>\n",
       "      <td>2</td>\n",
       "      <td>52</td>\n",
       "      <td>1</td>\n",
       "    </tr>\n",
       "    <tr>\n",
       "      <th>2</th>\n",
       "      <td>2</td>\n",
       "      <td>53</td>\n",
       "      <td>1</td>\n",
       "    </tr>\n",
       "    <tr>\n",
       "      <th>3</th>\n",
       "      <td>2</td>\n",
       "      <td>54</td>\n",
       "      <td>1</td>\n",
       "    </tr>\n",
       "    <tr>\n",
       "      <th>4</th>\n",
       "      <td>2</td>\n",
       "      <td>55</td>\n",
       "      <td>1</td>\n",
       "    </tr>\n",
       "    <tr>\n",
       "      <th>...</th>\n",
       "      <td>...</td>\n",
       "      <td>...</td>\n",
       "      <td>...</td>\n",
       "    </tr>\n",
       "    <tr>\n",
       "      <th>88188</th>\n",
       "      <td>1996</td>\n",
       "      <td>475</td>\n",
       "      <td>2327</td>\n",
       "    </tr>\n",
       "    <tr>\n",
       "      <th>88189</th>\n",
       "      <td>1996</td>\n",
       "      <td>527</td>\n",
       "      <td>2327</td>\n",
       "    </tr>\n",
       "    <tr>\n",
       "      <th>88190</th>\n",
       "      <td>1996</td>\n",
       "      <td>569</td>\n",
       "      <td>2327</td>\n",
       "    </tr>\n",
       "    <tr>\n",
       "      <th>88191</th>\n",
       "      <td>1996</td>\n",
       "      <td>572</td>\n",
       "      <td>2328</td>\n",
       "    </tr>\n",
       "    <tr>\n",
       "      <th>88192</th>\n",
       "      <td>1996</td>\n",
       "      <td>718</td>\n",
       "      <td>2328</td>\n",
       "    </tr>\n",
       "  </tbody>\n",
       "</table>\n",
       "<p>88193 rows × 3 columns</p>\n",
       "</div>"
      ],
      "text/plain": [
       "       userID  artistID  weight\n",
       "0           2        51       1\n",
       "1           2        52       1\n",
       "2           2        53       1\n",
       "3           2        54       1\n",
       "4           2        55       1\n",
       "...       ...       ...     ...\n",
       "88188    1996       475    2327\n",
       "88189    1996       527    2327\n",
       "88190    1996       569    2327\n",
       "88191    1996       572    2328\n",
       "88192    1996       718    2328\n",
       "\n",
       "[88193 rows x 3 columns]"
      ]
     },
     "execution_count": 38,
     "metadata": {},
     "output_type": "execute_result"
    }
   ],
   "source": [
    "user_artists[user_artists['weight']<=2328]"
   ]
  },
  {
   "cell_type": "code",
   "execution_count": 45,
   "id": "6867581d",
   "metadata": {},
   "outputs": [
    {
     "data": {
      "text/plain": [
       "(array([17759., 14407., 11094.,  8422.,  6262.,  4968.,  3828.,  3172.,\n",
       "         2543.,  2116.,  1794.,  1360.,  1223.,  1258.,  1077.,   899.,\n",
       "          749.,   714.,   624.,   575.,   536.,   416.,   409.,   356.,\n",
       "          292.,   324.,   255.,   266.,   257.,   238.]),\n",
       " array([1.00000000e+00, 7.85666667e+01, 1.56133333e+02, 2.33700000e+02,\n",
       "        3.11266667e+02, 3.88833333e+02, 4.66400000e+02, 5.43966667e+02,\n",
       "        6.21533333e+02, 6.99100000e+02, 7.76666667e+02, 8.54233333e+02,\n",
       "        9.31800000e+02, 1.00936667e+03, 1.08693333e+03, 1.16450000e+03,\n",
       "        1.24206667e+03, 1.31963333e+03, 1.39720000e+03, 1.47476667e+03,\n",
       "        1.55233333e+03, 1.62990000e+03, 1.70746667e+03, 1.78503333e+03,\n",
       "        1.86260000e+03, 1.94016667e+03, 2.01773333e+03, 2.09530000e+03,\n",
       "        2.17286667e+03, 2.25043333e+03, 2.32800000e+03]),\n",
       " <BarContainer object of 30 artists>)"
      ]
     },
     "execution_count": 45,
     "metadata": {},
     "output_type": "execute_result"
    },
    {
     "data": {
      "image/png": "[encoded data removed]",
      "text/plain": [
       "<Figure size 432x288 with 1 Axes>"
      ]
     },
     "metadata": {
      "needs_background": "light"
     },
     "output_type": "display_data"
    }
   ],
   "source": [
    "plt.hist(user_artists[user_artists['weight']<=2328]['weight'], bins = 30)"
   ]
  },
  {
   "cell_type": "code",
   "execution_count": 42,
   "id": "61e8587f",
   "metadata": {},
   "outputs": [
    {
     "data": {
      "text/plain": [
       "0           1\n",
       "1           1\n",
       "2           1\n",
       "3           1\n",
       "4           1\n",
       "         ... \n",
       "88188    2327\n",
       "88189    2327\n",
       "88190    2327\n",
       "88191    2328\n",
       "88192    2328\n",
       "Name: weight, Length: 88193, dtype: int64"
      ]
     },
     "execution_count": 42,
     "metadata": {},
     "output_type": "execute_result"
    }
   ],
   "source": [
    "user_artists[user_artists['weight']<=2328]['weight']"
   ]
  },
  {
   "cell_type": "code",
   "execution_count": 47,
   "id": "d98040cc",
   "metadata": {},
   "outputs": [
    {
     "data": {
      "text/html": [
       "<div>\n",
       "<style scoped>\n",
       "    .dataframe tbody tr th:only-of-type {\n",
       "        vertical-align: middle;\n",
       "    }\n",
       "\n",
       "    .dataframe tbody tr th {\n",
       "        vertical-align: top;\n",
       "    }\n",
       "\n",
       "    .dataframe thead th {\n",
       "        text-align: right;\n",
       "    }\n",
       "</style>\n",
       "<table border=\"1\" class=\"dataframe\">\n",
       "  <thead>\n",
       "    <tr style=\"text-align: right;\">\n",
       "      <th></th>\n",
       "      <th>userID</th>\n",
       "      <th>artistID</th>\n",
       "      <th>weight</th>\n",
       "    </tr>\n",
       "  </thead>\n",
       "  <tbody>\n",
       "    <tr>\n",
       "      <th>0</th>\n",
       "      <td>2</td>\n",
       "      <td>51</td>\n",
       "      <td>1</td>\n",
       "    </tr>\n",
       "    <tr>\n",
       "      <th>1</th>\n",
       "      <td>2</td>\n",
       "      <td>52</td>\n",
       "      <td>1</td>\n",
       "    </tr>\n",
       "    <tr>\n",
       "      <th>2</th>\n",
       "      <td>2</td>\n",
       "      <td>53</td>\n",
       "      <td>1</td>\n",
       "    </tr>\n",
       "    <tr>\n",
       "      <th>3</th>\n",
       "      <td>2</td>\n",
       "      <td>54</td>\n",
       "      <td>1</td>\n",
       "    </tr>\n",
       "    <tr>\n",
       "      <th>4</th>\n",
       "      <td>2</td>\n",
       "      <td>55</td>\n",
       "      <td>1</td>\n",
       "    </tr>\n",
       "    <tr>\n",
       "      <th>...</th>\n",
       "      <td>...</td>\n",
       "      <td>...</td>\n",
       "      <td>...</td>\n",
       "    </tr>\n",
       "    <tr>\n",
       "      <th>92829</th>\n",
       "      <td>2100</td>\n",
       "      <td>18726</td>\n",
       "      <td>227829</td>\n",
       "    </tr>\n",
       "    <tr>\n",
       "      <th>92830</th>\n",
       "      <td>2100</td>\n",
       "      <td>18727</td>\n",
       "      <td>257978</td>\n",
       "    </tr>\n",
       "    <tr>\n",
       "      <th>92831</th>\n",
       "      <td>2100</td>\n",
       "      <td>18728</td>\n",
       "      <td>320725</td>\n",
       "    </tr>\n",
       "    <tr>\n",
       "      <th>92832</th>\n",
       "      <td>2100</td>\n",
       "      <td>18729</td>\n",
       "      <td>324663</td>\n",
       "    </tr>\n",
       "    <tr>\n",
       "      <th>92833</th>\n",
       "      <td>2100</td>\n",
       "      <td>18730</td>\n",
       "      <td>352698</td>\n",
       "    </tr>\n",
       "  </tbody>\n",
       "</table>\n",
       "<p>92834 rows × 3 columns</p>\n",
       "</div>"
      ],
      "text/plain": [
       "       userID  artistID  weight\n",
       "0           2        51       1\n",
       "1           2        52       1\n",
       "2           2        53       1\n",
       "3           2        54       1\n",
       "4           2        55       1\n",
       "...       ...       ...     ...\n",
       "92829    2100     18726  227829\n",
       "92830    2100     18727  257978\n",
       "92831    2100     18728  320725\n",
       "92832    2100     18729  324663\n",
       "92833    2100     18730  352698\n",
       "\n",
       "[92834 rows x 3 columns]"
      ]
     },
     "execution_count": 47,
     "metadata": {},
     "output_type": "execute_result"
    }
   ],
   "source": [
    "user_artists"
   ]
  },
  {
   "cell_type": "code",
   "execution_count": 51,
   "id": "91272653",
   "metadata": {},
   "outputs": [],
   "source": [
    "userIDs = np.asarray(user_artists['userID'])"
   ]
  },
  {
   "cell_type": "code",
   "execution_count": 52,
   "id": "9da7d14f",
   "metadata": {},
   "outputs": [
    {
     "data": {
      "text/plain": [
       "array([   2,    2,    2, ..., 2100, 2100, 2100], dtype=int64)"
      ]
     },
     "execution_count": 52,
     "metadata": {},
     "output_type": "execute_result"
    }
   ],
   "source": [
    "userIDs"
   ]
  },
  {
   "cell_type": "code",
   "execution_count": 55,
   "id": "66adff9f",
   "metadata": {},
   "outputs": [
    {
     "data": {
      "text/plain": [
       "1892"
      ]
     },
     "execution_count": 55,
     "metadata": {},
     "output_type": "execute_result"
    }
   ],
   "source": [
    "len(set(userIDs))"
   ]
  },
  {
   "cell_type": "markdown",
   "id": "7c3797d9",
   "metadata": {},
   "source": [
    "There are 1,892 users in this dataset"
   ]
  },
  {
   "cell_type": "code",
   "execution_count": null,
   "id": "57f395e2",
   "metadata": {},
   "outputs": [],
   "source": []
  }
 ],
 "metadata": {
  "kernelspec": {
   "display_name": "Python 3 (ipykernel)",
   "language": "python",
   "name": "python3"
  },
  "language_info": {
   "codemirror_mode": {
    "name": "ipython",
    "version": 3
   },
   "file_extension": ".py",
   "mimetype": "text/x-python",
   "name": "python",
   "nbconvert_exporter": "python",
   "pygments_lexer": "ipython3",
   "version": "3.9.7"
  }
 },
 "nbformat": 4,
 "nbformat_minor": 5
}
