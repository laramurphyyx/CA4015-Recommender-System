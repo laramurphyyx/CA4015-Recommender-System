{
 "cells": [
  {
   "cell_type": "code",
   "execution_count": 1,
   "id": "aefc81eb",
   "metadata": {},
   "outputs": [],
   "source": [
    "import pandas as pd\n",
    "import numpy as np\n",
    "import itertools\n",
    "import matplotlib.pyplot as plt"
   ]
  },
  {
   "cell_type": "code",
   "execution_count": 2,
   "id": "592b3db6",
   "metadata": {},
   "outputs": [],
   "source": [
    "dataframe_names = [\n",
    "    'user_friends',\n",
    "    'user_taggedartists',\n",
    "    'artists',\n",
    "    'tags',\n",
    "    'user_artists']\n",
    "\n",
    "file_names = [\n",
    "    'data/user_friends.csv',\n",
    "    'data/user_taggedartists.csv',\n",
    "    'data/artists.csv',\n",
    "    'data/tags.dat',\n",
    "    'data/user_artists.csv']"
   ]
  },
  {
   "cell_type": "code",
   "execution_count": 3,
   "id": "9bcd2acb",
   "metadata": {},
   "outputs": [],
   "source": [
    "for (dataframe, file) in zip(dataframe_names, file_names):\n",
    "    if dataframe == 'tags':\n",
    "        vars()[dataframe] = pd.read_table(file, sep=\"\\t\", encoding = \"latin-1\")\n",
    "    else:\n",
    "        vars()[dataframe] = pd.read_csv(file)"
   ]
  },
  {
   "cell_type": "markdown",
   "id": "75183fc5",
   "metadata": {},
   "source": [
    "# Exploring the Users' Friends Dataset"
   ]
  },
  {
   "cell_type": "code",
   "execution_count": 5,
   "id": "7176fee0",
   "metadata": {},
   "outputs": [],
   "source": [
    "users_friends_count = (\n",
    "    user_friends\n",
    "    .groupby('userID', as_index=False)\n",
    "    .agg({'friendID': ['count']})\n",
    ")"
   ]
  },
  {
   "cell_type": "code",
   "execution_count": 6,
   "id": "8a676dbe",
   "metadata": {},
   "outputs": [],
   "source": [
    "users_friends_count.columns = ['userID', 'count_friends']"
   ]
  },
  {
   "cell_type": "code",
   "execution_count": 7,
   "id": "54695ebc",
   "metadata": {},
   "outputs": [
    {
     "name": "stdout",
     "output_type": "stream",
     "text": [
      "The average number of friends each user has is 13.44291754756871 friends\n",
      "The user with the least amount of friends has 1 friends\n",
      "The user with the most amount of friends has 119 friends\n"
     ]
    }
   ],
   "source": [
    "mean = str(users_friends_count['count_friends'].mean())\n",
    "min = str(users_friends_count['count_friends'].min())\n",
    "max = str(users_friends_count['count_friends'].max())\n",
    "\n",
    "print('The average number of friends each user has is ' + mean + ' friends')\n",
    "print('The user with the least amount of friends has ' + min + ' friends')\n",
    "print('The user with the most amount of friends has ' + max + ' friends')"
   ]
  },
  {
   "cell_type": "code",
   "execution_count": 8,
   "id": "faf1b7d2",
   "metadata": {},
   "outputs": [
    {
     "data": {
      "image/png": "[encoded data removed]",
      "text/plain": [
       "<Figure size 432x288 with 1 Axes>"
      ]
     },
     "metadata": {
      "needs_background": "light"
     },
     "output_type": "display_data"
    }
   ],
   "source": [
    "data = users_friends_count['count_friends']\n",
    "plt.hist(data, weights=np.ones(len(data)) / len(data), bins=120, edgecolor='black')\n",
    "plt.gca().set(\n",
    "    title='Distribution of Number of Friends per User', \n",
    "    xlabel='Number of Friends',\n",
    "    ylabel='Frequency'\n",
    ");"
   ]
  },
  {
   "cell_type": "markdown",
   "id": "597b3863",
   "metadata": {},
   "source": [
    "As you can see in the above chart, over 60% of the users in this dataset have between 0 and 10 friends. Only ~15% of users have between 10 and 20 friends. \n",
    "\n",
    "We can also conclude that only less than 25% of users have over 20 friends. This is useful to know, as this would imply that a recommender system based off a user's friends' favourite artists alone may not perform accurately.\n",
    "\n",
    "Although using friends' liked artists as a sole method to recommend songs will not perform well, it might be useful to put a slightly larger weight on their friends' artists, as long as they have a similar taste in music."
   ]
  },
  {
   "cell_type": "markdown",
   "id": "8980a324",
   "metadata": {},
   "source": [
    "# Exploring Users' Tagged Artists"
   ]
  },
  {
   "cell_type": "code",
   "execution_count": 9,
   "id": "b61fe73f",
   "metadata": {},
   "outputs": [],
   "source": [
    "tagged_artists_users = (\n",
    "    user_taggedartists\n",
    "    .groupby('artistID', as_index=False)\n",
    "    .agg({'userID': ['count']})\n",
    ")\n",
    "\n",
    "tagged_artists_users = (\n",
    "    user_taggedartists\n",
    "    .groupby('artistID', as_index=False)\n",
    "    .agg({'userID': lambda x: x.nunique()})\n",
    ")"
   ]
  },
  {
   "cell_type": "code",
   "execution_count": 10,
   "id": "786cad63",
   "metadata": {},
   "outputs": [],
   "source": [
    "tagged_artists_users.columns = ['artistID', 'count_users']"
   ]
  },
  {
   "cell_type": "code",
   "execution_count": 11,
   "id": "aec4df4c",
   "metadata": {},
   "outputs": [
    {
     "name": "stdout",
     "output_type": "stream",
     "text": [
      "The average artist has been assigned a tag from 5.7730559843991225 users\n",
      "The user with the least amount of of users assigning tags has 1 user(s)\n",
      "The user with the most amount users assigning tags has 206 users\n"
     ]
    }
   ],
   "source": [
    "mean = str(tagged_artists_users['count_users'].mean())\n",
    "min = str(tagged_artists_users['count_users'].min())\n",
    "max = str(tagged_artists_users['count_users'].max())\n",
    "\n",
    "print('The average artist has been assigned a tag from ' + mean + ' users')\n",
    "print('The user with the least amount of of users assigning tags has ' + min + ' user(s)')\n",
    "print('The user with the most amount users assigning tags has ' + max + ' users')"
   ]
  },
  {
   "cell_type": "code",
   "execution_count": 12,
   "id": "a6ea8ce5",
   "metadata": {},
   "outputs": [
    {
     "data": {
      "image/png": "[encoded data removed]",
      "text/plain": [
       "<Figure size 432x288 with 1 Axes>"
      ]
     },
     "metadata": {
      "needs_background": "light"
     },
     "output_type": "display_data"
    }
   ],
   "source": [
    "data = tagged_artists_users['count_users']\n",
    "plt.hist(data, weights=np.ones(len(data)) / len(data), bins=200)\n",
    "plt.gca().set(\n",
    "    title='Distribution of Number of Users assigning Tags per Artist', \n",
    "    xlabel='Number of Users',\n",
    "    ylabel='Frequency'\n",
    ");"
   ]
  },
  {
   "cell_type": "markdown",
   "id": "fa512cad",
   "metadata": {},
   "source": [
    "The plot above shows that there are very few artists that have over 50 users assigning tags."
   ]
  },
  {
   "cell_type": "code",
   "execution_count": 13,
   "id": "9d0f2a2a",
   "metadata": {},
   "outputs": [
    {
     "data": {
      "text/plain": [
       "artistID       146\n",
       "count_users    146\n",
       "dtype: int64"
      ]
     },
     "execution_count": 13,
     "metadata": {},
     "output_type": "execute_result"
    }
   ],
   "source": [
    "tagged_artists_users[tagged_artists_users['count_users']>=50].count()"
   ]
  },
  {
   "cell_type": "markdown",
   "id": "8e485b43",
   "metadata": {},
   "source": [
    "There are 55 artists who have been assigned tags from over 50 users. This suggests that there isn't a mistaken outlier, and that the data is just very sparse (just over 1%) after reaching 50 users."
   ]
  },
  {
   "cell_type": "code",
   "execution_count": 15,
   "id": "c2758751",
   "metadata": {},
   "outputs": [],
   "source": [
    "tagged_artists_tags = (\n",
    "    user_taggedartists\n",
    "    .groupby('artistID', as_index=False)\n",
    "    .agg({'tagID': lambda x: x.nunique()})\n",
    ")"
   ]
  },
  {
   "cell_type": "code",
   "execution_count": 16,
   "id": "9c52b495",
   "metadata": {},
   "outputs": [],
   "source": [
    "tagged_artists_tags.columns = ['artistID', 'count_tags']"
   ]
  },
  {
   "cell_type": "code",
   "execution_count": 17,
   "id": "d952d139",
   "metadata": {},
   "outputs": [
    {
     "name": "stdout",
     "output_type": "stream",
     "text": [
      "The average artist has been assigned 8.915576501178192 tags\n",
      "The user with the least amount of tags has 1 tag(s)\n",
      "The user with the most amount tags has 329 tags\n"
     ]
    }
   ],
   "source": [
    "mean = str(tagged_artists_tags['count_tags'].mean())\n",
    "min = str(tagged_artists_tags['count_tags'].min())\n",
    "max = str(tagged_artists_tags['count_tags'].max())\n",
    "\n",
    "print('The average artist has been assigned ' + mean + ' tags')\n",
    "print('The user with the least amount of tags has ' + min + ' tag(s)')\n",
    "print('The user with the most amount tags has ' + max + ' tags')"
   ]
  },
  {
   "cell_type": "code",
   "execution_count": 18,
   "id": "17349d56",
   "metadata": {},
   "outputs": [
    {
     "data": {
      "image/png": "[encoded data removed]",
      "text/plain": [
       "<Figure size 432x288 with 1 Axes>"
      ]
     },
     "metadata": {
      "needs_background": "light"
     },
     "output_type": "display_data"
    }
   ],
   "source": [
    "data = tagged_artists_tags['count_tags']\n",
    "plt.hist(data, weights=np.ones(len(data)) / len(data), bins=300)\n",
    "plt.gca().set(\n",
    "    title='Distribution of Number of Tags assigned to each Artist', \n",
    "    xlabel='Number of Tags',\n",
    "    ylabel='Frequency'\n",
    ");"
   ]
  },
  {
   "cell_type": "markdown",
   "id": "bd834f88",
   "metadata": {},
   "source": [
    "The above graph shows that over 25% of artists have received only 1 unique tag. \n",
    "\n",
    "The frequency of tags seems to be very close to 0 when the number of tags is greater than 75."
   ]
  },
  {
   "cell_type": "code",
   "execution_count": 25,
   "id": "19862a71",
   "metadata": {},
   "outputs": [
    {
     "data": {
      "text/plain": [
       "artistID      0.9935\n",
       "count_tags    0.9935\n",
       "dtype: float64"
      ]
     },
     "execution_count": 25,
     "metadata": {},
     "output_type": "execute_result"
    }
   ],
   "source": [
    "tagged_artists_tags[tagged_artists_tags['count_tags']<=75].count()/len(tagged_artists_tags)"
   ]
  },
  {
   "cell_type": "code",
   "execution_count": 26,
   "id": "d2f8827c",
   "metadata": {},
   "outputs": [
    {
     "data": {
      "text/plain": [
       "artistID      0.537093\n",
       "count_tags    0.537093\n",
       "dtype: float64"
      ]
     },
     "execution_count": 26,
     "metadata": {},
     "output_type": "execute_result"
    }
   ],
   "source": [
    "tagged_artists_tags[tagged_artists_tags['count_tags']<=5].count()/len(tagged_artists_tags)"
   ]
  },
  {
   "cell_type": "markdown",
   "id": "e6721eb3",
   "metadata": {},
   "source": [
    "Only 81 (0.65%) of the artists have greater than 75 unique tags assigned to them. \n",
    "\n",
    "In fact, over half of the artists have been assigned between 1 and 5 unique tags.\n",
    "\n",
    "These tags will allow for a more complex recommendation to be made to a user."
   ]
  },
  {
   "cell_type": "markdown",
   "id": "6f16697b",
   "metadata": {},
   "source": [
    "# Exploring the Artists and Tags Dataset"
   ]
  },
  {
   "cell_type": "code",
   "execution_count": 28,
   "id": "cc6381d3",
   "metadata": {
    "scrolled": true
   },
   "outputs": [
    {
     "data": {
      "text/html": [
       "<div>\n",
       "<style scoped>\n",
       "    .dataframe tbody tr th:only-of-type {\n",
       "        vertical-align: middle;\n",
       "    }\n",
       "\n",
       "    .dataframe tbody tr th {\n",
       "        vertical-align: top;\n",
       "    }\n",
       "\n",
       "    .dataframe thead th {\n",
       "        text-align: right;\n",
       "    }\n",
       "</style>\n",
       "<table border=\"1\" class=\"dataframe\">\n",
       "  <thead>\n",
       "    <tr style=\"text-align: right;\">\n",
       "      <th></th>\n",
       "      <th>id</th>\n",
       "      <th>name</th>\n",
       "      <th>url</th>\n",
       "      <th>pictureURL</th>\n",
       "    </tr>\n",
       "  </thead>\n",
       "  <tbody>\n",
       "    <tr>\n",
       "      <th>0</th>\n",
       "      <td>0</td>\n",
       "      <td>MALICE MIZER</td>\n",
       "      <td>http://www.last.fm/music/MALICE+MIZER</td>\n",
       "      <td>http://userserve-ak.last.fm/serve/252/10808.jpg</td>\n",
       "    </tr>\n",
       "    <tr>\n",
       "      <th>1</th>\n",
       "      <td>1</td>\n",
       "      <td>Diary of Dreams</td>\n",
       "      <td>http://www.last.fm/music/Diary+of+Dreams</td>\n",
       "      <td>http://userserve-ak.last.fm/serve/252/3052066.jpg</td>\n",
       "    </tr>\n",
       "    <tr>\n",
       "      <th>2</th>\n",
       "      <td>2</td>\n",
       "      <td>Carpathian Forest</td>\n",
       "      <td>http://www.last.fm/music/Carpathian+Forest</td>\n",
       "      <td>http://userserve-ak.last.fm/serve/252/40222717...</td>\n",
       "    </tr>\n",
       "    <tr>\n",
       "      <th>3</th>\n",
       "      <td>3</td>\n",
       "      <td>Moi dix Mois</td>\n",
       "      <td>http://www.last.fm/music/Moi+dix+Mois</td>\n",
       "      <td>http://userserve-ak.last.fm/serve/252/54697835...</td>\n",
       "    </tr>\n",
       "    <tr>\n",
       "      <th>4</th>\n",
       "      <td>4</td>\n",
       "      <td>Bella Morte</td>\n",
       "      <td>http://www.last.fm/music/Bella+Morte</td>\n",
       "      <td>http://userserve-ak.last.fm/serve/252/14789013...</td>\n",
       "    </tr>\n",
       "  </tbody>\n",
       "</table>\n",
       "</div>"
      ],
      "text/plain": [
       "   id               name                                         url  \\\n",
       "0   0       MALICE MIZER       http://www.last.fm/music/MALICE+MIZER   \n",
       "1   1    Diary of Dreams    http://www.last.fm/music/Diary+of+Dreams   \n",
       "2   2  Carpathian Forest  http://www.last.fm/music/Carpathian+Forest   \n",
       "3   3       Moi dix Mois       http://www.last.fm/music/Moi+dix+Mois   \n",
       "4   4        Bella Morte        http://www.last.fm/music/Bella+Morte   \n",
       "\n",
       "                                          pictureURL  \n",
       "0    http://userserve-ak.last.fm/serve/252/10808.jpg  \n",
       "1  http://userserve-ak.last.fm/serve/252/3052066.jpg  \n",
       "2  http://userserve-ak.last.fm/serve/252/40222717...  \n",
       "3  http://userserve-ak.last.fm/serve/252/54697835...  \n",
       "4  http://userserve-ak.last.fm/serve/252/14789013...  "
      ]
     },
     "execution_count": 28,
     "metadata": {},
     "output_type": "execute_result"
    }
   ],
   "source": [
    "artists.head()"
   ]
  },
  {
   "cell_type": "code",
   "execution_count": 29,
   "id": "e4bfaefc",
   "metadata": {},
   "outputs": [
    {
     "data": {
      "text/html": [
       "<div>\n",
       "<style scoped>\n",
       "    .dataframe tbody tr th:only-of-type {\n",
       "        vertical-align: middle;\n",
       "    }\n",
       "\n",
       "    .dataframe tbody tr th {\n",
       "        vertical-align: top;\n",
       "    }\n",
       "\n",
       "    .dataframe thead th {\n",
       "        text-align: right;\n",
       "    }\n",
       "</style>\n",
       "<table border=\"1\" class=\"dataframe\">\n",
       "  <thead>\n",
       "    <tr style=\"text-align: right;\">\n",
       "      <th></th>\n",
       "      <th>tagID</th>\n",
       "      <th>tagValue</th>\n",
       "    </tr>\n",
       "  </thead>\n",
       "  <tbody>\n",
       "    <tr>\n",
       "      <th>0</th>\n",
       "      <td>1</td>\n",
       "      <td>metal</td>\n",
       "    </tr>\n",
       "    <tr>\n",
       "      <th>1</th>\n",
       "      <td>2</td>\n",
       "      <td>alternative metal</td>\n",
       "    </tr>\n",
       "    <tr>\n",
       "      <th>2</th>\n",
       "      <td>3</td>\n",
       "      <td>goth rock</td>\n",
       "    </tr>\n",
       "    <tr>\n",
       "      <th>3</th>\n",
       "      <td>4</td>\n",
       "      <td>black metal</td>\n",
       "    </tr>\n",
       "    <tr>\n",
       "      <th>4</th>\n",
       "      <td>5</td>\n",
       "      <td>death metal</td>\n",
       "    </tr>\n",
       "  </tbody>\n",
       "</table>\n",
       "</div>"
      ],
      "text/plain": [
       "   tagID           tagValue\n",
       "0      1              metal\n",
       "1      2  alternative metal\n",
       "2      3          goth rock\n",
       "3      4        black metal\n",
       "4      5        death metal"
      ]
     },
     "execution_count": 29,
     "metadata": {},
     "output_type": "execute_result"
    }
   ],
   "source": [
    "tags.head()"
   ]
  },
  {
   "cell_type": "markdown",
   "id": "cd9d061b",
   "metadata": {},
   "source": [
    "The artists and tags datasets are just a reference table to expand on the artist details or the tag details. \n",
    "\n",
    "This does not require any more investigation, as there are no relevant data points to be used in our recommender system."
   ]
  },
  {
   "cell_type": "markdown",
   "id": "e99eef3b",
   "metadata": {},
   "source": [
    "## Exploring Users' Liked Artists"
   ]
  },
  {
   "cell_type": "code",
   "execution_count": 31,
   "id": "b5ab7c63",
   "metadata": {},
   "outputs": [],
   "source": [
    "distribution_of_weights_given = (\n",
    "    user_artists\n",
    "    .groupby('weight', as_index=False)\n",
    "    .agg({'userID': ['count']})\n",
    ")"
   ]
  },
  {
   "cell_type": "code",
   "execution_count": 32,
   "id": "f2b06144",
   "metadata": {},
   "outputs": [],
   "source": [
    "distribution_of_weights_given.columns = ['weight', 'users_count']"
   ]
  },
  {
   "cell_type": "code",
   "execution_count": 33,
   "id": "b9262d61",
   "metadata": {},
   "outputs": [
    {
     "data": {
      "image/png": "[encoded data removed]",
      "text/plain": [
       "<Figure size 432x288 with 1 Axes>"
      ]
     },
     "metadata": {
      "needs_background": "light"
     },
     "output_type": "display_data"
    }
   ],
   "source": [
    "data = distribution_of_weights_given['users_count']\n",
    "plt.hist(data, weights=np.ones(len(data)) / len(data), bins=200)\n",
    "plt.gca().set(\n",
    "    title='Distribution of Weights ', \n",
    "    xlabel='Number of Users',\n",
    "    ylabel='Frequency'\n",
    ");"
   ]
  },
  {
   "cell_type": "code",
   "execution_count": 34,
   "id": "25445d1e",
   "metadata": {},
   "outputs": [
    {
     "data": {
      "text/plain": [
       "0        13883\n",
       "1        11690\n",
       "2        11351\n",
       "3        10300\n",
       "4         8983\n",
       "         ...  \n",
       "92829      337\n",
       "92830      297\n",
       "92831      281\n",
       "92832      280\n",
       "92833      263\n",
       "Name: weight, Length: 92834, dtype: int64"
      ]
     },
     "execution_count": 34,
     "metadata": {},
     "output_type": "execute_result"
    }
   ],
   "source": [
    "user_artists['weight']"
   ]
  },
  {
   "cell_type": "code",
   "execution_count": 35,
   "id": "f2c057d8",
   "metadata": {},
   "outputs": [],
   "source": [
    "list_of_weights = np.asarray(user_artists['weight'])"
   ]
  },
  {
   "cell_type": "code",
   "execution_count": 42,
   "id": "0f30b9f3",
   "metadata": {},
   "outputs": [
    {
     "data": {
      "image/png": "[encoded data removed]",
      "text/plain": [
       "<Figure size 432x288 with 1 Axes>"
      ]
     },
     "metadata": {
      "needs_background": "light"
     },
     "output_type": "display_data"
    }
   ],
   "source": [
    "plt.hist(list_of_weights);"
   ]
  },
  {
   "cell_type": "code",
   "execution_count": 8,
   "id": "169e0594",
   "metadata": {},
   "outputs": [],
   "source": [
    "list_of_weights.sort()"
   ]
  },
  {
   "cell_type": "code",
   "execution_count": 10,
   "id": "6190f9f5",
   "metadata": {},
   "outputs": [
    {
     "data": {
      "text/plain": [
       "92834"
      ]
     },
     "execution_count": 10,
     "metadata": {},
     "output_type": "execute_result"
    }
   ],
   "source": [
    "len(list_of_weights)"
   ]
  },
  {
   "cell_type": "markdown",
   "id": "9d608f43",
   "metadata": {},
   "source": [
    "Assume a normal distribution for the people that like artists"
   ]
  },
  {
   "cell_type": "code",
   "execution_count": 12,
   "id": "fdd4ae1f",
   "metadata": {},
   "outputs": [
    {
     "data": {
      "text/plain": [
       "745.2439300256372"
      ]
     },
     "execution_count": 12,
     "metadata": {},
     "output_type": "execute_result"
    }
   ],
   "source": [
    "list_of_weights.mean()"
   ]
  },
  {
   "cell_type": "code",
   "execution_count": 44,
   "id": "4d77b359",
   "metadata": {},
   "outputs": [
    {
     "data": {
      "image/png": "[encoded data removed]",
      "text/plain": [
       "<Figure size 432x288 with 1 Axes>"
      ]
     },
     "metadata": {
      "needs_background": "light"
     },
     "output_type": "display_data"
    }
   ],
   "source": [
    "plt.hist(list_of_weights, bins=300);"
   ]
  },
  {
   "cell_type": "markdown",
   "id": "adb09255",
   "metadata": {},
   "source": [
    "Let's find out what proportion of people's weights are under 10,000"
   ]
  },
  {
   "cell_type": "code",
   "execution_count": 19,
   "id": "a7aed7ca",
   "metadata": {},
   "outputs": [
    {
     "data": {
      "text/plain": [
       "userID      0.993214\n",
       "artistID    0.993214\n",
       "weight      0.993214\n",
       "dtype: float64"
      ]
     },
     "execution_count": 19,
     "metadata": {},
     "output_type": "execute_result"
    }
   ],
   "source": [
    "user_artists[user_artists['weight']<=10000].count()/92834"
   ]
  },
  {
   "cell_type": "markdown",
   "id": "91c1aa44",
   "metadata": {},
   "source": [
    "99.32% of people are under 10,000 listens"
   ]
  },
  {
   "cell_type": "code",
   "execution_count": 37,
   "id": "cc10fb60",
   "metadata": {},
   "outputs": [
    {
     "data": {
      "text/plain": [
       "userID      0.950008\n",
       "artistID    0.950008\n",
       "weight      0.950008\n",
       "dtype: float64"
      ]
     },
     "execution_count": 37,
     "metadata": {},
     "output_type": "execute_result"
    }
   ],
   "source": [
    "user_artists[user_artists['weight']<=2328].count()/92834"
   ]
  },
  {
   "cell_type": "markdown",
   "id": "bc9ad156",
   "metadata": {},
   "source": [
    "95% of the users listen to artists under 2328 times"
   ]
  },
  {
   "cell_type": "code",
   "execution_count": 43,
   "id": "6867581d",
   "metadata": {},
   "outputs": [
    {
     "data": {
      "image/png": "[encoded data removed]",
      "text/plain": [
       "<Figure size 432x288 with 1 Axes>"
      ]
     },
     "metadata": {
      "needs_background": "light"
     },
     "output_type": "display_data"
    }
   ],
   "source": [
    "plt.hist(user_artists[user_artists['weight']<=2328]['weight'], bins = 30);"
   ]
  },
  {
   "cell_type": "code",
   "execution_count": 42,
   "id": "61e8587f",
   "metadata": {},
   "outputs": [
    {
     "data": {
      "text/plain": [
       "0           1\n",
       "1           1\n",
       "2           1\n",
       "3           1\n",
       "4           1\n",
       "         ... \n",
       "88188    2327\n",
       "88189    2327\n",
       "88190    2327\n",
       "88191    2328\n",
       "88192    2328\n",
       "Name: weight, Length: 88193, dtype: int64"
      ]
     },
     "execution_count": 42,
     "metadata": {},
     "output_type": "execute_result"
    }
   ],
   "source": [
    "user_artists[user_artists['weight']<=2328]['weight']"
   ]
  },
  {
   "cell_type": "code",
   "execution_count": null,
   "id": "57f395e2",
   "metadata": {},
   "outputs": [],
   "source": []
  }
 ],
 "metadata": {
  "kernelspec": {
   "display_name": "Python 3 (ipykernel)",
   "language": "python",
   "name": "python3"
  },
  "language_info": {
   "codemirror_mode": {
    "name": "ipython",
    "version": 3
   },
   "file_extension": ".py",
   "mimetype": "text/x-python",
   "name": "python",
   "nbconvert_exporter": "python",
   "pygments_lexer": "ipython3",
   "version": "3.9.7"
  }
 },
 "nbformat": 4,
 "nbformat_minor": 5
}
