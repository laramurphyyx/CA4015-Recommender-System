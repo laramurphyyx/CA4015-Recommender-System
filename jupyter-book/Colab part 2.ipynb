{
 "cells": [
  {
   "cell_type": "markdown",
   "id": "1c5cfb3d",
   "metadata": {},
   "source": [
    "# Tensorflow Recommender System"
   ]
  },
  {
   "cell_type": "markdown",
   "id": "0506f6a5",
   "metadata": {},
   "source": [
    "## Importing Relevant Packages and Datasets"
   ]
  },
  {
   "cell_type": "code",
   "execution_count": 49,
   "id": "583c624d",
   "metadata": {},
   "outputs": [],
   "source": [
    "import os\n",
    "import matplotlib.pyplot as plt\n",
    "import seaborn as sns\n",
    "from __future__ import print_function\n",
    "import numpy as np\n",
    "import pandas as pd\n",
    "import collections\n",
    "from mpl_toolkits.mplot3d import Axes3D\n",
    "from IPython import display\n",
    "from matplotlib import pyplot as plt\n",
    "import sklearn\n",
    "import sklearn.manifold\n",
    "import tensorflow.compat.v1 as tf\n",
    "tf.disable_v2_behavior()\n",
    "tf.logging.set_verbosity(tf.logging.ERROR)\n",
    "\n",
    "# Add some convenience functions to Pandas DataFrame.\n",
    "pd.options.display.max_rows = 10\n",
    "pd.options.display.float_format = '{:.3f}'.format\n",
    "def mask(df, key, function):\n",
    "  \"\"\"Returns a filtered dataframe, by applying function to key\"\"\"\n",
    "  return df[function(df[key])]\n",
    "\n",
    "def flatten_cols(df):\n",
    "  df.columns = [' '.join(col).strip() for col in df.columns.values]\n",
    "  return df\n",
    "\n",
    "pd.DataFrame.mask = mask\n",
    "pd.DataFrame.flatten_cols = flatten_cols"
   ]
  },
  {
   "cell_type": "code",
   "execution_count": 50,
   "id": "91bcf3d5",
   "metadata": {},
   "outputs": [],
   "source": [
    "user_artists = pd.read_csv('../data/user_artists_ratings.csv')\n",
    "user_friends = pd.read_csv('../data/user_friends.csv')\n",
    "user_taggedartists = pd.read_csv('../data/user_taggedartists.csv')\n",
    "artists = pd.read_csv('../data/artists.csv')\n",
    "tags = pd.read_csv('../data/tags.csv')\n",
    "artists_tags = pd.read_csv('../data/artists_tags.csv')"
   ]
  },
  {
   "cell_type": "markdown",
   "id": "6881ea5b",
   "metadata": {},
   "source": [
    "## Creating Functions to Build Sparse Tensor and Calculate MSE"
   ]
  },
  {
   "cell_type": "code",
   "execution_count": 22,
   "id": "6cd502fa",
   "metadata": {},
   "outputs": [],
   "source": [
    "def build_rating_sparse_tensor(user_artists_df):\n",
    "\n",
    "    indices = user_artists_df[['userID', 'artistID']].values\n",
    "    values = user_artists_df['rating'].values\n",
    "\n",
    "    return tf.SparseTensor(\n",
    "        indices=indices,\n",
    "        values=values,\n",
    "        dense_shape=[len(user_artists.userID.unique()), artists.shape[0]])"
   ]
  },
  {
   "cell_type": "code",
   "execution_count": 4,
   "id": "b0460349",
   "metadata": {},
   "outputs": [],
   "source": [
    "def sparse_mean_square_error(sparse_ratings, user_embeddings, music_embeddings):\n",
    "\n",
    "    predictions = tf.reduce_sum(\n",
    "        tf.gather(user_embeddings, sparse_ratings.indices[:, 0]) *\n",
    "        tf.gather(music_embeddings, sparse_ratings.indices[:, 1]),\n",
    "        axis=1)\n",
    "    loss = tf.losses.mean_squared_error(sparse_ratings.values, predictions)\n",
    "    return loss"
   ]
  },
  {
   "cell_type": "markdown",
   "id": "fe827d2e",
   "metadata": {},
   "source": [
    "## Creating Functions to Build a Collaborative-Filtering Model"
   ]
  },
  {
   "cell_type": "code",
   "execution_count": 34,
   "id": "f783ffe6",
   "metadata": {},
   "outputs": [],
   "source": [
    "class CFModel(object):\n",
    "    \"\"\"Simple class that represents a collaborative filtering model\"\"\"\n",
    "    def __init__(self, embedding_vars, loss, metrics=None):\n",
    "        \"\"\"Initializes a CFModel.\n",
    "        Args:\n",
    "          embedding_vars: A dictionary of tf.Variables.\n",
    "          loss: A float Tensor. The loss to optimize.\n",
    "          metrics: optional list of dictionaries of Tensors. The metrics in each\n",
    "            dictionary will be plotted in a separate figure during training.\n",
    "        \"\"\"\n",
    "        self._embedding_vars = embedding_vars\n",
    "        self._loss = loss\n",
    "        self._metrics = metrics\n",
    "        self._embeddings = {k: None for k in embedding_vars}\n",
    "        self._session = None\n",
    "\n",
    "    @property\n",
    "    def embeddings(self):\n",
    "        \"\"\"The embeddings dictionary.\"\"\"\n",
    "        return self._embeddings\n",
    "\n",
    "    def train(self, num_iterations=100, learning_rate=1.0, plot_results=True,\n",
    "              optimizer=tf.train.GradientDescentOptimizer):\n",
    "        \"\"\"Trains the model.\n",
    "        Args:\n",
    "          iterations: number of iterations to run.\n",
    "          learning_rate: optimizer learning rate.\n",
    "          plot_results: whether to plot the results at the end of training.\n",
    "          optimizer: the optimizer to use. Default to GradientDescentOptimizer.\n",
    "        Returns:\n",
    "          The metrics dictionary evaluated at the last iteration.\n",
    "        \"\"\"\n",
    "        with self._loss.graph.as_default():\n",
    "            opt = optimizer(learning_rate)\n",
    "            train_op = opt.minimize(self._loss)\n",
    "            local_init_op = tf.group(\n",
    "                tf.variables_initializer(opt.variables()),\n",
    "                tf.local_variables_initializer())\n",
    "            if self._session is None:\n",
    "                self._session = tf.Session()\n",
    "                with self._session.as_default():\n",
    "                    self._session.run(tf.global_variables_initializer())\n",
    "                    self._session.run(tf.tables_initializer())\n",
    "                    tf.train.start_queue_runners()\n",
    "\n",
    "        with self._session.as_default():\n",
    "            local_init_op.run()\n",
    "            iterations = []\n",
    "            metrics = self._metrics or ({},)\n",
    "            metrics_vals = [collections.defaultdict(list) for _ in self._metrics]\n",
    "\n",
    "            # Train and append results.\n",
    "            for i in range(num_iterations + 1):\n",
    "                _, results = self._session.run((train_op, metrics))\n",
    "                if (i % 10 == 0) or i == num_iterations:\n",
    "                    print(\"\\r iteration %d: \" % i + \", \".join(\n",
    "                        [\"%s=%f\" % (k, v) for r in results for k, v in r.items()]),\n",
    "                          end='')\n",
    "                    iterations.append(i)\n",
    "                    for metric_val, result in zip(metrics_vals, results):\n",
    "                        for k, v in result.items():\n",
    "                            metric_val[k].append(v)\n",
    "\n",
    "            for k, v in self._embedding_vars.items():\n",
    "                self._embeddings[k] = v.eval()\n",
    "\n",
    "            if plot_results:\n",
    "                # Plot the metrics.\n",
    "                num_subplots = len(metrics)+1\n",
    "                fig = plt.figure()\n",
    "                fig.set_size_inches(num_subplots*10, 8)\n",
    "                for i, metric_vals in enumerate(metrics_vals):\n",
    "                    ax = fig.add_subplot(1, num_subplots, i+1)\n",
    "                    for k, v in metric_vals.items():\n",
    "                        ax.plot(iterations, v, label=k)\n",
    "                    ax.set_xlim([1, num_iterations])\n",
    "                    ax.set_xlabel(\"Number of Iterations\")\n",
    "                    ax.set_ylabel(\"Mean Squared Error\")\n",
    "                    ax.set_title(\"Training and Testing Errors\")\n",
    "                    ax.legend()\n",
    "            return results"
   ]
  },
  {
   "cell_type": "code",
   "execution_count": 25,
   "id": "1ee9aca8",
   "metadata": {},
   "outputs": [],
   "source": [
    "def build_model(ratings, embedding_dim=3, init_stddev=1.):\n",
    "    \n",
    "    # Split the ratings DataFrame into train and test\n",
    "    train_ratings, test_ratings = split_dataframe(ratings)\n",
    "    # SparseTensor representation of the train and test datasets.\n",
    "    A_train = build_rating_sparse_tensor_ratings(train_ratings)\n",
    "    A_test = build_rating_sparse_tensor_ratings(test_ratings)\n",
    "    # Initialize the embeddings using a normal distribution.\n",
    "    U = tf.Variable(tf.random_normal(\n",
    "        [A_train.dense_shape[0], embedding_dim], stddev=init_stddev))\n",
    "    V = tf.Variable(tf.random_normal(\n",
    "        [A_train.dense_shape[1], embedding_dim], stddev=init_stddev))\n",
    "    train_loss = sparse_mean_square_error(A_train, U, V)\n",
    "    test_loss = sparse_mean_square_error(A_test, U, V)\n",
    "    metrics = {\n",
    "        'train_error': train_loss,\n",
    "        'test_error': test_loss\n",
    "    }\n",
    "    embeddings = {\n",
    "        \"userID\": U,\n",
    "        \"artistID\": V\n",
    "    }\n",
    "    return CFModel(embeddings, train_loss, [metrics])"
   ]
  },
  {
   "cell_type": "code",
   "execution_count": 26,
   "id": "d7618796",
   "metadata": {},
   "outputs": [],
   "source": [
    "def split_dataframe(df, holdout_fraction=0.1):\n",
    "  \n",
    "    test = df.sample(frac=holdout_fraction, replace=False)\n",
    "    train = df[~df.index.isin(test.index)]\n",
    "    return train, test"
   ]
  },
  {
   "cell_type": "markdown",
   "id": "66ac7d94",
   "metadata": {},
   "source": [
    "## Building and Training the Model"
   ]
  },
  {
   "cell_type": "code",
   "execution_count": 40,
   "id": "08317e0e",
   "metadata": {},
   "outputs": [],
   "source": [
    "model = build_model(user_artists, embedding_dim=30, init_stddev=0.5)\n",
    "model.train(num_iterations=2000, learning_rate=10.)"
   ]
  },
  {
   "cell_type": "code",
   "execution_count": 42,
   "id": "c70eebac",
   "metadata": {},
   "outputs": [
    {
     "name": "stdout",
     "output_type": "stream",
     "text": [
      " iteration 2000: train_error=3.203474, test_error=5.731326"
     ]
    },
    {
     "data": {
      "text/plain": [
       "[{'train_error': 3.2034738, 'test_error': 5.731326}]"
      ]
     },
     "execution_count": 42,
     "metadata": {},
     "output_type": "execute_result"
    },
    {
     "data": {
      "image/png": "[encoded data removed]",
      "text/plain": [
       "<Figure size 1440x576 with 1 Axes>"
      ]
     },
     "metadata": {
      "needs_background": "light"
     },
     "output_type": "display_data"
    }
   ],
   "source": [
    "model = build_model(user_artists, embedding_dim=30, init_stddev=0.5)\n",
    "model.train(num_iterations=2000, learning_rate=.5)"
   ]
  },
  {
   "cell_type": "code",
   "execution_count": 43,
   "id": "988a2b3e",
   "metadata": {},
   "outputs": [
    {
     "name": "stdout",
     "output_type": "stream",
     "text": [
      " iteration 2000: train_error=0.429625, test_error=3.266817"
     ]
    },
    {
     "data": {
      "text/plain": [
       "[{'train_error': 0.42962456, 'test_error': 3.266817}]"
      ]
     },
     "execution_count": 43,
     "metadata": {},
     "output_type": "execute_result"
    },
    {
     "data": {
      "image/png": "[encoded data removed]",
      "text/plain": [
       "<Figure size 1440x576 with 1 Axes>"
      ]
     },
     "metadata": {
      "needs_background": "light"
     },
     "output_type": "display_data"
    }
   ],
   "source": [
    "model = build_model(user_artists, embedding_dim=10, init_stddev=0.5)\n",
    "model.train(num_iterations=2000, learning_rate=10)"
   ]
  },
  {
   "cell_type": "markdown",
   "id": "db101335",
   "metadata": {},
   "source": [
    "# Inspect Embeddings"
   ]
  },
  {
   "cell_type": "code",
   "execution_count": 10,
   "id": "319afe3c",
   "metadata": {},
   "outputs": [],
   "source": [
    "DOT = 'dot'\n",
    "COSINE = 'cosine'\n",
    "def compute_scores(query_embedding, item_embeddings, measure=DOT):\n",
    "\n",
    "    u = query_embedding\n",
    "    V = item_embeddings\n",
    "    if measure == COSINE:\n",
    "        V = V / np.linalg.norm(V, axis=1, keepdims=True)\n",
    "        u = u / np.linalg.norm(u)\n",
    "    scores = u.dot(V.T)\n",
    "    return scores"
   ]
  },
  {
   "cell_type": "code",
   "execution_count": 11,
   "id": "00f6893c",
   "metadata": {},
   "outputs": [],
   "source": [
    "def artist_neighbors(model, title_substring, measure=DOT, k=6):\n",
    "    ids =  artists[artists['name'].str.contains(title_substring)].index.values\n",
    "    titles = artists.iloc[ids]['name'].values\n",
    "    if len(titles) == 0:\n",
    "        raise ValueError(\"Found no artist with title %s\" % title_substring)\n",
    "    print(\"Nearest neighbors of : %s.\" % titles[0])\n",
    "    if len(titles) > 1:\n",
    "        print(\"[Found more than one matching artist. Other candidates: {}]\".format(\n",
    "            \", \".join(titles[1:])))\n",
    "    artistID = ids[0]\n",
    "    scores = compute_scores(\n",
    "        model.embeddings[\"artistID\"][artistID], model.embeddings[\"artistID\"],\n",
    "        measure)\n",
    "    score_key = measure + ' score'\n",
    "    df = pd.DataFrame({\n",
    "        score_key: list(scores),\n",
    "        'names': artists['name'],\n",
    "    })\n",
    "    display.display(df.sort_values([score_key], ascending=False).head(k))"
   ]
  },
  {
   "cell_type": "code",
   "execution_count": 18,
   "id": "3a7b3f54",
   "metadata": {},
   "outputs": [
    {
     "name": "stdout",
     "output_type": "stream",
     "text": [
      "Nearest neighbors of : Kanye West.\n",
      "[Found more than one matching artist. Other candidates: Kanye West & Jay-Z, Kanye West, Beyoncé & Charlie Wilson, Kanye West feat. Pusha T MpTri.Net, Eminem feat. Drake, Kanye West, Lil Wayne, The-Dream f. Kanye West, Jamie Foxx feat. Kanye West and The-Dream]\n"
     ]
    },
    {
     "data": {
      "text/html": [
       "<div>\n",
       "<style scoped>\n",
       "    .dataframe tbody tr th:only-of-type {\n",
       "        vertical-align: middle;\n",
       "    }\n",
       "\n",
       "    .dataframe tbody tr th {\n",
       "        vertical-align: top;\n",
       "    }\n",
       "\n",
       "    .dataframe thead th {\n",
       "        text-align: right;\n",
       "    }\n",
       "</style>\n",
       "<table border=\"1\" class=\"dataframe\">\n",
       "  <thead>\n",
       "    <tr style=\"text-align: right;\">\n",
       "      <th></th>\n",
       "      <th>dot score</th>\n",
       "      <th>names</th>\n",
       "    </tr>\n",
       "  </thead>\n",
       "  <tbody>\n",
       "    <tr>\n",
       "      <th>325</th>\n",
       "      <td>8.141</td>\n",
       "      <td>Kanye West</td>\n",
       "    </tr>\n",
       "    <tr>\n",
       "      <th>1391</th>\n",
       "      <td>5.762</td>\n",
       "      <td>MGMT</td>\n",
       "    </tr>\n",
       "    <tr>\n",
       "      <th>1455</th>\n",
       "      <td>5.619</td>\n",
       "      <td>ABBA</td>\n",
       "    </tr>\n",
       "    <tr>\n",
       "      <th>3368</th>\n",
       "      <td>5.548</td>\n",
       "      <td>Antimatter</td>\n",
       "    </tr>\n",
       "    <tr>\n",
       "      <th>66</th>\n",
       "      <td>5.438</td>\n",
       "      <td>Depeche Mode</td>\n",
       "    </tr>\n",
       "    <tr>\n",
       "      <th>8454</th>\n",
       "      <td>5.398</td>\n",
       "      <td>Sick Animation</td>\n",
       "    </tr>\n",
       "  </tbody>\n",
       "</table>\n",
       "</div>"
      ],
      "text/plain": [
       "      dot score           names\n",
       "325       8.141      Kanye West\n",
       "1391      5.762            MGMT\n",
       "1455      5.619            ABBA\n",
       "3368      5.548      Antimatter\n",
       "66        5.438    Depeche Mode\n",
       "8454      5.398  Sick Animation"
      ]
     },
     "metadata": {},
     "output_type": "display_data"
    }
   ],
   "source": [
    "artist_neighbors(model, \"Kanye\", DOT)"
   ]
  },
  {
   "cell_type": "code",
   "execution_count": 32,
   "id": "3d180aeb",
   "metadata": {},
   "outputs": [
    {
     "name": "stdout",
     "output_type": "stream",
     "text": [
      "Nearest neighbors of : Kanye West.\n",
      "[Found more than one matching artist. Other candidates: Kanye West & Jay-Z, Kanye West, Beyoncé & Charlie Wilson, Kanye West feat. Pusha T MpTri.Net, Eminem feat. Drake, Kanye West, Lil Wayne, The-Dream f. Kanye West, Jamie Foxx feat. Kanye West and The-Dream]\n"
     ]
    },
    {
     "data": {
      "text/html": [
       "<div>\n",
       "<style scoped>\n",
       "    .dataframe tbody tr th:only-of-type {\n",
       "        vertical-align: middle;\n",
       "    }\n",
       "\n",
       "    .dataframe tbody tr th {\n",
       "        vertical-align: top;\n",
       "    }\n",
       "\n",
       "    .dataframe thead th {\n",
       "        text-align: right;\n",
       "    }\n",
       "</style>\n",
       "<table border=\"1\" class=\"dataframe\">\n",
       "  <thead>\n",
       "    <tr style=\"text-align: right;\">\n",
       "      <th></th>\n",
       "      <th>cosine score</th>\n",
       "      <th>names</th>\n",
       "    </tr>\n",
       "  </thead>\n",
       "  <tbody>\n",
       "    <tr>\n",
       "      <th>325</th>\n",
       "      <td>1.000</td>\n",
       "      <td>Kanye West</td>\n",
       "    </tr>\n",
       "    <tr>\n",
       "      <th>1999</th>\n",
       "      <td>0.684</td>\n",
       "      <td>Lacuna Coil</td>\n",
       "    </tr>\n",
       "    <tr>\n",
       "      <th>11453</th>\n",
       "      <td>0.671</td>\n",
       "      <td>Frontside</td>\n",
       "    </tr>\n",
       "    <tr>\n",
       "      <th>17430</th>\n",
       "      <td>0.633</td>\n",
       "      <td>Tagtraum</td>\n",
       "    </tr>\n",
       "    <tr>\n",
       "      <th>2164</th>\n",
       "      <td>0.629</td>\n",
       "      <td>50 Cent</td>\n",
       "    </tr>\n",
       "    <tr>\n",
       "      <th>469</th>\n",
       "      <td>0.626</td>\n",
       "      <td>Eminem</td>\n",
       "    </tr>\n",
       "  </tbody>\n",
       "</table>\n",
       "</div>"
      ],
      "text/plain": [
       "       cosine score        names\n",
       "325           1.000   Kanye West\n",
       "1999          0.684  Lacuna Coil\n",
       "11453         0.671    Frontside\n",
       "17430         0.633     Tagtraum\n",
       "2164          0.629      50 Cent\n",
       "469           0.626       Eminem"
      ]
     },
     "metadata": {},
     "output_type": "display_data"
    }
   ],
   "source": [
    "artist_neighbors(model, \"Kanye\", COSINE)"
   ]
  },
  {
   "cell_type": "code",
   "execution_count": 33,
   "id": "eb19cb53",
   "metadata": {},
   "outputs": [
    {
     "name": "stdout",
     "output_type": "stream",
     "text": [
      " iteration 1000: train_error=0.363502, test_error=2.011730Nearest neighbors of : Kanye West.\n",
      "[Found more than one matching artist. Other candidates: Kanye West & Jay-Z, Kanye West, Beyoncé & Charlie Wilson, Kanye West feat. Pusha T MpTri.Net, Eminem feat. Drake, Kanye West, Lil Wayne, The-Dream f. Kanye West, Jamie Foxx feat. Kanye West and The-Dream]\n"
     ]
    },
    {
     "data": {
      "text/html": [
       "<div>\n",
       "<style scoped>\n",
       "    .dataframe tbody tr th:only-of-type {\n",
       "        vertical-align: middle;\n",
       "    }\n",
       "\n",
       "    .dataframe tbody tr th {\n",
       "        vertical-align: top;\n",
       "    }\n",
       "\n",
       "    .dataframe thead th {\n",
       "        text-align: right;\n",
       "    }\n",
       "</style>\n",
       "<table border=\"1\" class=\"dataframe\">\n",
       "  <thead>\n",
       "    <tr style=\"text-align: right;\">\n",
       "      <th></th>\n",
       "      <th>dot score</th>\n",
       "      <th>names</th>\n",
       "    </tr>\n",
       "  </thead>\n",
       "  <tbody>\n",
       "    <tr>\n",
       "      <th>325</th>\n",
       "      <td>5.193</td>\n",
       "      <td>Kanye West</td>\n",
       "    </tr>\n",
       "    <tr>\n",
       "      <th>282</th>\n",
       "      <td>3.924</td>\n",
       "      <td>Rihanna</td>\n",
       "    </tr>\n",
       "    <tr>\n",
       "      <th>300</th>\n",
       "      <td>3.651</td>\n",
       "      <td>Black Eyed Peas</td>\n",
       "    </tr>\n",
       "    <tr>\n",
       "      <th>739</th>\n",
       "      <td>3.549</td>\n",
       "      <td>Boards of Canada</td>\n",
       "    </tr>\n",
       "    <tr>\n",
       "      <th>1089</th>\n",
       "      <td>3.296</td>\n",
       "      <td>Björk</td>\n",
       "    </tr>\n",
       "    <tr>\n",
       "      <th>894</th>\n",
       "      <td>3.118</td>\n",
       "      <td>Amy Winehouse</td>\n",
       "    </tr>\n",
       "  </tbody>\n",
       "</table>\n",
       "</div>"
      ],
      "text/plain": [
       "      dot score             names\n",
       "325       5.193        Kanye West\n",
       "282       3.924           Rihanna\n",
       "300       3.651   Black Eyed Peas\n",
       "739       3.549  Boards of Canada\n",
       "1089      3.296             Björk\n",
       "894       3.118     Amy Winehouse"
      ]
     },
     "metadata": {},
     "output_type": "display_data"
    },
    {
     "name": "stdout",
     "output_type": "stream",
     "text": [
      "Nearest neighbors of : Kanye West.\n",
      "[Found more than one matching artist. Other candidates: Kanye West & Jay-Z, Kanye West, Beyoncé & Charlie Wilson, Kanye West feat. Pusha T MpTri.Net, Eminem feat. Drake, Kanye West, Lil Wayne, The-Dream f. Kanye West, Jamie Foxx feat. Kanye West and The-Dream]\n"
     ]
    },
    {
     "data": {
      "text/html": [
       "<div>\n",
       "<style scoped>\n",
       "    .dataframe tbody tr th:only-of-type {\n",
       "        vertical-align: middle;\n",
       "    }\n",
       "\n",
       "    .dataframe tbody tr th {\n",
       "        vertical-align: top;\n",
       "    }\n",
       "\n",
       "    .dataframe thead th {\n",
       "        text-align: right;\n",
       "    }\n",
       "</style>\n",
       "<table border=\"1\" class=\"dataframe\">\n",
       "  <thead>\n",
       "    <tr style=\"text-align: right;\">\n",
       "      <th></th>\n",
       "      <th>cosine score</th>\n",
       "      <th>names</th>\n",
       "    </tr>\n",
       "  </thead>\n",
       "  <tbody>\n",
       "    <tr>\n",
       "      <th>325</th>\n",
       "      <td>1.000</td>\n",
       "      <td>Kanye West</td>\n",
       "    </tr>\n",
       "    <tr>\n",
       "      <th>9469</th>\n",
       "      <td>0.747</td>\n",
       "      <td>Griffin House</td>\n",
       "    </tr>\n",
       "    <tr>\n",
       "      <th>9474</th>\n",
       "      <td>0.742</td>\n",
       "      <td>Ceumar</td>\n",
       "    </tr>\n",
       "    <tr>\n",
       "      <th>9472</th>\n",
       "      <td>0.728</td>\n",
       "      <td>8 Femmes</td>\n",
       "    </tr>\n",
       "    <tr>\n",
       "      <th>131</th>\n",
       "      <td>0.727</td>\n",
       "      <td>Worm Is Green</td>\n",
       "    </tr>\n",
       "    <tr>\n",
       "      <th>9466</th>\n",
       "      <td>0.709</td>\n",
       "      <td>Joan Baez</td>\n",
       "    </tr>\n",
       "  </tbody>\n",
       "</table>\n",
       "</div>"
      ],
      "text/plain": [
       "      cosine score          names\n",
       "325          1.000     Kanye West\n",
       "9469         0.747  Griffin House\n",
       "9474         0.742         Ceumar\n",
       "9472         0.728       8 Femmes\n",
       "131          0.727  Worm Is Green\n",
       "9466         0.709      Joan Baez"
      ]
     },
     "metadata": {},
     "output_type": "display_data"
    },
    {
     "data": {
      "image/png": "[encoded data removed]",
      "text/plain": [
       "<Figure size 1440x576 with 1 Axes>"
      ]
     },
     "metadata": {
      "needs_background": "light"
     },
     "output_type": "display_data"
    }
   ],
   "source": [
    "model_lowinit = build_model(user_artists, embedding_dim=30, init_stddev=0.05)\n",
    "model_lowinit.train(num_iterations=1000, learning_rate=10.)\n",
    "artist_neighbors(model_lowinit, \"Kanye\", DOT)\n",
    "artist_neighbors(model_lowinit, \"Kanye\", COSINE)"
   ]
  },
  {
   "cell_type": "code",
   "execution_count": 44,
   "id": "00f23530",
   "metadata": {},
   "outputs": [],
   "source": [
    "def gravity(U, V):\n",
    "    \"\"\"Creates a gravity loss given two embedding matrices.\"\"\"\n",
    "    return 1. / (U.shape[0].value*V.shape[0].value) * tf.reduce_sum(\n",
    "        tf.matmul(U, U, transpose_a=True) * tf.matmul(V, V, transpose_a=True))\n",
    "\n",
    "def build_regularized_model(\n",
    "    ratings, \n",
    "    embedding_dim=3, \n",
    "    regularization_coeff=.1, \n",
    "    gravity_coeff=1.,\n",
    "    init_stddev=0.1):\n",
    "    # Split the ratings DataFrame into train and test.\n",
    "    train_ratings, test_ratings = split_dataframe(ratings)\n",
    "    # SparseTensor representation of the train and test datasets.\n",
    "    A_train = build_rating_sparse_tensor(train_ratings)\n",
    "    A_test = build_rating_sparse_tensor(test_ratings)\n",
    "    U = tf.Variable(tf.random_normal(\n",
    "        [A_train.dense_shape[0], embedding_dim], stddev=init_stddev))\n",
    "    V = tf.Variable(tf.random_normal(\n",
    "        [A_train.dense_shape[1], embedding_dim], stddev=init_stddev))\n",
    "\n",
    "    error_train = sparse_mean_square_error(A_train, U, V)\n",
    "    error_test = sparse_mean_square_error(A_test, U, V)\n",
    "    gravity_loss = gravity_coeff * gravity(U, V)\n",
    "    regularization_loss = regularization_coeff * (\n",
    "        tf.reduce_sum(U*U)/U.shape[0].value + tf.reduce_sum(V*V)/V.shape[0].value)\n",
    "    total_loss = error_train + regularization_loss + gravity_loss\n",
    "    losses = {\n",
    "        'train_error_observed': error_train,\n",
    "        'test_error_observed': error_test,\n",
    "    }\n",
    "    loss_components = {\n",
    "        'observed_loss': error_train,\n",
    "        'regularization_loss': regularization_loss,\n",
    "        'gravity_loss': gravity_loss,\n",
    "    }\n",
    "    embeddings = {\"userId\": U, \"artistID\": V}\n",
    "\n",
    "    return CFModel(embeddings, total_loss, [losses, loss_components]), U, V"
   ]
  },
  {
   "cell_type": "code",
   "execution_count": 45,
   "id": "2034edf9",
   "metadata": {},
   "outputs": [
    {
     "name": "stdout",
     "output_type": "stream",
     "text": [
      " iteration 2000: train_error_observed=0.148426, test_error_observed=2.564600, observed_loss=0.148426, regularization_loss=0.468762, gravity_loss=0.191872"
     ]
    },
    {
     "data": {
      "text/plain": [
       "[{'train_error_observed': 0.14842603, 'test_error_observed': 2.5646002},\n",
       " {'observed_loss': 0.14842603,\n",
       "  'regularization_loss': 0.46876213,\n",
       "  'gravity_loss': 0.19187193}]"
      ]
     },
     "execution_count": 45,
     "metadata": {},
     "output_type": "execute_result"
    },
    {
     "data": {
      "image/png": "[encoded data removed]",
      "text/plain": [
       "<Figure size 2160x576 with 2 Axes>"
      ]
     },
     "metadata": {
      "needs_background": "light"
     },
     "output_type": "display_data"
    }
   ],
   "source": [
    "reg_model, u, v = build_regularized_model(\n",
    "    user_artists, regularization_coeff=0.1, gravity_coeff=1.0, embedding_dim=35,\n",
    "    init_stddev=.05)\n",
    "reg_model.train(num_iterations=2000, learning_rate=20.)"
   ]
  },
  {
   "cell_type": "code",
   "execution_count": 46,
   "id": "ba3a53e7",
   "metadata": {},
   "outputs": [
    {
     "name": "stdout",
     "output_type": "stream",
     "text": [
      "Nearest neighbors of : Kanye West.\n",
      "[Found more than one matching artist. Other candidates: Kanye West & Jay-Z, Kanye West, Beyoncé & Charlie Wilson, Kanye West feat. Pusha T MpTri.Net, Eminem feat. Drake, Kanye West, Lil Wayne, The-Dream f. Kanye West, Jamie Foxx feat. Kanye West and The-Dream]\n"
     ]
    },
    {
     "data": {
      "text/html": [
       "<div>\n",
       "<style scoped>\n",
       "    .dataframe tbody tr th:only-of-type {\n",
       "        vertical-align: middle;\n",
       "    }\n",
       "\n",
       "    .dataframe tbody tr th {\n",
       "        vertical-align: top;\n",
       "    }\n",
       "\n",
       "    .dataframe thead th {\n",
       "        text-align: right;\n",
       "    }\n",
       "</style>\n",
       "<table border=\"1\" class=\"dataframe\">\n",
       "  <thead>\n",
       "    <tr style=\"text-align: right;\">\n",
       "      <th></th>\n",
       "      <th>dot score</th>\n",
       "      <th>names</th>\n",
       "    </tr>\n",
       "  </thead>\n",
       "  <tbody>\n",
       "    <tr>\n",
       "      <th>325</th>\n",
       "      <td>18.690</td>\n",
       "      <td>Kanye West</td>\n",
       "    </tr>\n",
       "    <tr>\n",
       "      <th>294</th>\n",
       "      <td>12.142</td>\n",
       "      <td>Katy Perry</td>\n",
       "    </tr>\n",
       "    <tr>\n",
       "      <th>894</th>\n",
       "      <td>12.032</td>\n",
       "      <td>Amy Winehouse</td>\n",
       "    </tr>\n",
       "    <tr>\n",
       "      <th>300</th>\n",
       "      <td>11.777</td>\n",
       "      <td>Black Eyed Peas</td>\n",
       "    </tr>\n",
       "    <tr>\n",
       "      <th>83</th>\n",
       "      <td>11.439</td>\n",
       "      <td>Lady Gaga</td>\n",
       "    </tr>\n",
       "    <tr>\n",
       "      <th>148</th>\n",
       "      <td>11.289</td>\n",
       "      <td>Radiohead</td>\n",
       "    </tr>\n",
       "  </tbody>\n",
       "</table>\n",
       "</div>"
      ],
      "text/plain": [
       "     dot score            names\n",
       "325     18.690       Kanye West\n",
       "294     12.142       Katy Perry\n",
       "894     12.032    Amy Winehouse\n",
       "300     11.777  Black Eyed Peas\n",
       "83      11.439        Lady Gaga\n",
       "148     11.289        Radiohead"
      ]
     },
     "metadata": {},
     "output_type": "display_data"
    },
    {
     "name": "stdout",
     "output_type": "stream",
     "text": [
      "Nearest neighbors of : Kanye West.\n",
      "[Found more than one matching artist. Other candidates: Kanye West & Jay-Z, Kanye West, Beyoncé & Charlie Wilson, Kanye West feat. Pusha T MpTri.Net, Eminem feat. Drake, Kanye West, Lil Wayne, The-Dream f. Kanye West, Jamie Foxx feat. Kanye West and The-Dream]\n"
     ]
    },
    {
     "data": {
      "text/html": [
       "<div>\n",
       "<style scoped>\n",
       "    .dataframe tbody tr th:only-of-type {\n",
       "        vertical-align: middle;\n",
       "    }\n",
       "\n",
       "    .dataframe tbody tr th {\n",
       "        vertical-align: top;\n",
       "    }\n",
       "\n",
       "    .dataframe thead th {\n",
       "        text-align: right;\n",
       "    }\n",
       "</style>\n",
       "<table border=\"1\" class=\"dataframe\">\n",
       "  <thead>\n",
       "    <tr style=\"text-align: right;\">\n",
       "      <th></th>\n",
       "      <th>cosine score</th>\n",
       "      <th>names</th>\n",
       "    </tr>\n",
       "  </thead>\n",
       "  <tbody>\n",
       "    <tr>\n",
       "      <th>325</th>\n",
       "      <td>1.000</td>\n",
       "      <td>Kanye West</td>\n",
       "    </tr>\n",
       "    <tr>\n",
       "      <th>12493</th>\n",
       "      <td>0.674</td>\n",
       "      <td>Timbaland feat. Keri Hilson &amp; D.O.E.</td>\n",
       "    </tr>\n",
       "    <tr>\n",
       "      <th>3959</th>\n",
       "      <td>0.670</td>\n",
       "      <td>Major Lazer</td>\n",
       "    </tr>\n",
       "    <tr>\n",
       "      <th>265</th>\n",
       "      <td>0.664</td>\n",
       "      <td>Mos Def</td>\n",
       "    </tr>\n",
       "    <tr>\n",
       "      <th>12489</th>\n",
       "      <td>0.653</td>\n",
       "      <td>Mary J Blige</td>\n",
       "    </tr>\n",
       "    <tr>\n",
       "      <th>3964</th>\n",
       "      <td>0.650</td>\n",
       "      <td>Penguin Prison</td>\n",
       "    </tr>\n",
       "  </tbody>\n",
       "</table>\n",
       "</div>"
      ],
      "text/plain": [
       "       cosine score                                 names\n",
       "325           1.000                            Kanye West\n",
       "12493         0.674  Timbaland feat. Keri Hilson & D.O.E.\n",
       "3959          0.670                           Major Lazer\n",
       "265           0.664                               Mos Def\n",
       "12489         0.653                          Mary J Blige\n",
       "3964          0.650                        Penguin Prison"
      ]
     },
     "metadata": {},
     "output_type": "display_data"
    }
   ],
   "source": [
    "artist_neighbors(reg_model, \"Kanye\", DOT)\n",
    "artist_neighbors(reg_model, \"Kanye\", COSINE)"
   ]
  },
  {
   "cell_type": "code",
   "execution_count": null,
   "id": "225466f8",
   "metadata": {},
   "outputs": [],
   "source": []
  }
 ],
 "metadata": {
  "kernelspec": {
   "display_name": "Python 3 (ipykernel)",
   "language": "python",
   "name": "python3"
  },
  "language_info": {
   "codemirror_mode": {
    "name": "ipython",
    "version": 3
   },
   "file_extension": ".py",
   "mimetype": "text/x-python",
   "name": "python",
   "nbconvert_exporter": "python",
   "pygments_lexer": "ipython3",
   "version": "3.9.7"
  }
 },
 "nbformat": 4,
 "nbformat_minor": 5
}
