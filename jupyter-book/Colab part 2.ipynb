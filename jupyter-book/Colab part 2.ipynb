{
 "cells": [
  {
   "cell_type": "code",
   "execution_count": 1,
   "id": "34f96d85",
   "metadata": {},
   "outputs": [
    {
     "name": "stdout",
     "output_type": "stream",
     "text": [
      "WARNING:tensorflow:From C:\\Users\\laram\\AppData\\Local\\Continuum\\anaconda3\\envs\\ca4015\\lib\\site-packages\\tensorflow\\python\\compat\\v2_compat.py:111: disable_resource_variables (from tensorflow.python.ops.variable_scope) is deprecated and will be removed in a future version.\n",
      "Instructions for updating:\n",
      "non-resource variables are not supported in the long term\n"
     ]
    }
   ],
   "source": [
    "import os\n",
    "import matplotlib.pyplot as plt\n",
    "import seaborn as sns\n",
    "from __future__ import print_function\n",
    "import numpy as np\n",
    "import pandas as pd\n",
    "import collections\n",
    "from mpl_toolkits.mplot3d import Axes3D\n",
    "from IPython import display\n",
    "from matplotlib import pyplot as plt\n",
    "import sklearn\n",
    "import sklearn.manifold\n",
    "import tensorflow.compat.v1 as tf\n",
    "tf.disable_v2_behavior()\n",
    "tf.logging.set_verbosity(tf.logging.ERROR)\n",
    "\n",
    "# Add some convenience functions to Pandas DataFrame.\n",
    "pd.options.display.max_rows = 10\n",
    "pd.options.display.float_format = '{:.3f}'.format\n",
    "def mask(df, key, function):\n",
    "  \"\"\"Returns a filtered dataframe, by applying function to key\"\"\"\n",
    "  return df[function(df[key])]\n",
    "\n",
    "def flatten_cols(df):\n",
    "  df.columns = [' '.join(col).strip() for col in df.columns.values]\n",
    "  return df\n",
    "\n",
    "pd.DataFrame.mask = mask\n",
    "pd.DataFrame.flatten_cols = flatten_cols\n",
    "\n",
    "#I can't get this to work\n",
    "## Install Altair and activate its colab renderer.\n",
    "#print(\"Installing Altair...\")\n",
    "#!pip install git+git://github.com/altair-viz/altair.git\n",
    "#import altair as alt\n",
    "#alt.data_transformers.enable('default', max_rows=None)\n",
    "#alt.renderers.enable('notebook')\n",
    "#print(\"Done installing Altair.\")\n",
    "#"
   ]
  },
  {
   "cell_type": "code",
   "execution_count": 2,
   "id": "2ed4c616",
   "metadata": {},
   "outputs": [],
   "source": [
    "def build_rating_sparse_tensor(user_artists_df):\n",
    "\n",
    "    indices = user_artists_df[['userID', 'artistID']].values\n",
    "    values = user_artists_df['rating'].values\n",
    "\n",
    "    return tf.SparseTensor(\n",
    "        indices=indices,\n",
    "        values=values,\n",
    "        dense_shape=[len(user_artists.userID.unique()), artists.shape[0]])"
   ]
  },
  {
   "cell_type": "code",
   "execution_count": 3,
   "id": "fd835743",
   "metadata": {},
   "outputs": [],
   "source": [
    "user_artists = pd.read_csv('../data/user_artists_ratings.csv')\n",
    "user_friends = pd.read_csv('../data/user_friends.csv')\n",
    "user_taggedartists = pd.read_csv('../data/user_taggedartists.csv')\n",
    "artists = pd.read_csv('../data/artists.csv')\n",
    "tags = pd.read_table('../data/tags.dat', sep='\\t', encoding='latin-1')\n",
    "artists_tags = pd.read_csv('../data/artists_tags.csv')"
   ]
  },
  {
   "cell_type": "code",
   "execution_count": 4,
   "id": "dbf988c2",
   "metadata": {},
   "outputs": [],
   "source": [
    "def sparse_mean_square_error(sparse_ratings, user_embeddings, music_embeddings):\n",
    "\n",
    "    predictions = tf.reduce_sum(\n",
    "        tf.gather(user_embeddings, sparse_ratings.indices[:, 0]) *\n",
    "        tf.gather(music_embeddings, sparse_ratings.indices[:, 1]),\n",
    "        axis=1)\n",
    "    loss = tf.losses.mean_squared_error(sparse_ratings.values, predictions)\n",
    "    return loss"
   ]
  },
  {
   "cell_type": "code",
   "execution_count": 5,
   "id": "4f173720",
   "metadata": {},
   "outputs": [],
   "source": [
    "class CFModel(object):\n",
    "    \"\"\"Simple class that represents a collaborative filtering model\"\"\"\n",
    "    def __init__(self, embedding_vars, loss, metrics=None):\n",
    "        \"\"\"Initializes a CFModel.\n",
    "        Args:\n",
    "          embedding_vars: A dictionary of tf.Variables.\n",
    "          loss: A float Tensor. The loss to optimize.\n",
    "          metrics: optional list of dictionaries of Tensors. The metrics in each\n",
    "            dictionary will be plotted in a separate figure during training.\n",
    "        \"\"\"\n",
    "        self._embedding_vars = embedding_vars\n",
    "        self._loss = loss\n",
    "        self._metrics = metrics\n",
    "        self._embeddings = {k: None for k in embedding_vars}\n",
    "        self._session = None\n",
    "\n",
    "    @property\n",
    "    def embeddings(self):\n",
    "        \"\"\"The embeddings dictionary.\"\"\"\n",
    "        return self._embeddings\n",
    "\n",
    "    def train(self, num_iterations=100, learning_rate=1.0, plot_results=True,\n",
    "              optimizer=tf.train.GradientDescentOptimizer):\n",
    "        \"\"\"Trains the model.\n",
    "        Args:\n",
    "          iterations: number of iterations to run.\n",
    "          learning_rate: optimizer learning rate.\n",
    "          plot_results: whether to plot the results at the end of training.\n",
    "          optimizer: the optimizer to use. Default to GradientDescentOptimizer.\n",
    "        Returns:\n",
    "          The metrics dictionary evaluated at the last iteration.\n",
    "        \"\"\"\n",
    "        with self._loss.graph.as_default():\n",
    "            opt = optimizer(learning_rate)\n",
    "            train_op = opt.minimize(self._loss)\n",
    "            local_init_op = tf.group(\n",
    "                tf.variables_initializer(opt.variables()),\n",
    "                tf.local_variables_initializer())\n",
    "            if self._session is None:\n",
    "                self._session = tf.Session()\n",
    "                with self._session.as_default():\n",
    "                    self._session.run(tf.global_variables_initializer())\n",
    "                    self._session.run(tf.tables_initializer())\n",
    "                    tf.train.start_queue_runners()\n",
    "\n",
    "        with self._session.as_default():\n",
    "            local_init_op.run()\n",
    "            iterations = []\n",
    "            metrics = self._metrics or ({},)\n",
    "            metrics_vals = [collections.defaultdict(list) for _ in self._metrics]\n",
    "\n",
    "            # Train and append results.\n",
    "            for i in range(num_iterations + 1):\n",
    "                _, results = self._session.run((train_op, metrics))\n",
    "                if (i % 10 == 0) or i == num_iterations:\n",
    "                    print(\"\\r iteration %d: \" % i + \", \".join(\n",
    "                        [\"%s=%f\" % (k, v) for r in results for k, v in r.items()]),\n",
    "                          end='')\n",
    "                    iterations.append(i)\n",
    "                    for metric_val, result in zip(metrics_vals, results):\n",
    "                        for k, v in result.items():\n",
    "                            metric_val[k].append(v)\n",
    "\n",
    "            for k, v in self._embedding_vars.items():\n",
    "                self._embeddings[k] = v.eval()\n",
    "\n",
    "            if plot_results:\n",
    "                # Plot the metrics.\n",
    "                num_subplots = len(metrics)+1\n",
    "                fig = plt.figure()\n",
    "                fig.set_size_inches(num_subplots*10, 8)\n",
    "                for i, metric_vals in enumerate(metrics_vals):\n",
    "                    ax = fig.add_subplot(1, num_subplots, i+1)\n",
    "                    for k, v in metric_vals.items():\n",
    "                        ax.plot(iterations, v, label=k)\n",
    "                    ax.set_xlim([1, num_iterations])\n",
    "                    ax.legend()\n",
    "            return results"
   ]
  },
  {
   "cell_type": "code",
   "execution_count": 6,
   "id": "80cd948f",
   "metadata": {},
   "outputs": [],
   "source": [
    "def build_model(ratings, embedding_dim=3, init_stddev=1.):\n",
    "    \n",
    "    # Split the ratings DataFrame into train and test\n",
    "    train_ratings, test_ratings = split_dataframe(ratings)\n",
    "    # SparseTensor representation of the train and test datasets.\n",
    "    A_train = build_rating_sparse_tensor(train_ratings)\n",
    "    A_test = build_rating_sparse_tensor(test_ratings)\n",
    "    # Initialize the embeddings using a normal distribution.\n",
    "    U = tf.Variable(tf.random_normal(\n",
    "        [A_train.dense_shape[0], embedding_dim], stddev=init_stddev))\n",
    "    V = tf.Variable(tf.random_normal(\n",
    "        [A_train.dense_shape[1], embedding_dim], stddev=init_stddev))\n",
    "    train_loss = sparse_mean_square_error(A_train, U, V)\n",
    "    test_loss = sparse_mean_square_error(A_test, U, V)\n",
    "    metrics = {\n",
    "        'train_error': train_loss,\n",
    "        'test_error': test_loss\n",
    "    }\n",
    "    embeddings = {\n",
    "        \"userID\": U,\n",
    "        \"artistID\": V\n",
    "    }\n",
    "    return CFModel(embeddings, train_loss, [metrics])"
   ]
  },
  {
   "cell_type": "code",
   "execution_count": 7,
   "id": "b6f7a9b6",
   "metadata": {},
   "outputs": [],
   "source": [
    "def split_dataframe(df, holdout_fraction=0.1):\n",
    "  \n",
    "    test = df.sample(frac=holdout_fraction, replace=False)\n",
    "    train = df[~df.index.isin(test.index)]\n",
    "    return train, test"
   ]
  },
  {
   "cell_type": "code",
   "execution_count": 8,
   "id": "446e0fcd",
   "metadata": {},
   "outputs": [],
   "source": [
    "## Might not be necessary \n",
    "\n",
    "#user_artists = user_artists[['userID', 'artistID', 'rating']]\n",
    "\n",
    "#user_artists['userID'] = user_artists['userID'].astype(str)\n",
    "#user_artists['artistID'] = user_artists['artistID'].astype(str)\n",
    "#user_artists['rating'] = user_artists['rating'].astype(float)\n",
    "\n",
    "#user_artists = user_artists.sample(frac=1).reset_index(drop=True)"
   ]
  },
  {
   "cell_type": "code",
   "execution_count": 9,
   "id": "06084840",
   "metadata": {},
   "outputs": [
    {
     "name": "stdout",
     "output_type": "stream",
     "text": [
      " iteration 1000: train_error=0.198244, test_error=4.623462"
     ]
    },
    {
     "data": {
      "text/plain": [
       "[{'train_error': 0.19824356, 'test_error': 4.6234617}]"
      ]
     },
     "execution_count": 9,
     "metadata": {},
     "output_type": "execute_result"
    },
    {
     "data": {
      "image/png": "[encoded data removed]",
      "text/plain": [
       "<Figure size 1440x576 with 1 Axes>"
      ]
     },
     "metadata": {
      "needs_background": "light"
     },
     "output_type": "display_data"
    }
   ],
   "source": [
    "model = build_model(user_artists, embedding_dim=30, init_stddev=0.5)\n",
    "model.train(num_iterations=1000, learning_rate=10.)"
   ]
  },
  {
   "cell_type": "code",
   "execution_count": null,
   "id": "bf4a8363",
   "metadata": {},
   "outputs": [],
   "source": []
  }
 ],
 "metadata": {
  "kernelspec": {
   "display_name": "Python 3 (ipykernel)",
   "language": "python",
   "name": "python3"
  },
  "language_info": {
   "codemirror_mode": {
    "name": "ipython",
    "version": 3
   },
   "file_extension": ".py",
   "mimetype": "text/x-python",
   "name": "python",
   "nbconvert_exporter": "python",
   "pygments_lexer": "ipython3",
   "version": "3.9.7"
  }
 },
 "nbformat": 4,
 "nbformat_minor": 5
}
