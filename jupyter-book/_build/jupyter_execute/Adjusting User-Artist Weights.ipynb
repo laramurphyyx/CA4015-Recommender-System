{
 "cells": [
  {
   "cell_type": "markdown",
   "id": "4ab3ab8f",
   "metadata": {},
   "source": [
    "# Adjusting User-Artist Weights"
   ]
  },
  {
   "cell_type": "markdown",
   "id": "98241f45",
   "metadata": {},
   "source": [
    "## Importing Relevant Packages and Datasets"
   ]
  },
  {
   "cell_type": "code",
   "execution_count": 1,
   "id": "348118fc",
   "metadata": {},
   "outputs": [],
   "source": [
    "import pandas as pd\n",
    "import numpy as np\n",
    "import itertools\n",
    "import matplotlib.pyplot as plt"
   ]
  },
  {
   "cell_type": "code",
   "execution_count": 2,
   "id": "d9f82033",
   "metadata": {},
   "outputs": [],
   "source": [
    "dataframe_names = [\n",
    "    'user_friends',\n",
    "    'user_taggedartists',\n",
    "    'artists',\n",
    "    'tags',\n",
    "    'user_artists']\n",
    "\n",
    "file_names = [\n",
    "    '../data/user_friends.dat',\n",
    "    '../data/user_taggedartists.dat',\n",
    "    '../data/artists.dat',\n",
    "    '../data/tags.dat',\n",
    "    '../data/user_artists.dat']"
   ]
  },
  {
   "cell_type": "code",
   "execution_count": 3,
   "id": "c8eb7a22",
   "metadata": {},
   "outputs": [],
   "source": [
    "for (dataframe, file) in zip(dataframe_names, file_names):\n",
    "    if dataframe == 'tags':\n",
    "        vars()[dataframe] = pd.read_table(file, sep=\"\\t\", encoding = \"latin-1\")\n",
    "    else:\n",
    "        vars()[dataframe] = pd.read_table(file, sep=\"\\t\")"
   ]
  },
  {
   "cell_type": "markdown",
   "id": "2bc61e42",
   "metadata": {},
   "source": [
    "## Exploring the data"
   ]
  },
  {
   "cell_type": "code",
   "execution_count": 4,
   "id": "fba5cc60",
   "metadata": {},
   "outputs": [
    {
     "data": {
      "image/png": "[encoded data removed]",
      "text/plain": [
       "<Figure size 432x288 with 1 Axes>"
      ]
     },
     "metadata": {
      "filenames": {
       "image/png": "C:\\Users\\laram\\CA4015\\CA4015-Recommender-System\\jupyter-book\\_build\\jupyter_execute\\Adjusting User-Artist Weights_6_0.png"
      },
      "needs_background": "light"
     },
     "output_type": "display_data"
    }
   ],
   "source": [
    "plt.hist(user_artists['weight'], bins=300);"
   ]
  },
  {
   "cell_type": "markdown",
   "id": "cab1ba0e",
   "metadata": {},
   "source": [
    "It is difficult to visualise the distribution of the weights using this graph. It is likely that there are few datapoints that go beyond 35,000 and this is causing the rest of the data to be very small and difficult to interpret.\n",
    "\n",
    "By running some basic commands, I have discovered that 95% of weights are less than or equal to 2,328."
   ]
  },
  {
   "cell_type": "code",
   "execution_count": 5,
   "id": "b336ff90",
   "metadata": {},
   "outputs": [
    {
     "data": {
      "image/png": "[encoded data removed]",
      "text/plain": [
       "<Figure size 432x288 with 1 Axes>"
      ]
     },
     "metadata": {
      "filenames": {
       "image/png": "C:\\Users\\laram\\CA4015\\CA4015-Recommender-System\\jupyter-book\\_build\\jupyter_execute\\Adjusting User-Artist Weights_8_0.png"
      },
      "needs_background": "light"
     },
     "output_type": "display_data"
    }
   ],
   "source": [
    "plt.hist(user_artists[user_artists['weight']<=2328]['weight'], bins = 30)\n",
    "plt.gca().set(title='Distribution of Weights');"
   ]
  },
  {
   "cell_type": "markdown",
   "id": "c9b83532",
   "metadata": {},
   "source": [
    "This is the new plot where we have excluded any weights over 2,328. \n",
    "\n",
    "The graph is much easier to interpret and seems to follow a gamma/exponential distribution."
   ]
  },
  {
   "cell_type": "markdown",
   "id": "963d6913",
   "metadata": {},
   "source": [
    "## Different options"
   ]
  },
  {
   "cell_type": "markdown",
   "id": "2b27f329",
   "metadata": {},
   "source": [
    "At the moment, it would be quite difficult to seperate the data as it does not follow a normal distribution.\n",
    "\n",
    "There are different methods we can try to assign a rating for each weight.\n",
    "\n",
    "### Option 1\n",
    "Since the distribution of weights has a very long tail, we can find a point where most of the tail is where users gave artists a 5-star rating, and then divide the rest of the weights intuitively/mathematically into 1-4 stars.\n",
    "This would be to assume a 25% split between 1-star, 2-star, 3-star and 4-star ratings (after we have identified the cut-off poiint for 5-star ratings).\n",
    "\n",
    "The drawbacks of this option:\n",
    "- It is not user specific, the percentages (25%) will be the same for all users, except the 5-star rating, which may be disproportionately distributed if someone listens to a huge amount of music.\n",
    "- It is not accurately representative of natural distribution you'd expect from users liking artists. It is more likely to follow a slight normal distribution where there are more 3 star ratings than 1 or 5 star ratings.\n",
    "\n",
    "### Option 2\n",
    "Use a user's average weighting and do a normal distribution seperator. \n",
    "1. Do a case study on 10 random people to see the distribution of their weights \n",
    "2. If the distribution is normal, follow the standard procedure to separate the ratings, if the distribution is not normal, try to identify if the distribution could be separated in a different way.\n",
    "\n",
    "The drawbacks of this option:\n",
    "- It is unlikely that the users' specific weight distribution is normal as the weight distribution as a whole is extremly long-tailed. \n",
    "- If we are working with a long-tailed distribution, the method to assign ratings will have to be manually decided and might not be optimal.\n",
    "\n",
    "<u>Option 2</u> seems like it will yield better results.\n",
    "\n",
    "We'll firstly investigate the distribution of all users' average weights and then look at 5 users and view their weight distributions in isolation."
   ]
  },
  {
   "cell_type": "markdown",
   "id": "24baa7bd",
   "metadata": {},
   "source": [
    "## Investigating Users' Average Weight"
   ]
  },
  {
   "cell_type": "code",
   "execution_count": 6,
   "id": "c8fc3144",
   "metadata": {},
   "outputs": [],
   "source": [
    "distribution_of_weights_given = (\n",
    "    user_artists\n",
    "    .groupby('weight', as_index=False)\n",
    "    .agg({'userID': ['mean']})\n",
    ")"
   ]
  },
  {
   "cell_type": "code",
   "execution_count": 7,
   "id": "6a826430",
   "metadata": {},
   "outputs": [],
   "source": [
    "distribution_of_weights_given.columns = ['weight', 'users_avg']"
   ]
  },
  {
   "cell_type": "code",
   "execution_count": 8,
   "id": "c178e74f",
   "metadata": {
    "scrolled": true
   },
   "outputs": [
    {
     "data": {
      "image/png": "[encoded data removed]",
      "text/plain": [
       "<Figure size 432x288 with 1 Axes>"
      ]
     },
     "metadata": {
      "filenames": {
       "image/png": "C:\\Users\\laram\\CA4015\\CA4015-Recommender-System\\jupyter-book\\_build\\jupyter_execute\\Adjusting User-Artist Weights_15_0.png"
      },
      "needs_background": "light"
     },
     "output_type": "display_data"
    }
   ],
   "source": [
    "data = distribution_of_weights_given['users_avg']\n",
    "plt.hist(data, weights=np.ones(len(data)) / len(data), bins=200)\n",
    "plt.gca().set(\n",
    "    title='Distribution of Average Weights ', \n",
    "    xlabel='Average Weight',\n",
    "    ylabel='Frequency'\n",
    ");"
   ]
  },
  {
   "cell_type": "markdown",
   "id": "ff08c318",
   "metadata": {},
   "source": [
    "This graph shows quite a clear normal distribution, this may be useful to us depending on the specific user distributions."
   ]
  },
  {
   "cell_type": "markdown",
   "id": "321b5ce3",
   "metadata": {},
   "source": [
    "## Investigating 5 Users' Distributions"
   ]
  },
  {
   "cell_type": "code",
   "execution_count": 9,
   "id": "36817fc7",
   "metadata": {
    "tags": [
     "hide-input"
    ]
   },
   "outputs": [
    {
     "data": {
      "image/png": "[encoded data removed]",
      "text/plain": [
       "<Figure size 432x288 with 1 Axes>"
      ]
     },
     "metadata": {
      "filenames": {
       "image/png": "C:\\Users\\laram\\CA4015\\CA4015-Recommender-System\\jupyter-book\\_build\\jupyter_execute\\Adjusting User-Artist Weights_18_0.png"
      },
      "needs_background": "light"
     },
     "output_type": "display_data"
    }
   ],
   "source": [
    "data = user_artists[user_artists['userID']==2]['weight']\n",
    "plt.hist(data, weights=np.ones(len(data)) / len(data), bins=100)\n",
    "plt.gca().set(\n",
    "    title='Distribution of Weights for User #2', \n",
    "    xlabel='Weight Values',\n",
    "    ylabel='Frequency'\n",
    ");"
   ]
  },
  {
   "cell_type": "code",
   "execution_count": 10,
   "id": "57f96790",
   "metadata": {
    "tags": [
     "hide-input"
    ]
   },
   "outputs": [
    {
     "data": {
      "image/png": "[encoded data removed]",
      "text/plain": [
       "<Figure size 432x288 with 1 Axes>"
      ]
     },
     "metadata": {
      "filenames": {
       "image/png": "C:\\Users\\laram\\CA4015\\CA4015-Recommender-System\\jupyter-book\\_build\\jupyter_execute\\Adjusting User-Artist Weights_19_0.png"
      },
      "needs_background": "light"
     },
     "output_type": "display_data"
    }
   ],
   "source": [
    "data = user_artists[user_artists['userID']==6]['weight']\n",
    "plt.hist(data, weights=np.ones(len(data)) / len(data), bins=range(0,42))\n",
    "plt.gca().set(\n",
    "    title='Distribution of Weights for User #6', \n",
    "    xlabel='Weight Values',\n",
    "    ylabel='Frequency'\n",
    ");"
   ]
  },
  {
   "cell_type": "code",
   "execution_count": 11,
   "id": "b6621888",
   "metadata": {
    "tags": [
     "hide-input"
    ]
   },
   "outputs": [
    {
     "data": {
      "image/png": "[encoded data removed]",
      "text/plain": [
       "<Figure size 432x288 with 1 Axes>"
      ]
     },
     "metadata": {
      "filenames": {
       "image/png": "C:\\Users\\laram\\CA4015\\CA4015-Recommender-System\\jupyter-book\\_build\\jupyter_execute\\Adjusting User-Artist Weights_20_0.png"
      },
      "needs_background": "light"
     },
     "output_type": "display_data"
    }
   ],
   "source": [
    "data = user_artists[user_artists['userID']==7]['weight']\n",
    "plt.hist(data, weights=np.ones(len(data)) / len(data), bins=100)\n",
    "plt.gca().set(\n",
    "    title='Distribution of Weights for User #7', \n",
    "    xlabel='Weight Values',\n",
    "    ylabel='Frequency'\n",
    ");"
   ]
  },
  {
   "cell_type": "code",
   "execution_count": 12,
   "id": "639be5df",
   "metadata": {
    "tags": [
     "hide-input"
    ]
   },
   "outputs": [
    {
     "data": {
      "image/png": "[encoded data removed]",
      "text/plain": [
       "<Figure size 432x288 with 1 Axes>"
      ]
     },
     "metadata": {
      "filenames": {
       "image/png": "C:\\Users\\laram\\CA4015\\CA4015-Recommender-System\\jupyter-book\\_build\\jupyter_execute\\Adjusting User-Artist Weights_21_0.png"
      },
      "needs_background": "light"
     },
     "output_type": "display_data"
    }
   ],
   "source": [
    "data = user_artists[user_artists['userID']==700]['weight']\n",
    "plt.hist(data, weights=np.ones(len(data)) / len(data), bins=100)\n",
    "plt.gca().set(\n",
    "    title='Distribution of Weights for User #700', \n",
    "    xlabel='Weight Values',\n",
    "    ylabel='Frequency'\n",
    ");"
   ]
  },
  {
   "cell_type": "code",
   "execution_count": 13,
   "id": "3e3def86",
   "metadata": {
    "tags": [
     "hide-input"
    ]
   },
   "outputs": [
    {
     "data": {
      "image/png": "[encoded data removed]",
      "text/plain": [
       "<Figure size 432x288 with 1 Axes>"
      ]
     },
     "metadata": {
      "filenames": {
       "image/png": "C:\\Users\\laram\\CA4015\\CA4015-Recommender-System\\jupyter-book\\_build\\jupyter_execute\\Adjusting User-Artist Weights_22_0.png"
      },
      "needs_background": "light"
     },
     "output_type": "display_data"
    }
   ],
   "source": [
    "data = user_artists[user_artists['userID']==2100]['weight']\n",
    "plt.hist(data, weights=np.ones(len(data)) / len(data), bins=100)\n",
    "plt.gca().set(\n",
    "    title='Distribution of Weights for User #2100', \n",
    "    xlabel='Weight Values',\n",
    "    ylabel='Frequency'\n",
    ");"
   ]
  },
  {
   "cell_type": "markdown",
   "id": "4565e90c",
   "metadata": {},
   "source": [
    "All of the above figures, for users #2, #6, #7, #700, #2100, have a long-tailed distribution. \n",
    "\n",
    "This makes the distribution of ratings slightly more tricky.\n",
    "\n",
    "Let's investigate for some of these users, how they would be processed if treated like a normal distribution."
   ]
  },
  {
   "cell_type": "markdown",
   "id": "50378c37",
   "metadata": {},
   "source": [
    "<a id=’plotting_mean_std’></a>\n",
    "## Plotting the Mean and Standard Deviation on Users' Weight Distribution"
   ]
  },
  {
   "cell_type": "code",
   "execution_count": 14,
   "id": "9b8d6360",
   "metadata": {
    "tags": [
     "hide-input"
    ]
   },
   "outputs": [
    {
     "data": {
      "image/png": "[encoded data removed]",
      "text/plain": [
       "<Figure size 432x288 with 1 Axes>"
      ]
     },
     "metadata": {
      "filenames": {
       "image/png": "C:\\Users\\laram\\CA4015\\CA4015-Recommender-System\\jupyter-book\\_build\\jupyter_execute\\Adjusting User-Artist Weights_25_0.png"
      },
      "needs_background": "light"
     },
     "output_type": "display_data"
    }
   ],
   "source": [
    "data = user_artists[user_artists['userID']==2]['weight']\n",
    "plt.hist(data, weights=np.ones(len(data)) / len(data), bins=100)\n",
    "\n",
    "## Assigning the mean and the standard deviation and then plotting them\n",
    "mean = data.mean()\n",
    "std = np.std(data)\n",
    "plt.axvline(mean, color='red', linestyle='dashed', linewidth=1)\n",
    "plt.axvline(mean - (2.5 * std), color='k', linestyle='dashed', linewidth=1)\n",
    "plt.axvline(mean - (1.5 * std), color='k', linestyle='dashed', linewidth=1)\n",
    "plt.axvline(mean - (0.5 * std), color='k', linestyle='dashed', linewidth=1)\n",
    "plt.axvline(mean + (0.5 * std), color='k', linestyle='dashed', linewidth=1)\n",
    "plt.axvline(mean + (1.5 * std), color='k', linestyle='dashed', linewidth=1)\n",
    "plt.axvline(mean + (2.5 * std), color='k', linestyle='dashed', linewidth=1)\n",
    "\n",
    "plt.gca().set(\n",
    "    title='Weight Distribution of User #2 with Mean and Standard Deviation', \n",
    "    xlabel='Weight Values',\n",
    "    ylabel='Frequency'\n",
    ");"
   ]
  },
  {
   "cell_type": "code",
   "execution_count": 15,
   "id": "711a2909",
   "metadata": {
    "tags": [
     "hide-input"
    ]
   },
   "outputs": [
    {
     "data": {
      "image/png": "[encoded data removed]",
      "text/plain": [
       "<Figure size 432x288 with 1 Axes>"
      ]
     },
     "metadata": {
      "filenames": {
       "image/png": "C:\\Users\\laram\\CA4015\\CA4015-Recommender-System\\jupyter-book\\_build\\jupyter_execute\\Adjusting User-Artist Weights_26_0.png"
      },
      "needs_background": "light"
     },
     "output_type": "display_data"
    }
   ],
   "source": [
    "data = user_artists[user_artists['userID']==6]['weight']\n",
    "plt.hist(data, weights=np.ones(len(data)) / len(data), bins=range(0,50))\n",
    "\n",
    "## Assigning the mean and the standard deviation and then plotting them\n",
    "mean = data.mean()\n",
    "std = np.std(data)\n",
    "plt.axvline(mean, color='red', linestyle='dashed', linewidth=1)\n",
    "plt.axvline(mean - (2.5 * std), color='k', linestyle='dashed', linewidth=1)\n",
    "plt.axvline(mean - (1.5 * std), color='k', linestyle='dashed', linewidth=1)\n",
    "plt.axvline(mean - (0.5 * std), color='k', linestyle='dashed', linewidth=1)\n",
    "plt.axvline(mean + (0.5 * std), color='k', linestyle='dashed', linewidth=1)\n",
    "plt.axvline(mean + (1.5 * std), color='k', linestyle='dashed', linewidth=1)\n",
    "plt.axvline(mean + (2.5 * std), color='k', linestyle='dashed', linewidth=1)\n",
    "\n",
    "plt.gca().set(\n",
    "    title='Weight Distribution of User #6 with Mean and Standard Deviation', \n",
    "    xlabel='Weight Values',\n",
    "    ylabel='Frequency'\n",
    ");"
   ]
  },
  {
   "cell_type": "code",
   "execution_count": 16,
   "id": "0a7a91ca",
   "metadata": {
    "tags": [
     "hide-input"
    ]
   },
   "outputs": [
    {
     "data": {
      "image/png": "[encoded data removed]",
      "text/plain": [
       "<Figure size 432x288 with 1 Axes>"
      ]
     },
     "metadata": {
      "filenames": {
       "image/png": "C:\\Users\\laram\\CA4015\\CA4015-Recommender-System\\jupyter-book\\_build\\jupyter_execute\\Adjusting User-Artist Weights_27_0.png"
      },
      "needs_background": "light"
     },
     "output_type": "display_data"
    }
   ],
   "source": [
    "data = user_artists[user_artists['userID']==7]['weight']\n",
    "mean = data.mean()\n",
    "std = np.std(data)\n",
    "\n",
    "plt.hist(data, weights=np.ones(len(data)) / len(data), bins=100)\n",
    "plt.axvline(mean, color='red', linestyle='dashed', linewidth=1)\n",
    "plt.axvline(mean - (2.5 * std), color='k', linestyle='dashed', linewidth=1)\n",
    "plt.axvline(mean - (1.5 * std), color='k', linestyle='dashed', linewidth=1)\n",
    "plt.axvline(mean - (0.5 * std), color='k', linestyle='dashed', linewidth=1)\n",
    "plt.axvline(mean + (0.5 * std), color='k', linestyle='dashed', linewidth=1)\n",
    "plt.axvline(mean + (1.5 * std), color='k', linestyle='dashed', linewidth=1)\n",
    "plt.axvline(mean + (2.5 * std), color='k', linestyle='dashed', linewidth=1)\n",
    "\n",
    "plt.gca().set(\n",
    "    title='Weight Distribution of User #7 with Mean and Standard Deviation', \n",
    "    xlabel='Weight Values',\n",
    "    ylabel='Frequency'\n",
    ");"
   ]
  },
  {
   "cell_type": "code",
   "execution_count": 17,
   "id": "3304a0a4",
   "metadata": {
    "tags": [
     "hide-input"
    ]
   },
   "outputs": [
    {
     "data": {
      "image/png": "[encoded data removed]",
      "text/plain": [
       "<Figure size 432x288 with 1 Axes>"
      ]
     },
     "metadata": {
      "filenames": {
       "image/png": "C:\\Users\\laram\\CA4015\\CA4015-Recommender-System\\jupyter-book\\_build\\jupyter_execute\\Adjusting User-Artist Weights_28_0.png"
      },
      "needs_background": "light"
     },
     "output_type": "display_data"
    }
   ],
   "source": [
    "data = user_artists[user_artists['userID']==700]['weight']\n",
    "plt.hist(data, weights=np.ones(len(data)) / len(data), bins=100)\n",
    "\n",
    "## Assigning the mean and the standard deviation and then plotting them\n",
    "mean = data.mean()\n",
    "std = np.std(data)\n",
    "plt.axvline(mean, color='red', linestyle='dashed', linewidth=1)\n",
    "plt.axvline(mean - (2.5 * std), color='k', linestyle='dashed', linewidth=1)\n",
    "plt.axvline(mean - (1.5 * std), color='k', linestyle='dashed', linewidth=1)\n",
    "plt.axvline(mean - (0.5 * std), color='k', linestyle='dashed', linewidth=1)\n",
    "plt.axvline(mean + (0.5 * std), color='k', linestyle='dashed', linewidth=1)\n",
    "plt.axvline(mean + (1.5 * std), color='k', linestyle='dashed', linewidth=1)\n",
    "plt.axvline(mean + (2.5 * std), color='k', linestyle='dashed', linewidth=1)\n",
    "\n",
    "plt.gca().set(\n",
    "    title='Weight Distribution of User #700 with Mean and Standard Deviation', \n",
    "    xlabel='Weight Values',\n",
    "    ylabel='Frequency'\n",
    ");"
   ]
  },
  {
   "cell_type": "code",
   "execution_count": 18,
   "id": "515c2ffc",
   "metadata": {
    "tags": [
     "hide-input"
    ]
   },
   "outputs": [
    {
     "data": {
      "image/png": "[encoded data removed]",
      "text/plain": [
       "<Figure size 432x288 with 1 Axes>"
      ]
     },
     "metadata": {
      "filenames": {
       "image/png": "C:\\Users\\laram\\CA4015\\CA4015-Recommender-System\\jupyter-book\\_build\\jupyter_execute\\Adjusting User-Artist Weights_29_0.png"
      },
      "needs_background": "light"
     },
     "output_type": "display_data"
    }
   ],
   "source": [
    "data = user_artists[user_artists['userID']==2100]['weight']\n",
    "plt.hist(data, weights=np.ones(len(data)) / len(data), bins=100)\n",
    "\n",
    "## Assigning the mean and the standard deviation and then plotting them\n",
    "mean = data.mean()\n",
    "std = np.std(data)\n",
    "plt.axvline(mean, color='red', linestyle='dashed', linewidth=1)\n",
    "plt.axvline(mean - (2.5 * std), color='k', linestyle='dashed', linewidth=1)\n",
    "plt.axvline(mean - (1.5 * std), color='k', linestyle='dashed', linewidth=1)\n",
    "plt.axvline(mean - (0.5 * std), color='k', linestyle='dashed', linewidth=1)\n",
    "plt.axvline(mean + (0.5 * std), color='k', linestyle='dashed', linewidth=1)\n",
    "plt.axvline(mean + (1.5 * std), color='k', linestyle='dashed', linewidth=1)\n",
    "plt.axvline(mean + (2.5 * std), color='k', linestyle='dashed', linewidth=1)\n",
    "\n",
    "plt.gca().set(\n",
    "    title='Weight Distribution of User #2100 with Mean and Standard Deviation', \n",
    "    xlabel='Weight Values',\n",
    "    ylabel='Frequency'\n",
    ");"
   ]
  },
  {
   "cell_type": "markdown",
   "id": "3c48916a",
   "metadata": {},
   "source": [
    "These five graphs show us that using the mean and standard deviation as a method to assign our-star ratings, it would have some key performance issues.\n",
    "\n",
    "This method does not prove very efficient as there are no occurrences of a 1-star rating for all users examined. It also does not apply to users who have outlier-like values, such as user #7 having one occurence of a weight above 40,000 which increases the standard deviation substantially, and results in majority of their weights belonging to the 3-star rating zone.\n",
    "\n",
    "This issue with user #7 could be solved with outlier exclusion. Excluding outliers will reduce the size of the standard deviation, allowing the assignment of ratings to be more spread out, which may solve the issue of 1-star ratings also."
   ]
  },
  {
   "cell_type": "markdown",
   "id": "c8474887",
   "metadata": {},
   "source": [
    "## Removing Outliers for User #7"
   ]
  },
  {
   "cell_type": "code",
   "execution_count": 19,
   "id": "043bf8ca",
   "metadata": {},
   "outputs": [],
   "source": [
    "user7 = user_artists[user_artists['userID']==7]\n",
    "user7_mean = user7['weight'].mean()\n",
    "user7_std = np.std(user7['weight'])"
   ]
  },
  {
   "cell_type": "code",
   "execution_count": 20,
   "id": "07148c89",
   "metadata": {},
   "outputs": [],
   "source": [
    "user7_adjusted = user7[abs(user7['weight']-user7_mean)<(2*user7_std)]\n",
    "user7_mean_adjusted = user7_adjusted['weight'].mean()\n",
    "user7_std_adjusted = np.std(user7_adjusted['weight'])"
   ]
  },
  {
   "cell_type": "code",
   "execution_count": 21,
   "id": "93f1e093",
   "metadata": {
    "scrolled": true
   },
   "outputs": [
    {
     "data": {
      "image/png": "[encoded data removed]",
      "text/plain": [
       "<Figure size 432x288 with 1 Axes>"
      ]
     },
     "metadata": {
      "filenames": {
       "image/png": "C:\\Users\\laram\\CA4015\\CA4015-Recommender-System\\jupyter-book\\_build\\jupyter_execute\\Adjusting User-Artist Weights_34_0.png"
      },
      "needs_background": "light"
     },
     "output_type": "display_data"
    }
   ],
   "source": [
    "plt.hist(user7_adjusted, bins = 50)\n",
    "\n",
    "plt.axvline(user7_mean_adjusted, color='red', linestyle='dashed', linewidth=1)\n",
    "plt.axvline(user7_mean_adjusted - (2.5 * user7_std_adjusted), color='k', linestyle='dashed', linewidth=1)\n",
    "plt.axvline(user7_mean_adjusted - (1.5 * user7_std_adjusted), color='k', linestyle='dashed', linewidth=1)\n",
    "plt.axvline(user7_mean_adjusted - (0.5 * user7_std_adjusted), color='k', linestyle='dashed', linewidth=1)\n",
    "plt.axvline(user7_mean_adjusted + (0.5 * user7_std_adjusted), color='k', linestyle='dashed', linewidth=1)\n",
    "plt.axvline(user7_mean_adjusted + (1.5 * user7_std_adjusted), color='k', linestyle='dashed', linewidth=1)\n",
    "plt.axvline(user7_mean_adjusted + (2.5 * user7_std_adjusted), color='k', linestyle='dashed', linewidth=1)\n",
    "plt.gca().set(\n",
    "    title='Weight Distribution of User #7 with Mean and Standard Deviation (after outlier exclusion)', \n",
    "    xlabel='Weight Values',\n",
    "    ylabel='Frequency'\n",
    ");"
   ]
  },
  {
   "cell_type": "markdown",
   "id": "358091ac",
   "metadata": {},
   "source": [
    "The above graph shows slight improvement in comparison to the original graph contained in [this section](#plotting_mean_std) where the means and standard deviations were graphed.\n",
    "\n",
    "Using the adjusted data, the datapoint above 1,000 could be considered a datapoint, and we can iterate through the outlier exclusion process again. We can explore this later."
   ]
  },
  {
   "cell_type": "markdown",
   "id": "60d5807e",
   "metadata": {},
   "source": [
    "Since there is only a sample set of 5 users, they may not be representative of the group of users. Let's assign the user ratings according to the normal distribution (mean and standard deviation), and see what adjustments can be made post-hoc."
   ]
  },
  {
   "cell_type": "markdown",
   "id": "b465435f",
   "metadata": {},
   "source": [
    "# Creating a Loop to add Star-Ratings based on Normal Distribution"
   ]
  },
  {
   "cell_type": "code",
   "execution_count": 22,
   "id": "c7d08c4b",
   "metadata": {},
   "outputs": [],
   "source": [
    "## Creating a dictionary to discover each users mean and standard deviation\n",
    "means = {}\n",
    "stds = {}\n",
    "for userID in user_artists.userID.unique():\n",
    "    user_data = user_artists[user_artists['userID']==userID]\n",
    "    user_mean = user_data['weight'].mean()\n",
    "    user_std = np.std(user_data['weight'])\n",
    "    means[userID] = user_mean\n",
    "    stds[userID] = user_std"
   ]
  },
  {
   "cell_type": "code",
   "execution_count": 23,
   "id": "e0b87dbc",
   "metadata": {},
   "outputs": [],
   "source": [
    "user_artists['rating'] = 0\n",
    "user_artists['mean'] = 0\n",
    "user_artists['std'] = 0"
   ]
  },
  {
   "cell_type": "code",
   "execution_count": 24,
   "id": "28641d4c",
   "metadata": {},
   "outputs": [],
   "source": [
    "def find_mean(row):\n",
    "    return means[row['userID']]\n",
    "\n",
    "def find_std(row):\n",
    "    return stds[row['userID']]\n",
    "\n",
    "def find_rating(row):\n",
    "    weight = row['weight']\n",
    "    user_mean = row['mean']\n",
    "    user_std = row['std']\n",
    "    if weight <= (user_mean - (1.5 * user_std)):\n",
    "        return 1\n",
    "    elif weight <= (user_mean - (0.5 * user_std)):\n",
    "        return 2\n",
    "    elif weight <= (user_mean + (0.5 * user_std)):\n",
    "        return 3\n",
    "    elif weight <= (user_mean + (1.5 * user_std)):\n",
    "        return 4\n",
    "    elif weight > (user_mean + (1.5 * user_std)):\n",
    "        return 5"
   ]
  },
  {
   "cell_type": "code",
   "execution_count": 25,
   "id": "e3328efa",
   "metadata": {},
   "outputs": [],
   "source": [
    "user_artists['mean'] = user_artists.apply(lambda row: find_mean(row), axis=1)\n",
    "user_artists['std'] = user_artists.apply(lambda row: find_std(row), axis=1)\n",
    "user_artists['rating'] = user_artists.apply(lambda row: find_rating(row), axis=1)"
   ]
  },
  {
   "cell_type": "code",
   "execution_count": 26,
   "id": "bd583c73",
   "metadata": {},
   "outputs": [
    {
     "data": {
      "image/png": "[encoded data removed]",
      "text/plain": [
       "<Figure size 432x288 with 1 Axes>"
      ]
     },
     "metadata": {
      "filenames": {
       "image/png": "C:\\Users\\laram\\CA4015\\CA4015-Recommender-System\\jupyter-book\\_build\\jupyter_execute\\Adjusting User-Artist Weights_42_0.png"
      },
      "needs_background": "light"
     },
     "output_type": "display_data"
    }
   ],
   "source": [
    "plt.hist(user_artists['rating']);"
   ]
  },
  {
   "cell_type": "markdown",
   "id": "f4426a0d",
   "metadata": {},
   "source": [
    "There are no artists that recieved a 1-star rating, this is due to the fact that the users' weights are not normally distributed, they're long-tailed distributions. \n",
    "\n",
    "This causes the standard deviation to be larger, meaning that most of the weights to the left of the mean will be within 1 standard deviation of the mean, resulting in no 1-star ratings.\n",
    "\n",
    "We can check now if removing the outliers will make a difference to the distribution of star ratings."
   ]
  },
  {
   "cell_type": "markdown",
   "id": "460c1ed2",
   "metadata": {},
   "source": [
    "## Adjusting Star-Ratings to Allow for Outlier Exclusion"
   ]
  },
  {
   "cell_type": "code",
   "execution_count": 27,
   "id": "5f6ab420",
   "metadata": {},
   "outputs": [],
   "source": [
    "## Removing any weight that is above 2 standard deviations away from the mean\n",
    "adjusted_user_artists = user_artists[abs(user_artists['weight']-user_artists['mean'])<(2*user_artists['std'])]"
   ]
  },
  {
   "cell_type": "code",
   "execution_count": 28,
   "id": "1d31a159",
   "metadata": {},
   "outputs": [],
   "source": [
    "## Dropping and recreating the mean, standard deviation and rating columns\n",
    "adjusted_user_artists = adjusted_user_artists.drop(['std', 'rating', 'mean'], axis=1)\n",
    "\n",
    "adjusted_user_artists['rating'] = 0\n",
    "adjusted_user_artists['mean'] = 0\n",
    "adjusted_user_artists['std'] = 0"
   ]
  },
  {
   "cell_type": "code",
   "execution_count": 29,
   "id": "3c2e9646",
   "metadata": {},
   "outputs": [],
   "source": [
    "## Finding the new means and standard deviations\n",
    "## Creating a dictionary to discover each users new mean and standard deviation\n",
    "means = {}\n",
    "stds = {}\n",
    "for userID in adjusted_user_artists.userID.unique():\n",
    "    user_data = user_artists[user_artists['userID']==userID]\n",
    "    user_mean = user_data['weight'].mean()\n",
    "    user_std = np.std(user_data['weight'])\n",
    "    means[userID] = user_mean\n",
    "    stds[userID] = user_std"
   ]
  },
  {
   "cell_type": "code",
   "execution_count": 30,
   "id": "b61a1dae",
   "metadata": {},
   "outputs": [],
   "source": [
    "def find_mean(row, means):\n",
    "    return means[row['userID']]\n",
    "\n",
    "def find_std(row, stds):\n",
    "    return stds[row['userID']]\n",
    "\n",
    "def find_rating(row):\n",
    "    weight = row['weight']\n",
    "    user_mean = row['mean']\n",
    "    user_std = row['std']\n",
    "    if weight <= (user_mean - (1.5 * user_std)):\n",
    "        return 1\n",
    "    elif weight <= (user_mean - (0.5 * user_std)):\n",
    "        return 2\n",
    "    elif weight <= (user_mean + (0.5 * user_std)):\n",
    "        return 3\n",
    "    elif weight <= (user_mean + (1.5 * user_std)):\n",
    "        return 4\n",
    "    elif weight > (user_mean + (1.5 * user_std)):\n",
    "        return 5"
   ]
  },
  {
   "cell_type": "code",
   "execution_count": 31,
   "id": "2d824f40",
   "metadata": {},
   "outputs": [],
   "source": [
    "## Recalculate the means, standard deviations and ratings\n",
    "\n",
    "adjusted_user_artists['mean'] = adjusted_user_artists.apply(lambda row: find_mean(row, means), axis=1)\n",
    "adjusted_user_artists['std'] = adjusted_user_artists.apply(lambda row: find_std(row, stds), axis=1)\n",
    "adjusted_user_artists['rating'] = adjusted_user_artists.apply(lambda row: find_rating(row), axis=1)"
   ]
  },
  {
   "cell_type": "code",
   "execution_count": 32,
   "id": "eb60c874",
   "metadata": {},
   "outputs": [
    {
     "data": {
      "image/png": "[encoded data removed]",
      "text/plain": [
       "<Figure size 432x288 with 1 Axes>"
      ]
     },
     "metadata": {
      "filenames": {
       "image/png": "C:\\Users\\laram\\CA4015\\CA4015-Recommender-System\\jupyter-book\\_build\\jupyter_execute\\Adjusting User-Artist Weights_50_0.png"
      },
      "needs_background": "light"
     },
     "output_type": "display_data"
    }
   ],
   "source": [
    "plt.hist(adjusted_user_artists['rating'], bins=10);"
   ]
  },
  {
   "cell_type": "markdown",
   "id": "f4fd36b4",
   "metadata": {},
   "source": [
    "The adjustment didn't have a huge effect on the final allocation of ratings, there are still a large number of weights on the tail of the distribution that are skewing the ratings."
   ]
  },
  {
   "cell_type": "markdown",
   "id": "04b7d8fa",
   "metadata": {},
   "source": [
    "A next possible option would be to filter the data where weights are below 2328, as we found that this exludes the top 5% of values that could be skewing the data."
   ]
  },
  {
   "cell_type": "markdown",
   "id": "e3af8c7a",
   "metadata": {},
   "source": [
    "## Adding Star Ratings Excluding the Top 5% of Weights"
   ]
  },
  {
   "cell_type": "code",
   "execution_count": 33,
   "id": "93c341d0",
   "metadata": {},
   "outputs": [],
   "source": [
    "adjusted_user_artists = user_artists[user_artists['weight']<=2328]"
   ]
  },
  {
   "cell_type": "code",
   "execution_count": 34,
   "id": "665744b1",
   "metadata": {},
   "outputs": [],
   "source": [
    "## Dropping and recreating the mean, standard deviation and rating columns\n",
    "adjusted_user_artists = adjusted_user_artists.drop(['std', 'rating', 'mean'], axis=1)\n",
    "\n",
    "adjusted_user_artists['rating'] = 0\n",
    "adjusted_user_artists['mean'] = 0\n",
    "adjusted_user_artists['std'] = 0"
   ]
  },
  {
   "cell_type": "code",
   "execution_count": 35,
   "id": "004601ea",
   "metadata": {},
   "outputs": [],
   "source": [
    "## Finding the new means and standard deviations\n",
    "## Creating a dictionary to discover each users mean and standard deviation\n",
    "means = {}\n",
    "stds = {}\n",
    "for userID in adjusted_user_artists.userID.unique():\n",
    "    user_data = user_artists[user_artists['userID']==userID]\n",
    "    user_mean = user_data['weight'].mean()\n",
    "    user_std = np.std(user_data['weight'])\n",
    "    means[userID] = user_mean\n",
    "    stds[userID] = user_std"
   ]
  },
  {
   "cell_type": "code",
   "execution_count": 36,
   "id": "7eb2a28d",
   "metadata": {},
   "outputs": [],
   "source": [
    "## Recalculate the means, standard deviations and ratings\n",
    "adjusted_user_artists['mean'] = adjusted_user_artists.apply(lambda row: find_mean(row, means), axis=1)\n",
    "adjusted_user_artists['std'] = adjusted_user_artists.apply(lambda row: find_std(row, stds), axis=1)\n",
    "adjusted_user_artists['rating'] = adjusted_user_artists.apply(lambda row: find_rating(row), axis=1)"
   ]
  },
  {
   "cell_type": "code",
   "execution_count": 37,
   "id": "9d83ccd6",
   "metadata": {},
   "outputs": [
    {
     "data": {
      "image/png": "[encoded data removed]",
      "text/plain": [
       "<Figure size 432x288 with 1 Axes>"
      ]
     },
     "metadata": {
      "filenames": {
       "image/png": "C:\\Users\\laram\\CA4015\\CA4015-Recommender-System\\jupyter-book\\_build\\jupyter_execute\\Adjusting User-Artist Weights_58_0.png"
      },
      "needs_background": "light"
     },
     "output_type": "display_data"
    }
   ],
   "source": [
    "plt.hist(adjusted_user_artists['rating']);"
   ]
  },
  {
   "cell_type": "markdown",
   "id": "56c556c5",
   "metadata": {},
   "source": [
    "Still have the same issue, let's investigate what proportion of users' weights are less than their mean."
   ]
  },
  {
   "cell_type": "markdown",
   "id": "d946acb8",
   "metadata": {},
   "source": [
    "## Investigating Proportion of Weights below Mean"
   ]
  },
  {
   "cell_type": "code",
   "execution_count": 38,
   "id": "15a2ecca",
   "metadata": {},
   "outputs": [],
   "source": [
    "## Finding the new means and standard deviations\n",
    "## Creating a dictionary to discover each users mean and standard deviation\n",
    "means = {}\n",
    "stds = {}\n",
    "for userID in user_artists.userID.unique():\n",
    "    user_data = user_artists[user_artists['userID']==userID]\n",
    "    user_mean = user_data['weight'].mean()\n",
    "    user_std = np.std(user_data['weight'])\n",
    "    means[userID] = user_mean\n",
    "    stds[userID] = user_std"
   ]
  },
  {
   "cell_type": "code",
   "execution_count": 39,
   "id": "b7a61d5c",
   "metadata": {},
   "outputs": [],
   "source": [
    "below_mean = {}\n",
    "weights = []\n",
    "for userID in adjusted_user_artists.userID.unique():\n",
    "    total = 0\n",
    "    below_means_count = 0\n",
    "    user_data = user_artists[user_artists['userID']==userID]\n",
    "    for weight in user_data['weight']:\n",
    "        if weight <= means[userID]:\n",
    "            below_means_count += 1\n",
    "            weights.append(weight)\n",
    "        total += 1\n",
    "    below_mean[userID] = below_means_count/total"
   ]
  },
  {
   "cell_type": "code",
   "execution_count": 40,
   "id": "1981eac3",
   "metadata": {},
   "outputs": [
    {
     "data": {
      "image/png": "[encoded data removed]",
      "text/plain": [
       "<Figure size 432x288 with 1 Axes>"
      ]
     },
     "metadata": {
      "filenames": {
       "image/png": "C:\\Users\\laram\\CA4015\\CA4015-Recommender-System\\jupyter-book\\_build\\jupyter_execute\\Adjusting User-Artist Weights_63_0.png"
      },
      "needs_background": "light"
     },
     "output_type": "display_data"
    }
   ],
   "source": [
    "plt.hist(below_mean.values())\n",
    "plt.gca().set(title='Distribution of Weights below Mean');"
   ]
  },
  {
   "cell_type": "markdown",
   "id": "869674fc",
   "metadata": {},
   "source": [
    "Judging by this graph, almost all of the users have most of their weights lower than their mean, meaning that there are few very large weights that are causing this increase in the mean."
   ]
  },
  {
   "cell_type": "markdown",
   "id": "587c1410",
   "metadata": {},
   "source": [
    "## Final Decision"
   ]
  },
  {
   "cell_type": "markdown",
   "id": "68f74070",
   "metadata": {},
   "source": [
    "There is no one-size-fits-all for each user, as each user's listening habits are different.\n",
    "\n",
    "The standard deviation cannot be used as the values to the left of the mean are distributed differently to the values on the right side of the mean, so we should introduce a split at the mean.\n",
    "\n",
    "1. Find the mean\n",
    "2. Find the minimum, and find the range of weights between the minimum and the mean.\n",
    "3. Adjust the ratings so this range is divided into 25%, 50%, 25% for 1-star, 2-star and 3-star ratings respectively.\n",
    "4. Find the maximum (up to a limit), and find the range of weights between the mean and the maximum.\n",
    "5. Adjust the ratings so this range is divided into 25%, 50%, 25% for 3-star, 4-star and 5-star ratings respectively.\n",
    "\n",
    "The weights will not be distributed evenly, the percentages will be calculated as minimum + ((mean - min) * 0.25) for the 1-star ratings, for example."
   ]
  },
  {
   "cell_type": "code",
   "execution_count": 41,
   "id": "e485c808",
   "metadata": {},
   "outputs": [],
   "source": [
    "user_artists.drop('std', axis=1, inplace=True)\n",
    "user_artists['mean'] = 0\n",
    "user_artists['min'] = 0\n",
    "user_artists['max'] = 0\n",
    "user_artists['rating'] = 0"
   ]
  },
  {
   "cell_type": "code",
   "execution_count": 42,
   "id": "3dc61b53",
   "metadata": {},
   "outputs": [],
   "source": [
    "## Creating a dictionary to discover each users mean and standard deviation\n",
    "means = {}\n",
    "mins = {}\n",
    "maxs = {}\n",
    "for userID in user_artists.userID.unique():\n",
    "    user_data = user_artists[user_artists['userID']==userID]\n",
    "    user_mean = user_data['weight'].mean()\n",
    "    user_min = user_data['weight'].min()\n",
    "    user_max = user_data['weight'].max()\n",
    "    means[userID] = user_mean\n",
    "    mins[userID] = user_min\n",
    "    maxs[userID] = user_max    "
   ]
  },
  {
   "cell_type": "code",
   "execution_count": 43,
   "id": "0c23315e",
   "metadata": {},
   "outputs": [],
   "source": [
    "def find_mean(row, dict):\n",
    "    return dict[row['userID']]\n",
    "\n",
    "def find_min(row, dict):\n",
    "    return dict[row['userID']]\n",
    "\n",
    "def find_max(row, dict):\n",
    "    return dict[row['userID']]"
   ]
  },
  {
   "cell_type": "code",
   "execution_count": 44,
   "id": "49a41d2b",
   "metadata": {},
   "outputs": [],
   "source": [
    "user_artists['mean'] = user_artists.apply(lambda row: find_mean(row, means), axis=1)\n",
    "user_artists['min'] = user_artists.apply(lambda row: find_min(row, mins), axis=1)\n",
    "user_artists['max'] = user_artists.apply(lambda row: find_max(row, maxs), axis=1)"
   ]
  },
  {
   "cell_type": "code",
   "execution_count": 45,
   "id": "144ae24e",
   "metadata": {},
   "outputs": [],
   "source": [
    "def find_rating(row):\n",
    "    weight = row['weight']\n",
    "    user_mean = row['mean']\n",
    "    user_min = row['min']\n",
    "    user_max = row['max']\n",
    "    ## Adjusting the max to 3000 to preserve distribution\n",
    "    if user_max > 3000:\n",
    "        user_max = 3000\n",
    "    if weight <= (user_min + ((user_mean - user_min) * 0.25)):\n",
    "        return 1\n",
    "    elif weight <= (user_min + ((user_mean - user_min) * 0.75)):\n",
    "        return 2\n",
    "    elif weight <= user_max - ((user_max - user_mean) * 0.75):\n",
    "        return 3\n",
    "    elif weight <= user_max - ((user_max - user_mean) * 0.25):\n",
    "        return 4\n",
    "    else:\n",
    "        return 5"
   ]
  },
  {
   "cell_type": "code",
   "execution_count": 46,
   "id": "8dc3fe2d",
   "metadata": {},
   "outputs": [],
   "source": [
    "user_artists['rating'] = user_artists.apply(lambda row: find_rating(row), axis=1)"
   ]
  },
  {
   "cell_type": "code",
   "execution_count": 47,
   "id": "fdf5eb7e",
   "metadata": {},
   "outputs": [
    {
     "data": {
      "image/png": "[encoded data removed]",
      "text/plain": [
       "<Figure size 432x288 with 1 Axes>"
      ]
     },
     "metadata": {
      "filenames": {
       "image/png": "C:\\Users\\laram\\CA4015\\CA4015-Recommender-System\\jupyter-book\\_build\\jupyter_execute\\Adjusting User-Artist Weights_73_0.png"
      },
      "needs_background": "light"
     },
     "output_type": "display_data"
    }
   ],
   "source": [
    "plt.hist(user_artists['rating'])\n",
    "plt.gca().set(title='Distribution of Star Ratings');"
   ]
  },
  {
   "cell_type": "markdown",
   "id": "f66c81c2",
   "metadata": {},
   "source": [
    "This method seems to have an accurate representation of ratings, it is easier to listen to several artists just once and skip them than it is to listen to several artists thousands of times each. "
   ]
  },
  {
   "cell_type": "markdown",
   "id": "0bca9a34",
   "metadata": {},
   "source": [
    "We need to use these ratings for our recommender system, so we will remove unnecessary columns from the dataframe and export it as a CSV file into our data directory."
   ]
  },
  {
   "cell_type": "code",
   "execution_count": 48,
   "id": "7653df04",
   "metadata": {},
   "outputs": [],
   "source": [
    "user_artists.drop(['mean', 'min', 'max'], axis = 1, inplace = True)"
   ]
  },
  {
   "cell_type": "code",
   "execution_count": 49,
   "id": "6f51d84c",
   "metadata": {},
   "outputs": [],
   "source": [
    "user_artists.to_csv('../data/user_artists_ratings.csv')"
   ]
  }
 ],
 "metadata": {
  "kernelspec": {
   "display_name": "Python 3 (ipykernel)",
   "language": "python",
   "name": "python3"
  },
  "language_info": {
   "codemirror_mode": {
    "name": "ipython",
    "version": 3
   },
   "file_extension": ".py",
   "mimetype": "text/x-python",
   "name": "python",
   "nbconvert_exporter": "python",
   "pygments_lexer": "ipython3",
   "version": "3.9.7"
  }
 },
 "nbformat": 4,
 "nbformat_minor": 5
}