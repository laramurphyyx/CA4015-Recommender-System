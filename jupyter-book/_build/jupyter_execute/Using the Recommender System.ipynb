{
 "cells": [
  {
   "cell_type": "code",
   "execution_count": 1,
   "id": "f6650d9c",
   "metadata": {},
   "outputs": [],
   "source": [
    "import pandas as pd\n",
    "import numpy as np\n",
    "import matplotlib.pyplot as plt\n",
    "from basic_recommender_system import *"
   ]
  },
  {
   "cell_type": "markdown",
   "id": "7b13c773",
   "metadata": {},
   "source": [
    "# Guideline to use the Basic Recommender System"
   ]
  },
  {
   "cell_type": "markdown",
   "id": "29fc020b",
   "metadata": {},
   "source": [
    "The <b>basic recommender system</b> can be called using the function Find_The_Most_Popular_Music().\n",
    "The parameters are as follows:\n",
    "1. method : This is a string value, and can be either:\n",
    "    * most_users (default): Returns the two artists with the highest number of users\n",
    "    * most_listens : Takes the top 10% of artists with the highest user count and returns the two with the highest number of listens\n",
    "    * star_rating : Takes the top 10% of artists with the highest listens and removes artists with less than 5 users and returns the two artists with the highest average rating\n",
    "    * custom : This is a customised option for recommendations. You get to decide how to filter the artists (top 10% of artists with the highest user count, top 25% of users with the highest listen count, top 5% of users with the highest star-ratings, etc.). It also allows you to choose the final basis for the recommendation (user_count, listen_count or star_rating). It allows for the following optional arguments:\n",
    "\n",
    "\n",
    "2. (optional) percentage_of_artists : This defaults to 10%. It takes the top 10% of artists based on your choice of filtering.\n",
    "\n",
    "\n",
    "3. (optional) percentage_basis : This can be any of the following:\n",
    "    * user_count (default) : This takes the top percentage of artists based on the number of users listening to them\n",
    "    * listen_count : This takes the top percentage of artists based on the number of times they've been listened to\n",
    "    * star_rating : This takes the top percentage of artists based on their average star-rating\n",
    "\n",
    "\n",
    "4. (optional) recommendation_basis : This can be any of the following:\n",
    "    * user_count : This returns the top two artists based on the number of users listening to them\n",
    "    * listen_count : This takes the top two artists based on the number of times they've been listened to\n",
    "    * star_rating (default) : This takes the top two artists based on their average star-rating"
   ]
  },
  {
   "cell_type": "code",
   "execution_count": 2,
   "id": "797ec79b",
   "metadata": {
    "scrolled": true
   },
   "outputs": [
    {
     "name": "stdout",
     "output_type": "stream",
     "text": [
      "We think you might like Britney Spears, and you can view their profile through this link: http://www.last.fm/music/Britney+Spears\n",
      "You might also like Depeche Mode, and you can view their profile through this link: http://www.last.fm/music/Depeche+Mode\n"
     ]
    }
   ],
   "source": [
    "Find_The_Most_Popular_Music(\"most_listens\")"
   ]
  },
  {
   "cell_type": "code",
   "execution_count": 3,
   "id": "664f83b8",
   "metadata": {},
   "outputs": [
    {
     "name": "stdout",
     "output_type": "stream",
     "text": [
      "We think you might like Lady Gaga, and you can view their profile through this link: http://www.last.fm/music/Lady+Gaga\n",
      "You might also like Britney Spears, and you can view their profile through this link: http://www.last.fm/music/Britney+Spears\n"
     ]
    }
   ],
   "source": [
    "Find_The_Most_Popular_Music(\"most_users\")"
   ]
  },
  {
   "cell_type": "code",
   "execution_count": 4,
   "id": "4e7a2027",
   "metadata": {},
   "outputs": [
    {
     "name": "stdout",
     "output_type": "stream",
     "text": [
      "We think you might like Duran Duran, and you can view their profile through this link: http://www.last.fm/music/Duran+Duran\n",
      "You might also like The Smashing Pumpkins, and you can view their profile through this link: http://www.last.fm/music/The+Smashing+Pumpkins\n"
     ]
    }
   ],
   "source": [
    "Find_The_Most_Popular_Music(\"star_rating\")"
   ]
  },
  {
   "cell_type": "code",
   "execution_count": 5,
   "id": "5734367d",
   "metadata": {},
   "outputs": [
    {
     "name": "stdout",
     "output_type": "stream",
     "text": [
      "We think you might like Britney Spears, and you can view their profile through this link: http://www.last.fm/music/Britney+Spears\n",
      "You might also like Depeche Mode, and you can view their profile through this link: http://www.last.fm/music/Depeche+Mode\n"
     ]
    }
   ],
   "source": [
    "Find_The_Most_Popular_Music(\n",
    "    method=\"custom\", \n",
    "    percentage_of_artists=10, \n",
    "    percentage_basis=\"star_rating\",\n",
    "    recommendation_basis=\"most_users\")"
   ]
  },
  {
   "cell_type": "markdown",
   "id": "570f8462",
   "metadata": {},
   "source": [
    "This custom recommendation query retrieved the top 10% of artists that received the highest average user rating, and returned Britney Spears and Depeche Mode as the artists who have the most users listening."
   ]
  },
  {
   "cell_type": "code",
   "execution_count": null,
   "id": "ce0d200a",
   "metadata": {},
   "outputs": [],
   "source": []
  }
 ],
 "metadata": {
  "kernelspec": {
   "display_name": "Python 3 (ipykernel)",
   "language": "python",
   "name": "python3"
  },
  "language_info": {
   "codemirror_mode": {
    "name": "ipython",
    "version": 3
   },
   "file_extension": ".py",
   "mimetype": "text/x-python",
   "name": "python",
   "nbconvert_exporter": "python",
   "pygments_lexer": "ipython3",
   "version": "3.9.7"
  }
 },
 "nbformat": 4,
 "nbformat_minor": 5
}