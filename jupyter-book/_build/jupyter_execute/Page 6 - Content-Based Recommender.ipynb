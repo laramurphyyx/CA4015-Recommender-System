{
 "cells": [
  {
   "cell_type": "markdown",
   "id": "c27cb651",
   "metadata": {},
   "source": [
    "# Content-Based Recommender System"
   ]
  },
  {
   "cell_type": "markdown",
   "id": "67d4fb95",
   "metadata": {},
   "source": [
    "## Importing Relevant Packages and Datasets"
   ]
  },
  {
   "cell_type": "code",
   "execution_count": 1,
   "id": "cf685d40",
   "metadata": {},
   "outputs": [],
   "source": [
    "import pandas as pd\n",
    "import numpy as np\n",
    "import matplotlib.pyplot as plt\n",
    "from sklearn.feature_extraction.text import TfidfVectorizer\n",
    "from sklearn.metrics.pairwise import linear_kernel\n",
    "from sklearn.feature_extraction.text import CountVectorizer\n",
    "from sklearn.metrics.pairwise import cosine_similarity"
   ]
  },
  {
   "cell_type": "code",
   "execution_count": 2,
   "id": "8f96d1a8",
   "metadata": {},
   "outputs": [],
   "source": [
    "dataframe_names = [\n",
    "    'user_friends',\n",
    "    'user_taggedartists',\n",
    "    'artists',\n",
    "    'tags',\n",
    "    'user_artists',\n",
    "    'user_artists_ratings',\n",
    "    'artists_tags']\n",
    "\n",
    "file_names = [\n",
    "    '../data/user_friends.csv',\n",
    "    '../data/user_taggedartists.csv',\n",
    "    '../data/artists.csv',\n",
    "    '../data/tags.csv',\n",
    "    '../data/user_artists.csv',\n",
    "    '../data/user_artists_ratings.csv',\n",
    "    '../data/artists_tags.csv']"
   ]
  },
  {
   "cell_type": "code",
   "execution_count": 3,
   "id": "14e0ef77",
   "metadata": {},
   "outputs": [],
   "source": [
    "for (dataframe, file) in zip(dataframe_names, file_names):\n",
    "    vars()[dataframe] = pd.read_csv(file)"
   ]
  },
  {
   "cell_type": "markdown",
   "id": "369f76a5",
   "metadata": {},
   "source": [
    "## Adjusting Existing Columns"
   ]
  },
  {
   "cell_type": "markdown",
   "id": "9bb65e27",
   "metadata": {},
   "source": [
    "Importing artists that have their top two tags and converting them to their string equivalents"
   ]
  },
  {
   "cell_type": "code",
   "execution_count": 4,
   "id": "e325f3cb",
   "metadata": {},
   "outputs": [],
   "source": [
    "tag_dict = {}\n",
    "tag_dict[0] = \"\"\n",
    "for row in tags.itertuples():\n",
    "    tagID = row[1]\n",
    "    tag = row[2]\n",
    "    tag_dict[tagID] = tag"
   ]
  },
  {
   "cell_type": "code",
   "execution_count": 5,
   "id": "321ec3ec",
   "metadata": {},
   "outputs": [],
   "source": [
    "artists_tags['first_tag'] = artists_tags.apply(lambda row: tag_dict[row['first_tag']], axis=1)\n",
    "artists_tags['second_tag'] = artists_tags.apply(lambda row: tag_dict[row['second_tag']], axis=1)"
   ]
  },
  {
   "cell_type": "markdown",
   "id": "f419f193",
   "metadata": {},
   "source": [
    "## Recommender Based on Top Tag"
   ]
  },
  {
   "cell_type": "markdown",
   "id": "35ebc200",
   "metadata": {},
   "source": [
    "We aim to calculate the Term Frequency-Inverse Document Frequency (TF-IDF) for each artist. The terms will be taken from the assigned tags for each artist."
   ]
  },
  {
   "cell_type": "code",
   "execution_count": 6,
   "id": "31bb01f5",
   "metadata": {},
   "outputs": [
    {
     "data": {
      "text/plain": [
       "(17632, 1246)"
      ]
     },
     "execution_count": 6,
     "metadata": {},
     "output_type": "execute_result"
    }
   ],
   "source": [
    "tfidf = TfidfVectorizer(stop_words='english')\n",
    "tfidf_matrix = tfidf.fit_transform(artists_tags['first_tag'])\n",
    "tfidf_matrix.shape"
   ]
  },
  {
   "cell_type": "markdown",
   "id": "1d5422aa",
   "metadata": {},
   "source": [
    "This 'tfidf' object was created to remove any stop words that may appear in the user-assigned tags for each artist.\n",
    "\n",
    "This was then fitted as a matrix with the dimensions (N x M) where N is the number of artists and M is the number of tokens/words (excluding stop words) that appear in their top tag. In this case, there are 17,632 artists and 1,246 words."
   ]
  },
  {
   "cell_type": "code",
   "execution_count": 7,
   "id": "d6ca29f3",
   "metadata": {},
   "outputs": [
    {
     "data": {
      "text/plain": [
       "['play',\n",
       " 'pleasure',\n",
       " 'pleasuredome',\n",
       " 'pleasures',\n",
       " 'podcast',\n",
       " 'poetry',\n",
       " 'polecane',\n",
       " 'polish',\n",
       " 'political',\n",
       " 'pop']"
      ]
     },
     "execution_count": 7,
     "metadata": {},
     "output_type": "execute_result"
    }
   ],
   "source": [
    "tfidf.get_feature_names()[900:910]"
   ]
  },
  {
   "cell_type": "markdown",
   "id": "37b3781f",
   "metadata": {},
   "source": [
    "This is an example of some of the tokens that appear in the top five tags of each artist. \n",
    "\n",
    "There are some tags that wouldn't be classified as genres, such as 'pleasures' or 'play', although these are unlikely to affect the performance of the recommender system."
   ]
  },
  {
   "cell_type": "code",
   "execution_count": 8,
   "id": "42dd7c34",
   "metadata": {},
   "outputs": [
    {
     "ename": "MemoryError",
     "evalue": "Unable to allocate 2.32 GiB for an array with shape (17632, 17632) and data type float64",
     "output_type": "error",
     "traceback": [
      "\u001b[1;31m---------------------------------------------------------------------------\u001b[0m",
      "\u001b[1;31mMemoryError\u001b[0m                               Traceback (most recent call last)",
      "\u001b[1;32m~\\AppData\\Local\\Temp/ipykernel_30472/2808778117.py\u001b[0m in \u001b[0;36m<module>\u001b[1;34m\u001b[0m\n\u001b[1;32m----> 1\u001b[1;33m \u001b[0mcosine_sim\u001b[0m \u001b[1;33m=\u001b[0m \u001b[0mlinear_kernel\u001b[0m\u001b[1;33m(\u001b[0m\u001b[0mtfidf_matrix\u001b[0m\u001b[1;33m,\u001b[0m \u001b[0mtfidf_matrix\u001b[0m\u001b[1;33m)\u001b[0m\u001b[1;33m\u001b[0m\u001b[1;33m\u001b[0m\u001b[0m\n\u001b[0m",
      "\u001b[1;32m~\\AppData\\Local\\Continuum\\anaconda3\\envs\\ca4015\\lib\\site-packages\\sklearn\\metrics\\pairwise.py\u001b[0m in \u001b[0;36mlinear_kernel\u001b[1;34m(X, Y, dense_output)\u001b[0m\n\u001b[0;32m   1003\u001b[0m     \"\"\"\n\u001b[0;32m   1004\u001b[0m     \u001b[0mX\u001b[0m\u001b[1;33m,\u001b[0m \u001b[0mY\u001b[0m \u001b[1;33m=\u001b[0m \u001b[0mcheck_pairwise_arrays\u001b[0m\u001b[1;33m(\u001b[0m\u001b[0mX\u001b[0m\u001b[1;33m,\u001b[0m \u001b[0mY\u001b[0m\u001b[1;33m)\u001b[0m\u001b[1;33m\u001b[0m\u001b[1;33m\u001b[0m\u001b[0m\n\u001b[1;32m-> 1005\u001b[1;33m     \u001b[1;32mreturn\u001b[0m \u001b[0msafe_sparse_dot\u001b[0m\u001b[1;33m(\u001b[0m\u001b[0mX\u001b[0m\u001b[1;33m,\u001b[0m \u001b[0mY\u001b[0m\u001b[1;33m.\u001b[0m\u001b[0mT\u001b[0m\u001b[1;33m,\u001b[0m \u001b[0mdense_output\u001b[0m\u001b[1;33m=\u001b[0m\u001b[0mdense_output\u001b[0m\u001b[1;33m)\u001b[0m\u001b[1;33m\u001b[0m\u001b[1;33m\u001b[0m\u001b[0m\n\u001b[0m\u001b[0;32m   1006\u001b[0m \u001b[1;33m\u001b[0m\u001b[0m\n\u001b[0;32m   1007\u001b[0m \u001b[1;33m\u001b[0m\u001b[0m\n",
      "\u001b[1;32m~\\AppData\\Local\\Continuum\\anaconda3\\envs\\ca4015\\lib\\site-packages\\sklearn\\utils\\validation.py\u001b[0m in \u001b[0;36minner_f\u001b[1;34m(*args, **kwargs)\u001b[0m\n\u001b[0;32m     61\u001b[0m             \u001b[0mextra_args\u001b[0m \u001b[1;33m=\u001b[0m \u001b[0mlen\u001b[0m\u001b[1;33m(\u001b[0m\u001b[0margs\u001b[0m\u001b[1;33m)\u001b[0m \u001b[1;33m-\u001b[0m \u001b[0mlen\u001b[0m\u001b[1;33m(\u001b[0m\u001b[0mall_args\u001b[0m\u001b[1;33m)\u001b[0m\u001b[1;33m\u001b[0m\u001b[1;33m\u001b[0m\u001b[0m\n\u001b[0;32m     62\u001b[0m             \u001b[1;32mif\u001b[0m \u001b[0mextra_args\u001b[0m \u001b[1;33m<=\u001b[0m \u001b[1;36m0\u001b[0m\u001b[1;33m:\u001b[0m\u001b[1;33m\u001b[0m\u001b[1;33m\u001b[0m\u001b[0m\n\u001b[1;32m---> 63\u001b[1;33m                 \u001b[1;32mreturn\u001b[0m \u001b[0mf\u001b[0m\u001b[1;33m(\u001b[0m\u001b[1;33m*\u001b[0m\u001b[0margs\u001b[0m\u001b[1;33m,\u001b[0m \u001b[1;33m**\u001b[0m\u001b[0mkwargs\u001b[0m\u001b[1;33m)\u001b[0m\u001b[1;33m\u001b[0m\u001b[1;33m\u001b[0m\u001b[0m\n\u001b[0m\u001b[0;32m     64\u001b[0m \u001b[1;33m\u001b[0m\u001b[0m\n\u001b[0;32m     65\u001b[0m             \u001b[1;31m# extra_args > 0\u001b[0m\u001b[1;33m\u001b[0m\u001b[1;33m\u001b[0m\u001b[0m\n",
      "\u001b[1;32m~\\AppData\\Local\\Continuum\\anaconda3\\envs\\ca4015\\lib\\site-packages\\sklearn\\utils\\extmath.py\u001b[0m in \u001b[0;36msafe_sparse_dot\u001b[1;34m(a, b, dense_output)\u001b[0m\n\u001b[0;32m    154\u001b[0m     if (sparse.issparse(a) and sparse.issparse(b)\n\u001b[0;32m    155\u001b[0m             and dense_output and hasattr(ret, \"toarray\")):\n\u001b[1;32m--> 156\u001b[1;33m         \u001b[1;32mreturn\u001b[0m \u001b[0mret\u001b[0m\u001b[1;33m.\u001b[0m\u001b[0mtoarray\u001b[0m\u001b[1;33m(\u001b[0m\u001b[1;33m)\u001b[0m\u001b[1;33m\u001b[0m\u001b[1;33m\u001b[0m\u001b[0m\n\u001b[0m\u001b[0;32m    157\u001b[0m     \u001b[1;32mreturn\u001b[0m \u001b[0mret\u001b[0m\u001b[1;33m\u001b[0m\u001b[1;33m\u001b[0m\u001b[0m\n\u001b[0;32m    158\u001b[0m \u001b[1;33m\u001b[0m\u001b[0m\n",
      "\u001b[1;32m~\\AppData\\Local\\Continuum\\anaconda3\\envs\\ca4015\\lib\\site-packages\\scipy\\sparse\\compressed.py\u001b[0m in \u001b[0;36mtoarray\u001b[1;34m(self, order, out)\u001b[0m\n\u001b[0;32m   1029\u001b[0m         \u001b[1;32mif\u001b[0m \u001b[0mout\u001b[0m \u001b[1;32mis\u001b[0m \u001b[1;32mNone\u001b[0m \u001b[1;32mand\u001b[0m \u001b[0morder\u001b[0m \u001b[1;32mis\u001b[0m \u001b[1;32mNone\u001b[0m\u001b[1;33m:\u001b[0m\u001b[1;33m\u001b[0m\u001b[1;33m\u001b[0m\u001b[0m\n\u001b[0;32m   1030\u001b[0m             \u001b[0morder\u001b[0m \u001b[1;33m=\u001b[0m \u001b[0mself\u001b[0m\u001b[1;33m.\u001b[0m\u001b[0m_swap\u001b[0m\u001b[1;33m(\u001b[0m\u001b[1;34m'cf'\u001b[0m\u001b[1;33m)\u001b[0m\u001b[1;33m[\u001b[0m\u001b[1;36m0\u001b[0m\u001b[1;33m]\u001b[0m\u001b[1;33m\u001b[0m\u001b[1;33m\u001b[0m\u001b[0m\n\u001b[1;32m-> 1031\u001b[1;33m         \u001b[0mout\u001b[0m \u001b[1;33m=\u001b[0m \u001b[0mself\u001b[0m\u001b[1;33m.\u001b[0m\u001b[0m_process_toarray_args\u001b[0m\u001b[1;33m(\u001b[0m\u001b[0morder\u001b[0m\u001b[1;33m,\u001b[0m \u001b[0mout\u001b[0m\u001b[1;33m)\u001b[0m\u001b[1;33m\u001b[0m\u001b[1;33m\u001b[0m\u001b[0m\n\u001b[0m\u001b[0;32m   1032\u001b[0m         \u001b[1;32mif\u001b[0m \u001b[1;32mnot\u001b[0m \u001b[1;33m(\u001b[0m\u001b[0mout\u001b[0m\u001b[1;33m.\u001b[0m\u001b[0mflags\u001b[0m\u001b[1;33m.\u001b[0m\u001b[0mc_contiguous\u001b[0m \u001b[1;32mor\u001b[0m \u001b[0mout\u001b[0m\u001b[1;33m.\u001b[0m\u001b[0mflags\u001b[0m\u001b[1;33m.\u001b[0m\u001b[0mf_contiguous\u001b[0m\u001b[1;33m)\u001b[0m\u001b[1;33m:\u001b[0m\u001b[1;33m\u001b[0m\u001b[1;33m\u001b[0m\u001b[0m\n\u001b[0;32m   1033\u001b[0m             \u001b[1;32mraise\u001b[0m \u001b[0mValueError\u001b[0m\u001b[1;33m(\u001b[0m\u001b[1;34m'Output array must be C or F contiguous'\u001b[0m\u001b[1;33m)\u001b[0m\u001b[1;33m\u001b[0m\u001b[1;33m\u001b[0m\u001b[0m\n",
      "\u001b[1;32m~\\AppData\\Local\\Continuum\\anaconda3\\envs\\ca4015\\lib\\site-packages\\scipy\\sparse\\base.py\u001b[0m in \u001b[0;36m_process_toarray_args\u001b[1;34m(self, order, out)\u001b[0m\n\u001b[0;32m   1200\u001b[0m             \u001b[1;32mreturn\u001b[0m \u001b[0mout\u001b[0m\u001b[1;33m\u001b[0m\u001b[1;33m\u001b[0m\u001b[0m\n\u001b[0;32m   1201\u001b[0m         \u001b[1;32melse\u001b[0m\u001b[1;33m:\u001b[0m\u001b[1;33m\u001b[0m\u001b[1;33m\u001b[0m\u001b[0m\n\u001b[1;32m-> 1202\u001b[1;33m             \u001b[1;32mreturn\u001b[0m \u001b[0mnp\u001b[0m\u001b[1;33m.\u001b[0m\u001b[0mzeros\u001b[0m\u001b[1;33m(\u001b[0m\u001b[0mself\u001b[0m\u001b[1;33m.\u001b[0m\u001b[0mshape\u001b[0m\u001b[1;33m,\u001b[0m \u001b[0mdtype\u001b[0m\u001b[1;33m=\u001b[0m\u001b[0mself\u001b[0m\u001b[1;33m.\u001b[0m\u001b[0mdtype\u001b[0m\u001b[1;33m,\u001b[0m \u001b[0morder\u001b[0m\u001b[1;33m=\u001b[0m\u001b[0morder\u001b[0m\u001b[1;33m)\u001b[0m\u001b[1;33m\u001b[0m\u001b[1;33m\u001b[0m\u001b[0m\n\u001b[0m\u001b[0;32m   1203\u001b[0m \u001b[1;33m\u001b[0m\u001b[0m\n\u001b[0;32m   1204\u001b[0m \u001b[1;33m\u001b[0m\u001b[0m\n",
      "\u001b[1;31mMemoryError\u001b[0m: Unable to allocate 2.32 GiB for an array with shape (17632, 17632) and data type float64"
     ]
    }
   ],
   "source": [
    "cosine_sim = linear_kernel(tfidf_matrix, tfidf_matrix)"
   ]
  },
  {
   "cell_type": "markdown",
   "id": "4052e002",
   "metadata": {},
   "source": [
    "As we are using the TF-IDF Vectoriser, we can calculate the dot product between each vector to give us the cosine similarity score. This is more efficient than to use cosine_similarities()."
   ]
  },
  {
   "cell_type": "code",
   "execution_count": 84,
   "id": "de031725",
   "metadata": {},
   "outputs": [
    {
     "data": {
      "text/plain": [
       "(17632, 17632)"
      ]
     },
     "execution_count": 84,
     "metadata": {},
     "output_type": "execute_result"
    }
   ],
   "source": [
    "cosine_sim.shape"
   ]
  },
  {
   "cell_type": "markdown",
   "id": "915e1bc1",
   "metadata": {},
   "source": [
    "This makes sense as this similarity is comparing each artist to each other, so each artist has it's own column and it's own row."
   ]
  },
  {
   "cell_type": "code",
   "execution_count": 132,
   "id": "600c748b",
   "metadata": {},
   "outputs": [
    {
     "data": {
      "text/plain": [
       "array([0., 0., 1., ..., 0., 0., 0.])"
      ]
     },
     "execution_count": 132,
     "metadata": {},
     "output_type": "execute_result"
    }
   ],
   "source": [
    "cosine_sim[2]"
   ]
  },
  {
   "cell_type": "markdown",
   "id": "6c9562a1",
   "metadata": {},
   "source": [
    "This is an example of the cosine similarities for the artist with the ID 2.\n",
    "\n",
    "The artist will have 100% similarity with itself, hence there is 1.0 in the 2nd column."
   ]
  },
  {
   "cell_type": "code",
   "execution_count": null,
   "id": "a7a59b31",
   "metadata": {},
   "outputs": [],
   "source": [
    "indices = pd.Series(artists_tags.index, index=artists_tags['name']).drop_duplicates()"
   ]
  },
  {
   "cell_type": "markdown",
   "id": "3ef11f9b",
   "metadata": {},
   "source": [
    "The above 'indices' series is created to reverse the mapping of artist names and IDs, this allows for easier searching in the recommender system."
   ]
  },
  {
   "cell_type": "code",
   "execution_count": 141,
   "id": "0b85b422",
   "metadata": {},
   "outputs": [],
   "source": [
    "def get_recommendations(name, cosine_sim=cosine_sim):\n",
    "    # Get the index of the artist that matches the name\n",
    "    index = indices[name]\n",
    "\n",
    "    # Get the pairwsie similarity scores of all artists with that artist\n",
    "    sim_scores = list(enumerate(cosine_sim[index]))\n",
    "\n",
    "    # Sort the artists based on the similarity scores\n",
    "    sim_scores = sorted(sim_scores, key=lambda x: x[1], reverse=True)\n",
    "\n",
    "    # Get the scores of the 10 most similar artists\n",
    "    sim_scores = sim_scores[1:11]\n",
    "\n",
    "    # Get the artist indices\n",
    "    artist_indices = [i[0] for i in sim_scores]\n",
    "\n",
    "    # Return the top 10 most similar movies\n",
    "    return artists_tags['name'].iloc[artist_indices]"
   ]
  },
  {
   "cell_type": "markdown",
   "id": "1e75807d",
   "metadata": {},
   "source": [
    "The above function retrieves the top 10 recommendations based on the most common tag that each artist received.\n",
    "\n",
    "This will work quite well for artists that have received lots of the same tag, making it more accurate, and may not perform as well on artists with few/no tags."
   ]
  },
  {
   "cell_type": "code",
   "execution_count": 150,
   "id": "04ccae79",
   "metadata": {},
   "outputs": [
    {
     "data": {
      "text/plain": [
       "238     Flagelo Urbano\n",
       "243             Common\n",
       "249               Nach\n",
       "253         9th Wonder\n",
       "261                Nas\n",
       "265            Mos Def\n",
       "272               2Pac\n",
       "300    Black Eyed Peas\n",
       "325         Kanye West\n",
       "454           Noize MC\n",
       "Name: name, dtype: object"
      ]
     },
     "execution_count": 150,
     "metadata": {},
     "output_type": "execute_result"
    }
   ],
   "source": [
    "get_recommendations('Kanye West')"
   ]
  },
  {
   "cell_type": "code",
   "execution_count": 153,
   "id": "2d5b781f",
   "metadata": {},
   "outputs": [
    {
     "data": {
      "text/html": [
       "<div>\n",
       "<style scoped>\n",
       "    .dataframe tbody tr th:only-of-type {\n",
       "        vertical-align: middle;\n",
       "    }\n",
       "\n",
       "    .dataframe tbody tr th {\n",
       "        vertical-align: top;\n",
       "    }\n",
       "\n",
       "    .dataframe thead th {\n",
       "        text-align: right;\n",
       "    }\n",
       "</style>\n",
       "<table border=\"1\" class=\"dataframe\">\n",
       "  <thead>\n",
       "    <tr style=\"text-align: right;\">\n",
       "      <th></th>\n",
       "      <th>id</th>\n",
       "      <th>name</th>\n",
       "      <th>url</th>\n",
       "      <th>pictureURL</th>\n",
       "      <th>first_tag</th>\n",
       "      <th>second_tag</th>\n",
       "      <th>top_five_tags</th>\n",
       "    </tr>\n",
       "  </thead>\n",
       "  <tbody>\n",
       "    <tr>\n",
       "      <th>249</th>\n",
       "      <td>249</td>\n",
       "      <td>Nach</td>\n",
       "      <td>http://www.last.fm/music/Nach</td>\n",
       "      <td>http://userserve-ak.last.fm/serve/252/2510461.jpg</td>\n",
       "      <td>hip-hop</td>\n",
       "      <td></td>\n",
       "      <td>hip-hop</td>\n",
       "    </tr>\n",
       "  </tbody>\n",
       "</table>\n",
       "</div>"
      ],
      "text/plain": [
       "      id  name                            url  \\\n",
       "249  249  Nach  http://www.last.fm/music/Nach   \n",
       "\n",
       "                                            pictureURL first_tag second_tag  \\\n",
       "249  http://userserve-ak.last.fm/serve/252/2510461.jpg   hip-hop              \n",
       "\n",
       "    top_five_tags  \n",
       "249       hip-hop  "
      ]
     },
     "execution_count": 153,
     "metadata": {},
     "output_type": "execute_result"
    }
   ],
   "source": [
    "artists_tags[artists_tags['name']=='Flagelo Urbano'] ## hip hop under, raptuga, underground hip hp, hip hop\n",
    "artists_tags[artists_tags['name']=='Common'] ## hip-hop, hip hop, rap, mean, 90s\n",
    "artists_tags[artists_tags['name']=='Nach'] ## hip-hop"
   ]
  },
  {
   "cell_type": "code",
   "execution_count": 144,
   "id": "bd5aa969",
   "metadata": {},
   "outputs": [
    {
     "data": {
      "text/plain": [
       "1       Diary of Dreams\n",
       "2     Carpathian Forest\n",
       "3          Moi dix Mois\n",
       "4           Bella Morte\n",
       "5             Moonspell\n",
       "6        Marilyn Manson\n",
       "7           DIR EN GREY\n",
       "8           Combichrist\n",
       "9               Grendel\n",
       "10             Agonoize\n",
       "Name: name, dtype: object"
      ]
     },
     "execution_count": 144,
     "metadata": {},
     "output_type": "execute_result"
    }
   ],
   "source": [
    "get_recommendations('Coptic Rain')"
   ]
  },
  {
   "cell_type": "code",
   "execution_count": 149,
   "id": "cde04920",
   "metadata": {},
   "outputs": [
    {
     "data": {
      "text/html": [
       "<div>\n",
       "<style scoped>\n",
       "    .dataframe tbody tr th:only-of-type {\n",
       "        vertical-align: middle;\n",
       "    }\n",
       "\n",
       "    .dataframe tbody tr th {\n",
       "        vertical-align: top;\n",
       "    }\n",
       "\n",
       "    .dataframe thead th {\n",
       "        text-align: right;\n",
       "    }\n",
       "</style>\n",
       "<table border=\"1\" class=\"dataframe\">\n",
       "  <thead>\n",
       "    <tr style=\"text-align: right;\">\n",
       "      <th></th>\n",
       "      <th>id</th>\n",
       "      <th>name</th>\n",
       "      <th>url</th>\n",
       "      <th>pictureURL</th>\n",
       "      <th>first_tag</th>\n",
       "      <th>second_tag</th>\n",
       "      <th>top_five_tags</th>\n",
       "    </tr>\n",
       "  </thead>\n",
       "  <tbody>\n",
       "    <tr>\n",
       "      <th>4</th>\n",
       "      <td>4</td>\n",
       "      <td>Bella Morte</td>\n",
       "      <td>http://www.last.fm/music/Bella+Morte</td>\n",
       "      <td>http://userserve-ak.last.fm/serve/252/14789013...</td>\n",
       "      <td>darkwave</td>\n",
       "      <td>gothic</td>\n",
       "      <td>darkwave gothic gothic rock deathrock covers</td>\n",
       "    </tr>\n",
       "  </tbody>\n",
       "</table>\n",
       "</div>"
      ],
      "text/plain": [
       "   id         name                                   url  \\\n",
       "4   4  Bella Morte  http://www.last.fm/music/Bella+Morte   \n",
       "\n",
       "                                          pictureURL first_tag second_tag  \\\n",
       "4  http://userserve-ak.last.fm/serve/252/14789013...  darkwave     gothic   \n",
       "\n",
       "                                  top_five_tags  \n",
       "4  darkwave gothic gothic rock deathrock covers  "
      ]
     },
     "execution_count": 149,
     "metadata": {},
     "output_type": "execute_result"
    }
   ],
   "source": [
    "artists_tags[artists_tags['name']=='Diary of Dreams'] ## darkwave, german, gothic, seen live, industrial\n",
    "artists_tags[artists_tags['name']=='Carpathian Forest'] ## black metal, true norwegian black metal, norwegian\n",
    "artists_tags[artists_tags['name']=='Moi dix Mois'] ## j-rock, japanese, visual kei, gothic metal"
   ]
  },
  {
   "cell_type": "markdown",
   "id": "e0e9760d",
   "metadata": {},
   "source": [
    "As you can see when we run 'Kanye West' into the recommender system, we are given lots of artist that are related to hip-hop or rap. Although, the third recommendation, Nach, only has one tag assigned to it, which suggests that Nach received very few tags, and may not be similar to Kanye West.\n",
    "\n",
    "With our second example, we ran 'Coptic Rain' into the recommender system, to see how it would perform on an artist that had no tags. The tags of the top three recommended artists seem to be quite random (darkwave, german, norwegian, japanese). The system performed quite poorly for this artist."
   ]
  },
  {
   "cell_type": "markdown",
   "id": "6b4fb53f",
   "metadata": {},
   "source": [
    "# Using the Top-5 Instead of Top-1 Tags"
   ]
  },
  {
   "cell_type": "code",
   "execution_count": null,
   "id": "5ad34103",
   "metadata": {},
   "outputs": [],
   "source": [
    "artists_tags['top_five_tags'] = artists_tags['top_five_tags'].fillna('')"
   ]
  },
  {
   "cell_type": "code",
   "execution_count": 110,
   "id": "12d67d69",
   "metadata": {},
   "outputs": [],
   "source": [
    "def find_name_and_tags(dataframe):\n",
    "    return \"\".join(dataframe['name'].split()) + ' ' + dataframe['top_five_tags']\n",
    "\n",
    "artists_tags['name_and_tags'] = artists_tags.apply(find_name_and_tags, axis=1)"
   ]
  },
  {
   "cell_type": "markdown",
   "id": "d75a6ebc",
   "metadata": {},
   "source": [
    "The name of the artist may be important to use in the recommender system as it may be referenced within some of the tags.\n",
    "\n",
    "Some of the tags produced by the users may contain comments such as \"sounds like michael jackson\", and in this case it can create relations between Michael Jackson and these comments. It can also build relationships where the artist name may appear as \"Jay-Z ft. Kanye West\", so that Jay-Z and Kanye West could achieve a larger cosine similarity.\n",
    "\n",
    "We are merging the name and the tags into one column to simplify things."
   ]
  },
  {
   "cell_type": "code",
   "execution_count": 107,
   "id": "187805eb",
   "metadata": {},
   "outputs": [],
   "source": [
    "count = CountVectorizer(stop_words='english')\n",
    "count_matrix = count.fit_transform(artists_tags['name_and_tags'])"
   ]
  },
  {
   "cell_type": "markdown",
   "id": "45e0328d",
   "metadata": {},
   "source": [
    "In this case, we use CountVectorizer() instead of TF-IDF, as previously done. This is just to avoid down-weighting important tags that may appear more often than others."
   ]
  },
  {
   "cell_type": "code",
   "execution_count": 113,
   "id": "9164f5d3",
   "metadata": {},
   "outputs": [
    {
     "data": {
      "text/plain": [
       "(17632, 20107)"
      ]
     },
     "execution_count": 113,
     "metadata": {},
     "output_type": "execute_result"
    }
   ],
   "source": [
    "count_matrix.shape"
   ]
  },
  {
   "cell_type": "markdown",
   "id": "dab9c782",
   "metadata": {},
   "source": [
    "There are much more words being produced when we accept the top 5 tags and the name of the artists. "
   ]
  },
  {
   "cell_type": "code",
   "execution_count": null,
   "id": "4d3d3779",
   "metadata": {},
   "outputs": [],
   "source": [
    "cosine_sim2 = cosine_similarity(count_matrix, count_matrix)"
   ]
  },
  {
   "cell_type": "code",
   "execution_count": 117,
   "id": "0e29a114",
   "metadata": {},
   "outputs": [],
   "source": [
    "indices = pd.Series(artists_tags.index, index=artists_tags['name'])"
   ]
  },
  {
   "cell_type": "markdown",
   "id": "4b18d048",
   "metadata": {},
   "source": [
    "Here, we are creating the new cosine similarity matrix and the new indices object that can be passed into our original get_recommendations() function."
   ]
  },
  {
   "cell_type": "code",
   "execution_count": 118,
   "id": "97538a62",
   "metadata": {},
   "outputs": [
    {
     "data": {
      "text/plain": [
       "2578     will.i.am\n",
       "16355        Trina\n",
       "898      Timbaland\n",
       "1435          Akon\n",
       "3280         Drake\n",
       "6425         Diddy\n",
       "7596        Chingy\n",
       "7968        T-Pain\n",
       "7991        Fugees\n",
       "11483         Iyaz\n",
       "Name: name, dtype: object"
      ]
     },
     "execution_count": 118,
     "metadata": {},
     "output_type": "execute_result"
    }
   ],
   "source": [
    "get_recommendations('Kanye West', cosine_sim2)"
   ]
  },
  {
   "cell_type": "code",
   "execution_count": 154,
   "id": "f8a78645",
   "metadata": {},
   "outputs": [
    {
     "data": {
      "text/plain": [
       "15869        City Rain\n",
       "7461              Rain\n",
       "9187     The Mavericks\n",
       "12739      Room Eleven\n",
       "1469       B.J. Thomas\n",
       "12457       Black Rain\n",
       "954              Yanni\n",
       "2053            Yiruma\n",
       "3537        Gary Allan\n",
       "3559       Clint Black\n",
       "Name: name, dtype: object"
      ]
     },
     "execution_count": 154,
     "metadata": {},
     "output_type": "execute_result"
    }
   ],
   "source": [
    "get_recommendations('Coptic Rain', cosine_sim2)"
   ]
  },
  {
   "cell_type": "markdown",
   "id": "996ce05f",
   "metadata": {},
   "source": [
    "When we run 'Kanye West' in the new recommender system, it seems to output more accurate results, the top 10 similar artists seem to be more similar this time. \n",
    "\n",
    "However, when we run 'Coptic Rain', who has no tags, we get other artists with very similar names, as it is the only token being considered. "
   ]
  }
 ],
 "metadata": {
  "kernelspec": {
   "display_name": "Python 3 (ipykernel)",
   "language": "python",
   "name": "python3"
  },
  "language_info": {
   "codemirror_mode": {
    "name": "ipython",
    "version": 3
   },
   "file_extension": ".py",
   "mimetype": "text/x-python",
   "name": "python",
   "nbconvert_exporter": "python",
   "pygments_lexer": "ipython3",
   "version": "3.9.7"
  }
 },
 "nbformat": 4,
 "nbformat_minor": 5
}