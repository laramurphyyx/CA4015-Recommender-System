{
 "cells": [
  {
   "cell_type": "code",
   "execution_count": 12,
   "id": "5d1c7b72",
   "metadata": {},
   "outputs": [],
   "source": [
    "import pandas as pd\n",
    "import numpy as np\n",
    "import heapq"
   ]
  },
  {
   "cell_type": "code",
   "execution_count": 117,
   "id": "d20ab26c",
   "metadata": {},
   "outputs": [],
   "source": [
    "artists = pd.read_csv('../data/artists.csv')\n",
    "user_taggedartists = pd.read_csv('../data/user_taggedartists.csv')\n",
    "tags = pd.read_table('../data/tags.dat', sep=\"\\t\", encoding='latin-1')\n",
    "user_artists_ratings = pd.read_csv('../data/user_artists_ratings.csv')"
   ]
  },
  {
   "cell_type": "markdown",
   "id": "1d6f4191",
   "metadata": {},
   "source": [
    "## Finding the top 2 tags per artist"
   ]
  },
  {
   "cell_type": "code",
   "execution_count": 118,
   "id": "348ef341",
   "metadata": {},
   "outputs": [],
   "source": [
    "artists['first_tag'] = 0\n",
    "artists['second_tag'] = 0"
   ]
  },
  {
   "cell_type": "code",
   "execution_count": 119,
   "id": "640d5000",
   "metadata": {},
   "outputs": [],
   "source": [
    "for artist in user_taggedartists.artistID.unique():\n",
    "    artist_data = user_taggedartists[user_taggedartists['artistID']==artist]\n",
    "    if len(artist_data) < 1:\n",
    "        first_tag = 0\n",
    "        second_tag = 0\n",
    "    else:\n",
    "        top_two_tags = artist_data['tagID'].value_counts()[:3].index.tolist()\n",
    "        first_tag = top_two_tags[0]\n",
    "        if len(top_two_tags)>1:\n",
    "            second_tag = top_two_tags[1]\n",
    "        else:\n",
    "            second_tag = 0\n",
    "    artists.loc[artists.id == artist, 'first_tag'] = first_tag\n",
    "    artists.loc[artists.id == artist, 'second_tag'] = second_tag"
   ]
  },
  {
   "cell_type": "code",
   "execution_count": 121,
   "id": "23d4dc6e",
   "metadata": {},
   "outputs": [],
   "source": [
    "artists.to_csv('../data/artists_tags.csv', index=False)"
   ]
  }
 ],
 "metadata": {
  "kernelspec": {
   "display_name": "Python 3 (ipykernel)",
   "language": "python",
   "name": "python3"
  },
  "language_info": {
   "codemirror_mode": {
    "name": "ipython",
    "version": 3
   },
   "file_extension": ".py",
   "mimetype": "text/x-python",
   "name": "python",
   "nbconvert_exporter": "python",
   "pygments_lexer": "ipython3",
   "version": "3.9.7"
  }
 },
 "nbformat": 4,
 "nbformat_minor": 5
}
