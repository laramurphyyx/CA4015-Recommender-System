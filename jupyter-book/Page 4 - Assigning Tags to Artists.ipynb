{
 "cells": [
  {
   "cell_type": "markdown",
   "id": "93007554",
   "metadata": {},
   "source": [
    "# Assigning Tags to Artists"
   ]
  },
  {
   "cell_type": "markdown",
   "id": "ccae872b",
   "metadata": {},
   "source": [
    "## Importing Relevant Packages and Datasets"
   ]
  },
  {
   "cell_type": "code",
   "execution_count": 78,
   "id": "5d1c7b72",
   "metadata": {},
   "outputs": [],
   "source": [
    "import pandas as pd\n",
    "import numpy as np\n",
    "import heapq"
   ]
  },
  {
   "cell_type": "code",
   "execution_count": 79,
   "id": "d20ab26c",
   "metadata": {},
   "outputs": [],
   "source": [
    "artists = pd.read_csv('../data/artists.csv')\n",
    "user_taggedartists = pd.read_csv('../data/user_taggedartists.csv')\n",
    "tags = pd.read_csv('../data/tags.csv')\n",
    "user_artists_ratings = pd.read_csv('../data/user_artists_ratings.csv')"
   ]
  },
  {
   "cell_type": "markdown",
   "id": "1d6f4191",
   "metadata": {},
   "source": [
    "## Finding the top 2 tags per artist"
   ]
  },
  {
   "cell_type": "code",
   "execution_count": 80,
   "id": "348ef341",
   "metadata": {},
   "outputs": [],
   "source": [
    "artists['first_tag'] = 0\n",
    "artists['second_tag'] = 0"
   ]
  },
  {
   "cell_type": "code",
   "execution_count": 82,
   "id": "640d5000",
   "metadata": {},
   "outputs": [],
   "source": [
    "for artist in user_taggedartists.artistID.unique():\n",
    "    artist_data = user_taggedartists[user_taggedartists['artistID']==artist]\n",
    "    if len(artist_data) < 1:\n",
    "        first_tag = 0\n",
    "        second_tag = 0\n",
    "    else:\n",
    "        top_two_tags = artist_data['tagID'].value_counts()[:3].index.tolist()\n",
    "        first_tag = top_two_tags[0]\n",
    "        if len(top_two_tags)>1:\n",
    "            second_tag = top_two_tags[1]\n",
    "        else:\n",
    "            second_tag = 0\n",
    "    artists.loc[artists.id == artist, 'first_tag'] = first_tag\n",
    "    artists.loc[artists.id == artist, 'second_tag'] = second_tag"
   ]
  },
  {
   "cell_type": "markdown",
   "id": "f7e5d16f",
   "metadata": {},
   "source": [
    "## Adding a Column for the Top 5 Tags (String Values)"
   ]
  },
  {
   "cell_type": "code",
   "execution_count": 84,
   "id": "d02ce10e",
   "metadata": {},
   "outputs": [],
   "source": [
    "tag_dict = {}\n",
    "tag_dict[0] = \"\"\n",
    "for row in tags.itertuples():\n",
    "    tagID = row[1]\n",
    "    tag = row[2]\n",
    "    tag_dict[tagID] = tag"
   ]
  },
  {
   "cell_type": "code",
   "execution_count": 85,
   "id": "cbb1ce4e",
   "metadata": {},
   "outputs": [],
   "source": [
    "artists['top_five_tags'] = ''"
   ]
  },
  {
   "cell_type": "code",
   "execution_count": 86,
   "id": "ed4f3fce",
   "metadata": {},
   "outputs": [],
   "source": [
    "for artist in user_taggedartists.artistID.unique():\n",
    "    artist_data = user_taggedartists[user_taggedartists['artistID']==artist]\n",
    "    top_five_tags = artist_data['tagID'].value_counts()[:5].index.tolist()\n",
    "    \n",
    "    string_tags = [tag_dict[tag] for tag in top_five_tags]\n",
    "    \n",
    "    top_5_string = \" \".join(string_tags)\n",
    "    artists.loc[artists.id == artist, 'top_five_tags'] = top_5_string"
   ]
  },
  {
   "cell_type": "markdown",
   "id": "5653510d",
   "metadata": {},
   "source": [
    "## Exporting the CSV File"
   ]
  },
  {
   "cell_type": "code",
   "execution_count": 88,
   "id": "23d4dc6e",
   "metadata": {},
   "outputs": [],
   "source": [
    "artists.to_csv('../data/artists_tags.csv', index=False)"
   ]
  }
 ],
 "metadata": {
  "kernelspec": {
   "display_name": "Python 3 (ipykernel)",
   "language": "python",
   "name": "python3"
  },
  "language_info": {
   "codemirror_mode": {
    "name": "ipython",
    "version": 3
   },
   "file_extension": ".py",
   "mimetype": "text/x-python",
   "name": "python",
   "nbconvert_exporter": "python",
   "pygments_lexer": "ipython3",
   "version": "3.9.7"
  }
 },
 "nbformat": 4,
 "nbformat_minor": 5
}
