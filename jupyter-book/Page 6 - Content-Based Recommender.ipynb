{
 "cells": [
  {
   "cell_type": "markdown",
   "id": "c27cb651",
   "metadata": {},
   "source": [
    "# Content-Based Recommender System"
   ]
  },
  {
   "cell_type": "markdown",
   "id": "67d4fb95",
   "metadata": {},
   "source": [
    "## Importing Relevant Packages and Datasets"
   ]
  },
  {
   "cell_type": "code",
   "execution_count": 179,
   "id": "cf685d40",
   "metadata": {},
   "outputs": [],
   "source": [
    "import pandas as pd\n",
    "import numpy as np\n",
    "import matplotlib.pyplot as plt\n",
    "from sklearn.feature_extraction.text import TfidfVectorizer\n",
    "from sklearn.metrics.pairwise import linear_kernel\n",
    "from sklearn.feature_extraction.text import CountVectorizer\n",
    "from sklearn.metrics.pairwise import cosine_similarity"
   ]
  },
  {
   "cell_type": "code",
   "execution_count": 180,
   "id": "8f96d1a8",
   "metadata": {},
   "outputs": [],
   "source": [
    "dataframe_names = [\n",
    "    'user_friends',\n",
    "    'user_taggedartists',\n",
    "    'artists',\n",
    "    'tags',\n",
    "    'user_artists',\n",
    "    'user_artists_ratings',\n",
    "    'artists_tags']\n",
    "\n",
    "file_names = [\n",
    "    '../data/user_friends.csv',\n",
    "    '../data/user_taggedartists.csv',\n",
    "    '../data/artists.csv',\n",
    "    '../data/tags.csv',\n",
    "    '../data/user_artists.csv',\n",
    "    '../data/user_artists_ratings.csv',\n",
    "    '../data/artists_tags.csv']"
   ]
  },
  {
   "cell_type": "code",
   "execution_count": 181,
   "id": "14e0ef77",
   "metadata": {},
   "outputs": [],
   "source": [
    "for (dataframe, file) in zip(dataframe_names, file_names):\n",
    "    vars()[dataframe] = pd.read_csv(file)"
   ]
  },
  {
   "cell_type": "markdown",
   "id": "369f76a5",
   "metadata": {},
   "source": [
    "## Adjusting Existing Columns"
   ]
  },
  {
   "cell_type": "markdown",
   "id": "9bb65e27",
   "metadata": {},
   "source": [
    "Importing artists that have their top two tags and converting them to their string equivalents"
   ]
  },
  {
   "cell_type": "code",
   "execution_count": 182,
   "id": "e325f3cb",
   "metadata": {},
   "outputs": [],
   "source": [
    "tag_dict = {}\n",
    "tag_dict[0] = \"\"\n",
    "for row in tags.itertuples():\n",
    "    tagID = row[1]\n",
    "    tag = row[2]\n",
    "    tag_dict[tagID] = tag"
   ]
  },
  {
   "cell_type": "code",
   "execution_count": 183,
   "id": "321ec3ec",
   "metadata": {},
   "outputs": [],
   "source": [
    "artists_tags['first_tag'] = artists_tags.apply(lambda row: tag_dict[row['first_tag']], axis=1)\n",
    "artists_tags['second_tag'] = artists_tags.apply(lambda row: tag_dict[row['second_tag']], axis=1)"
   ]
  },
  {
   "cell_type": "code",
   "execution_count": 178,
   "id": "6e4a5d8f",
   "metadata": {},
   "outputs": [
    {
     "data": {
      "text/html": [
       "<div>\n",
       "<style scoped>\n",
       "    .dataframe tbody tr th:only-of-type {\n",
       "        vertical-align: middle;\n",
       "    }\n",
       "\n",
       "    .dataframe tbody tr th {\n",
       "        vertical-align: top;\n",
       "    }\n",
       "\n",
       "    .dataframe thead th {\n",
       "        text-align: right;\n",
       "    }\n",
       "</style>\n",
       "<table border=\"1\" class=\"dataframe\">\n",
       "  <thead>\n",
       "    <tr style=\"text-align: right;\">\n",
       "      <th></th>\n",
       "      <th>id</th>\n",
       "      <th>name</th>\n",
       "      <th>url</th>\n",
       "      <th>pictureURL</th>\n",
       "      <th>first_tag</th>\n",
       "      <th>second_tag</th>\n",
       "      <th>top_five_tags</th>\n",
       "    </tr>\n",
       "  </thead>\n",
       "  <tbody>\n",
       "    <tr>\n",
       "      <th>0</th>\n",
       "      <td>0</td>\n",
       "      <td>MALICE MIZER</td>\n",
       "      <td>http://www.last.fm/music/MALICE+MIZER</td>\n",
       "      <td>http://userserve-ak.last.fm/serve/252/10808.jpg</td>\n",
       "      <td>j-rock</td>\n",
       "      <td>visual kei</td>\n",
       "      <td>j-rock visual kei gothic japanese weeabo</td>\n",
       "    </tr>\n",
       "    <tr>\n",
       "      <th>1</th>\n",
       "      <td>1</td>\n",
       "      <td>Diary of Dreams</td>\n",
       "      <td>http://www.last.fm/music/Diary+of+Dreams</td>\n",
       "      <td>http://userserve-ak.last.fm/serve/252/3052066.jpg</td>\n",
       "      <td>darkwave</td>\n",
       "      <td>german</td>\n",
       "      <td>darkwave german gothic seen live industrial</td>\n",
       "    </tr>\n",
       "    <tr>\n",
       "      <th>2</th>\n",
       "      <td>2</td>\n",
       "      <td>Carpathian Forest</td>\n",
       "      <td>http://www.last.fm/music/Carpathian+Forest</td>\n",
       "      <td>http://userserve-ak.last.fm/serve/252/40222717...</td>\n",
       "      <td>black metal</td>\n",
       "      <td>true norwegian black metal</td>\n",
       "      <td>black metal true norwegian black metal norwegi...</td>\n",
       "    </tr>\n",
       "    <tr>\n",
       "      <th>3</th>\n",
       "      <td>3</td>\n",
       "      <td>Moi dix Mois</td>\n",
       "      <td>http://www.last.fm/music/Moi+dix+Mois</td>\n",
       "      <td>http://userserve-ak.last.fm/serve/252/54697835...</td>\n",
       "      <td>j-rock</td>\n",
       "      <td>japanese</td>\n",
       "      <td>j-rock japanese visual kei gothic metal</td>\n",
       "    </tr>\n",
       "    <tr>\n",
       "      <th>4</th>\n",
       "      <td>4</td>\n",
       "      <td>Bella Morte</td>\n",
       "      <td>http://www.last.fm/music/Bella+Morte</td>\n",
       "      <td>http://userserve-ak.last.fm/serve/252/14789013...</td>\n",
       "      <td>darkwave</td>\n",
       "      <td>gothic</td>\n",
       "      <td>darkwave gothic gothic rock deathrock covers</td>\n",
       "    </tr>\n",
       "    <tr>\n",
       "      <th>...</th>\n",
       "      <td>...</td>\n",
       "      <td>...</td>\n",
       "      <td>...</td>\n",
       "      <td>...</td>\n",
       "      <td>...</td>\n",
       "      <td>...</td>\n",
       "      <td>...</td>\n",
       "    </tr>\n",
       "    <tr>\n",
       "      <th>17627</th>\n",
       "      <td>17627</td>\n",
       "      <td>Diamanda Galás</td>\n",
       "      <td>http://www.last.fm/music/Diamanda+Gal%C3%A1s</td>\n",
       "      <td>http://userserve-ak.last.fm/serve/252/16352971...</td>\n",
       "      <td>experimental</td>\n",
       "      <td>dead music</td>\n",
       "      <td>experimental dead music</td>\n",
       "    </tr>\n",
       "    <tr>\n",
       "      <th>17628</th>\n",
       "      <td>17628</td>\n",
       "      <td>Aya RL</td>\n",
       "      <td>http://www.last.fm/music/Aya+RL</td>\n",
       "      <td>http://userserve-ak.last.fm/serve/252/207445.jpg</td>\n",
       "      <td></td>\n",
       "      <td></td>\n",
       "      <td>NaN</td>\n",
       "    </tr>\n",
       "    <tr>\n",
       "      <th>17629</th>\n",
       "      <td>17629</td>\n",
       "      <td>Coptic Rain</td>\n",
       "      <td>http://www.last.fm/music/Coptic+Rain</td>\n",
       "      <td>http://userserve-ak.last.fm/serve/252/344868.jpg</td>\n",
       "      <td></td>\n",
       "      <td></td>\n",
       "      <td>NaN</td>\n",
       "    </tr>\n",
       "    <tr>\n",
       "      <th>17630</th>\n",
       "      <td>17630</td>\n",
       "      <td>Oz Alchemist</td>\n",
       "      <td>http://www.last.fm/music/Oz+Alchemist</td>\n",
       "      <td>http://userserve-ak.last.fm/serve/252/29297695...</td>\n",
       "      <td>chillout</td>\n",
       "      <td>ambient</td>\n",
       "      <td>chillout ambient downtempo avant-garde trip hop</td>\n",
       "    </tr>\n",
       "    <tr>\n",
       "      <th>17631</th>\n",
       "      <td>17631</td>\n",
       "      <td>Grzegorz Tomczak</td>\n",
       "      <td>http://www.last.fm/music/Grzegorz+Tomczak</td>\n",
       "      <td>http://userserve-ak.last.fm/serve/252/59486303...</td>\n",
       "      <td></td>\n",
       "      <td></td>\n",
       "      <td>NaN</td>\n",
       "    </tr>\n",
       "  </tbody>\n",
       "</table>\n",
       "<p>17632 rows × 7 columns</p>\n",
       "</div>"
      ],
      "text/plain": [
       "          id               name                                           url  \\\n",
       "0          0       MALICE MIZER         http://www.last.fm/music/MALICE+MIZER   \n",
       "1          1    Diary of Dreams      http://www.last.fm/music/Diary+of+Dreams   \n",
       "2          2  Carpathian Forest    http://www.last.fm/music/Carpathian+Forest   \n",
       "3          3       Moi dix Mois         http://www.last.fm/music/Moi+dix+Mois   \n",
       "4          4        Bella Morte          http://www.last.fm/music/Bella+Morte   \n",
       "...      ...                ...                                           ...   \n",
       "17627  17627     Diamanda Galás  http://www.last.fm/music/Diamanda+Gal%C3%A1s   \n",
       "17628  17628             Aya RL               http://www.last.fm/music/Aya+RL   \n",
       "17629  17629        Coptic Rain          http://www.last.fm/music/Coptic+Rain   \n",
       "17630  17630       Oz Alchemist         http://www.last.fm/music/Oz+Alchemist   \n",
       "17631  17631   Grzegorz Tomczak     http://www.last.fm/music/Grzegorz+Tomczak   \n",
       "\n",
       "                                              pictureURL     first_tag  \\\n",
       "0        http://userserve-ak.last.fm/serve/252/10808.jpg        j-rock   \n",
       "1      http://userserve-ak.last.fm/serve/252/3052066.jpg      darkwave   \n",
       "2      http://userserve-ak.last.fm/serve/252/40222717...   black metal   \n",
       "3      http://userserve-ak.last.fm/serve/252/54697835...        j-rock   \n",
       "4      http://userserve-ak.last.fm/serve/252/14789013...      darkwave   \n",
       "...                                                  ...           ...   \n",
       "17627  http://userserve-ak.last.fm/serve/252/16352971...  experimental   \n",
       "17628   http://userserve-ak.last.fm/serve/252/207445.jpg                 \n",
       "17629   http://userserve-ak.last.fm/serve/252/344868.jpg                 \n",
       "17630  http://userserve-ak.last.fm/serve/252/29297695...      chillout   \n",
       "17631  http://userserve-ak.last.fm/serve/252/59486303...                 \n",
       "\n",
       "                       second_tag  \\\n",
       "0                      visual kei   \n",
       "1                          german   \n",
       "2      true norwegian black metal   \n",
       "3                        japanese   \n",
       "4                          gothic   \n",
       "...                           ...   \n",
       "17627                  dead music   \n",
       "17628                               \n",
       "17629                               \n",
       "17630                     ambient   \n",
       "17631                               \n",
       "\n",
       "                                           top_five_tags  \n",
       "0               j-rock visual kei gothic japanese weeabo  \n",
       "1            darkwave german gothic seen live industrial  \n",
       "2      black metal true norwegian black metal norwegi...  \n",
       "3                j-rock japanese visual kei gothic metal  \n",
       "4           darkwave gothic gothic rock deathrock covers  \n",
       "...                                                  ...  \n",
       "17627                            experimental dead music  \n",
       "17628                                                NaN  \n",
       "17629                                                NaN  \n",
       "17630    chillout ambient downtempo avant-garde trip hop  \n",
       "17631                                                NaN  \n",
       "\n",
       "[17632 rows x 7 columns]"
      ]
     },
     "execution_count": 178,
     "metadata": {},
     "output_type": "execute_result"
    }
   ],
   "source": [
    "artists_tags"
   ]
  },
  {
   "cell_type": "markdown",
   "id": "f419f193",
   "metadata": {},
   "source": [
    "## Recommender Based on Top Tag"
   ]
  },
  {
   "cell_type": "markdown",
   "id": "35ebc200",
   "metadata": {},
   "source": [
    "We aim to calculate the Term Frequency-Inverse Document Frequency (TF-IDF) for each artist. The terms will be taken from the assigned tags for each artist."
   ]
  },
  {
   "cell_type": "code",
   "execution_count": 130,
   "id": "31bb01f5",
   "metadata": {},
   "outputs": [
    {
     "data": {
      "text/plain": [
       "(17632, 1246)"
      ]
     },
     "execution_count": 130,
     "metadata": {},
     "output_type": "execute_result"
    }
   ],
   "source": [
    "tfidf = TfidfVectorizer(stop_words='english')\n",
    "tfidf_matrix = tfidf.fit_transform(artists_tags['first_tag'])\n",
    "tfidf_matrix.shape"
   ]
  },
  {
   "cell_type": "markdown",
   "id": "1d5422aa",
   "metadata": {},
   "source": [
    "This 'tfidf' object was created to remove any stop words that may appear in the user-assigned tags for each artist.\n",
    "\n",
    "This was then fitted as a matrix with the dimensions (N x M) where N is the number of artists and M is the number of tokens/words (excluding stop words) that appear in their top tag. In this case, there are 17,632 artists and 1,246 words."
   ]
  },
  {
   "cell_type": "code",
   "execution_count": 81,
   "id": "d6ca29f3",
   "metadata": {},
   "outputs": [
    {
     "data": {
      "text/plain": [
       "['play',\n",
       " 'pleasure',\n",
       " 'pleasuredome',\n",
       " 'pleasures',\n",
       " 'podcast',\n",
       " 'poetry',\n",
       " 'polecane',\n",
       " 'polish',\n",
       " 'political',\n",
       " 'pop']"
      ]
     },
     "execution_count": 81,
     "metadata": {},
     "output_type": "execute_result"
    }
   ],
   "source": [
    "tfidf.get_feature_names()[900:910]"
   ]
  },
  {
   "cell_type": "markdown",
   "id": "37b3781f",
   "metadata": {},
   "source": [
    "This is an example of some of the tokens that appear in the top five tags of each artist. \n",
    "\n",
    "There are some tags that wouldn't be classified as genres, such as 'pleasures' or 'play', although these are unlikely to affect the performance of the recommender system."
   ]
  },
  {
   "cell_type": "code",
   "execution_count": 131,
   "id": "42dd7c34",
   "metadata": {},
   "outputs": [],
   "source": [
    "cosine_sim = linear_kernel(tfidf_matrix, tfidf_matrix)"
   ]
  },
  {
   "cell_type": "markdown",
   "id": "4052e002",
   "metadata": {},
   "source": [
    "As we are using the TF-IDF Vectoriser, we can calculate the dot product between each vector to give us the cosine similarity score. This is more efficient than to use cosine_similarities()."
   ]
  },
  {
   "cell_type": "code",
   "execution_count": 84,
   "id": "de031725",
   "metadata": {},
   "outputs": [
    {
     "data": {
      "text/plain": [
       "(17632, 17632)"
      ]
     },
     "execution_count": 84,
     "metadata": {},
     "output_type": "execute_result"
    }
   ],
   "source": [
    "cosine_sim.shape"
   ]
  },
  {
   "cell_type": "markdown",
   "id": "915e1bc1",
   "metadata": {},
   "source": [
    "This makes sense as this similarity is comparing each artist to each other, so each artist has it's own column and it's own row."
   ]
  },
  {
   "cell_type": "code",
   "execution_count": 132,
   "id": "600c748b",
   "metadata": {},
   "outputs": [
    {
     "data": {
      "text/plain": [
       "array([0., 0., 1., ..., 0., 0., 0.])"
      ]
     },
     "execution_count": 132,
     "metadata": {},
     "output_type": "execute_result"
    }
   ],
   "source": [
    "cosine_sim[2]"
   ]
  },
  {
   "cell_type": "markdown",
   "id": "6c9562a1",
   "metadata": {},
   "source": [
    "This is an example of the cosine similarities for the artist with the ID 2.\n",
    "\n",
    "The artist will have 100% similarity with itself, hence there is 1.0 in the 2nd column."
   ]
  },
  {
   "cell_type": "code",
   "execution_count": null,
   "id": "a7a59b31",
   "metadata": {},
   "outputs": [],
   "source": [
    "indices = pd.Series(artists_tags.index, index=artists_tags['name']).drop_duplicates()"
   ]
  },
  {
   "cell_type": "markdown",
   "id": "3ef11f9b",
   "metadata": {},
   "source": [
    "The above 'indices' series is created to reverse the mapping of artist names and IDs, this allows for easier searching in the recommender system."
   ]
  },
  {
   "cell_type": "code",
   "execution_count": 141,
   "id": "0b85b422",
   "metadata": {},
   "outputs": [],
   "source": [
    "def get_recommendations(name, cosine_sim=cosine_sim):\n",
    "    # Get the index of the artist that matches the name\n",
    "    index = indices[name]\n",
    "\n",
    "    # Get the pairwsie similarity scores of all artists with that artist\n",
    "    sim_scores = list(enumerate(cosine_sim[index]))\n",
    "\n",
    "    # Sort the artists based on the similarity scores\n",
    "    sim_scores = sorted(sim_scores, key=lambda x: x[1], reverse=True)\n",
    "\n",
    "    # Get the scores of the 10 most similar artists\n",
    "    sim_scores = sim_scores[1:11]\n",
    "\n",
    "    # Get the artist indices\n",
    "    artist_indices = [i[0] for i in sim_scores]\n",
    "\n",
    "    # Return the top 10 most similar movies\n",
    "    return artists_tags['name'].iloc[artist_indices]"
   ]
  },
  {
   "cell_type": "markdown",
   "id": "1e75807d",
   "metadata": {},
   "source": [
    "The above function retrieves the top 10 recommendations based on the most common tag that each artist received.\n",
    "\n",
    "This will work quite well for artists that have received lots of the same tag, making it more accurate, and may not perform as well on artists with few/no tags."
   ]
  },
  {
   "cell_type": "code",
   "execution_count": 150,
   "id": "04ccae79",
   "metadata": {},
   "outputs": [
    {
     "data": {
      "text/plain": [
       "238     Flagelo Urbano\n",
       "243             Common\n",
       "249               Nach\n",
       "253         9th Wonder\n",
       "261                Nas\n",
       "265            Mos Def\n",
       "272               2Pac\n",
       "300    Black Eyed Peas\n",
       "325         Kanye West\n",
       "454           Noize MC\n",
       "Name: name, dtype: object"
      ]
     },
     "execution_count": 150,
     "metadata": {},
     "output_type": "execute_result"
    }
   ],
   "source": [
    "get_recommendations('Kanye West')"
   ]
  },
  {
   "cell_type": "code",
   "execution_count": 153,
   "id": "2d5b781f",
   "metadata": {},
   "outputs": [
    {
     "data": {
      "text/html": [
       "<div>\n",
       "<style scoped>\n",
       "    .dataframe tbody tr th:only-of-type {\n",
       "        vertical-align: middle;\n",
       "    }\n",
       "\n",
       "    .dataframe tbody tr th {\n",
       "        vertical-align: top;\n",
       "    }\n",
       "\n",
       "    .dataframe thead th {\n",
       "        text-align: right;\n",
       "    }\n",
       "</style>\n",
       "<table border=\"1\" class=\"dataframe\">\n",
       "  <thead>\n",
       "    <tr style=\"text-align: right;\">\n",
       "      <th></th>\n",
       "      <th>id</th>\n",
       "      <th>name</th>\n",
       "      <th>url</th>\n",
       "      <th>pictureURL</th>\n",
       "      <th>first_tag</th>\n",
       "      <th>second_tag</th>\n",
       "      <th>top_five_tags</th>\n",
       "    </tr>\n",
       "  </thead>\n",
       "  <tbody>\n",
       "    <tr>\n",
       "      <th>249</th>\n",
       "      <td>249</td>\n",
       "      <td>Nach</td>\n",
       "      <td>http://www.last.fm/music/Nach</td>\n",
       "      <td>http://userserve-ak.last.fm/serve/252/2510461.jpg</td>\n",
       "      <td>hip-hop</td>\n",
       "      <td></td>\n",
       "      <td>hip-hop</td>\n",
       "    </tr>\n",
       "  </tbody>\n",
       "</table>\n",
       "</div>"
      ],
      "text/plain": [
       "      id  name                            url  \\\n",
       "249  249  Nach  http://www.last.fm/music/Nach   \n",
       "\n",
       "                                            pictureURL first_tag second_tag  \\\n",
       "249  http://userserve-ak.last.fm/serve/252/2510461.jpg   hip-hop              \n",
       "\n",
       "    top_five_tags  \n",
       "249       hip-hop  "
      ]
     },
     "execution_count": 153,
     "metadata": {},
     "output_type": "execute_result"
    }
   ],
   "source": [
    "artists_tags[artists_tags['name']=='Flagelo Urbano'] ## hip hop under, raptuga, underground hip hp, hip hop\n",
    "artists_tags[artists_tags['name']=='Common'] ## hip-hop, hip hop, rap, mean, 90s\n",
    "artists_tags[artists_tags['name']=='Nach'] ## hip-hop"
   ]
  },
  {
   "cell_type": "code",
   "execution_count": 144,
   "id": "bd5aa969",
   "metadata": {},
   "outputs": [
    {
     "data": {
      "text/plain": [
       "1       Diary of Dreams\n",
       "2     Carpathian Forest\n",
       "3          Moi dix Mois\n",
       "4           Bella Morte\n",
       "5             Moonspell\n",
       "6        Marilyn Manson\n",
       "7           DIR EN GREY\n",
       "8           Combichrist\n",
       "9               Grendel\n",
       "10             Agonoize\n",
       "Name: name, dtype: object"
      ]
     },
     "execution_count": 144,
     "metadata": {},
     "output_type": "execute_result"
    }
   ],
   "source": [
    "get_recommendations('Coptic Rain')"
   ]
  },
  {
   "cell_type": "code",
   "execution_count": 149,
   "id": "cde04920",
   "metadata": {},
   "outputs": [
    {
     "data": {
      "text/html": [
       "<div>\n",
       "<style scoped>\n",
       "    .dataframe tbody tr th:only-of-type {\n",
       "        vertical-align: middle;\n",
       "    }\n",
       "\n",
       "    .dataframe tbody tr th {\n",
       "        vertical-align: top;\n",
       "    }\n",
       "\n",
       "    .dataframe thead th {\n",
       "        text-align: right;\n",
       "    }\n",
       "</style>\n",
       "<table border=\"1\" class=\"dataframe\">\n",
       "  <thead>\n",
       "    <tr style=\"text-align: right;\">\n",
       "      <th></th>\n",
       "      <th>id</th>\n",
       "      <th>name</th>\n",
       "      <th>url</th>\n",
       "      <th>pictureURL</th>\n",
       "      <th>first_tag</th>\n",
       "      <th>second_tag</th>\n",
       "      <th>top_five_tags</th>\n",
       "    </tr>\n",
       "  </thead>\n",
       "  <tbody>\n",
       "    <tr>\n",
       "      <th>4</th>\n",
       "      <td>4</td>\n",
       "      <td>Bella Morte</td>\n",
       "      <td>http://www.last.fm/music/Bella+Morte</td>\n",
       "      <td>http://userserve-ak.last.fm/serve/252/14789013...</td>\n",
       "      <td>darkwave</td>\n",
       "      <td>gothic</td>\n",
       "      <td>darkwave gothic gothic rock deathrock covers</td>\n",
       "    </tr>\n",
       "  </tbody>\n",
       "</table>\n",
       "</div>"
      ],
      "text/plain": [
       "   id         name                                   url  \\\n",
       "4   4  Bella Morte  http://www.last.fm/music/Bella+Morte   \n",
       "\n",
       "                                          pictureURL first_tag second_tag  \\\n",
       "4  http://userserve-ak.last.fm/serve/252/14789013...  darkwave     gothic   \n",
       "\n",
       "                                  top_five_tags  \n",
       "4  darkwave gothic gothic rock deathrock covers  "
      ]
     },
     "execution_count": 149,
     "metadata": {},
     "output_type": "execute_result"
    }
   ],
   "source": [
    "artists_tags[artists_tags['name']=='Diary of Dreams'] ## darkwave, german, gothic, seen live, industrial\n",
    "artists_tags[artists_tags['name']=='Carpathian Forest'] ## black metal, true norwegian black metal, norwegian\n",
    "artists_tags[artists_tags['name']=='Moi dix Mois'] ## j-rock, japanese, visual kei, gothic metal"
   ]
  },
  {
   "cell_type": "markdown",
   "id": "e0e9760d",
   "metadata": {},
   "source": [
    "As you can see when we run 'Kanye West' into the recommender system, we are given lots of artist that are related to hip-hop or rap. Although, the third recommendation, Nach, only has one tag assigned to it, which suggests that Nach received very few tags, and may not be similar to Kanye West.\n",
    "\n",
    "With our second example, we ran 'Coptic Rain' into the recommender system, to see how it would perform on an artist that had no tags. The tags of the top three recommended artists seem to be quite random (darkwave, german, norwegian, japanese). The system performed quite poorly for this artist."
   ]
  },
  {
   "cell_type": "markdown",
   "id": "6b4fb53f",
   "metadata": {},
   "source": [
    "# Using the Top-5 Instead of Top-1 Tags"
   ]
  },
  {
   "cell_type": "code",
   "execution_count": null,
   "id": "5ad34103",
   "metadata": {},
   "outputs": [],
   "source": [
    "artists_tags['top_five_tags'] = artists_tags['top_five_tags'].fillna('')"
   ]
  },
  {
   "cell_type": "code",
   "execution_count": 110,
   "id": "12d67d69",
   "metadata": {},
   "outputs": [],
   "source": [
    "def find_name_and_tags(dataframe):\n",
    "    return \"\".join(dataframe['name'].split()) + ' ' + dataframe['top_five_tags']\n",
    "\n",
    "artists_tags['name_and_tags'] = artists_tags.apply(find_name_and_tags, axis=1)"
   ]
  },
  {
   "cell_type": "markdown",
   "id": "d75a6ebc",
   "metadata": {},
   "source": [
    "The name of the artist may be important to use in the recommender system as it may be referenced within some of the tags.\n",
    "\n",
    "Some of the tags produced by the users may contain comments such as \"sounds like michael jackson\", and in this case it can create relations between Michael Jackson and these comments. It can also build relationships where the artist name may appear as \"Jay-Z ft. Kanye West\", so that Jay-Z and Kanye West could achieve a larger cosine similarity.\n",
    "\n",
    "We are merging the name and the tags into one column to simplify things."
   ]
  },
  {
   "cell_type": "code",
   "execution_count": 107,
   "id": "187805eb",
   "metadata": {},
   "outputs": [],
   "source": [
    "count = CountVectorizer(stop_words='english')\n",
    "count_matrix = count.fit_transform(artists_tags['name_and_tags'])"
   ]
  },
  {
   "cell_type": "markdown",
   "id": "45e0328d",
   "metadata": {},
   "source": [
    "In this case, we use CountVectorizer() instead of TF-IDF, as previously done. This is just to avoid down-weighting important tags that may appear more often than others."
   ]
  },
  {
   "cell_type": "code",
   "execution_count": 113,
   "id": "9164f5d3",
   "metadata": {},
   "outputs": [
    {
     "data": {
      "text/plain": [
       "(17632, 20107)"
      ]
     },
     "execution_count": 113,
     "metadata": {},
     "output_type": "execute_result"
    }
   ],
   "source": [
    "count_matrix.shape"
   ]
  },
  {
   "cell_type": "markdown",
   "id": "dab9c782",
   "metadata": {},
   "source": [
    "There are much more words being produced when we accept the top 5 tags and the name of the artists. "
   ]
  },
  {
   "cell_type": "code",
   "execution_count": null,
   "id": "4d3d3779",
   "metadata": {},
   "outputs": [],
   "source": [
    "cosine_sim2 = cosine_similarity(count_matrix, count_matrix)"
   ]
  },
  {
   "cell_type": "code",
   "execution_count": 117,
   "id": "0e29a114",
   "metadata": {},
   "outputs": [],
   "source": [
    "indices = pd.Series(artists_tags.index, index=artists_tags['name'])"
   ]
  },
  {
   "cell_type": "markdown",
   "id": "4b18d048",
   "metadata": {},
   "source": [
    "Here, we are creating the new cosine similarity matrix and the new indices object that can be passed into our original get_recommendations() function."
   ]
  },
  {
   "cell_type": "code",
   "execution_count": 118,
   "id": "97538a62",
   "metadata": {},
   "outputs": [
    {
     "data": {
      "text/plain": [
       "2578     will.i.am\n",
       "16355        Trina\n",
       "898      Timbaland\n",
       "1435          Akon\n",
       "3280         Drake\n",
       "6425         Diddy\n",
       "7596        Chingy\n",
       "7968        T-Pain\n",
       "7991        Fugees\n",
       "11483         Iyaz\n",
       "Name: name, dtype: object"
      ]
     },
     "execution_count": 118,
     "metadata": {},
     "output_type": "execute_result"
    }
   ],
   "source": [
    "get_recommendations('Kanye West', cosine_sim2)"
   ]
  },
  {
   "cell_type": "code",
   "execution_count": 154,
   "id": "f8a78645",
   "metadata": {},
   "outputs": [
    {
     "data": {
      "text/plain": [
       "15869        City Rain\n",
       "7461              Rain\n",
       "9187     The Mavericks\n",
       "12739      Room Eleven\n",
       "1469       B.J. Thomas\n",
       "12457       Black Rain\n",
       "954              Yanni\n",
       "2053            Yiruma\n",
       "3537        Gary Allan\n",
       "3559       Clint Black\n",
       "Name: name, dtype: object"
      ]
     },
     "execution_count": 154,
     "metadata": {},
     "output_type": "execute_result"
    }
   ],
   "source": [
    "get_recommendations('Coptic Rain', cosine_sim2)"
   ]
  },
  {
   "cell_type": "markdown",
   "id": "996ce05f",
   "metadata": {},
   "source": [
    "When we run 'Kanye West' in the new recommender system, it seems to output more accurate results, the top 10 similar artists seem to be more similar this time. \n",
    "\n",
    "However, when we run 'Coptic Rain', who has no tags, we get other artists with very similar names, as it is the only token being considered. "
   ]
  }
 ],
 "metadata": {
  "kernelspec": {
   "display_name": "Python 3 (ipykernel)",
   "language": "python",
   "name": "python3"
  },
  "language_info": {
   "codemirror_mode": {
    "name": "ipython",
    "version": 3
   },
   "file_extension": ".py",
   "mimetype": "text/x-python",
   "name": "python",
   "nbconvert_exporter": "python",
   "pygments_lexer": "ipython3",
   "version": "3.9.7"
  }
 },
 "nbformat": 4,
 "nbformat_minor": 5
}
