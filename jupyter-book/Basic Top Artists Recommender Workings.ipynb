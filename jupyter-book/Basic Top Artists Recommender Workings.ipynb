{
 "cells": [
  {
   "cell_type": "markdown",
   "id": "fc51799d",
   "metadata": {},
   "source": [
    "# Basic Recommender System Workings"
   ]
  },
  {
   "cell_type": "markdown",
   "id": "4741be56",
   "metadata": {},
   "source": [
    "## Importing Relevant Packages and Datasets"
   ]
  },
  {
   "cell_type": "code",
   "execution_count": 43,
   "id": "fcf086be",
   "metadata": {},
   "outputs": [],
   "source": [
    "import pandas as pd\n",
    "import numpy as np\n",
    "import matplotlib.pyplot as plt"
   ]
  },
  {
   "cell_type": "code",
   "execution_count": 44,
   "id": "639b1d43",
   "metadata": {},
   "outputs": [],
   "source": [
    "dataframe_names = [\n",
    "    'user_friends',\n",
    "    'user_taggedartists',\n",
    "    'artists',\n",
    "    'tags',\n",
    "    'user_artists',\n",
    "    'user_artists_ratings']\n",
    "\n",
    "file_names = [\n",
    "    '../data/user_friends.csv',\n",
    "    '../data/user_taggedartists.csv',\n",
    "    '../data/artists.csv',\n",
    "    '../data/tags.csv',\n",
    "    '../data/user_artists.csv',\n",
    "    '../data/user_artists_ratings.csv']"
   ]
  },
  {
   "cell_type": "code",
   "execution_count": 45,
   "id": "54f51318",
   "metadata": {},
   "outputs": [],
   "source": [
    "for (dataframe, file) in zip(dataframe_names, file_names):\n",
    "    vars()[dataframe] = pd.read_csv(file)"
   ]
  },
  {
   "cell_type": "markdown",
   "id": "effeacb0",
   "metadata": {},
   "source": [
    "## Recommender System Outline"
   ]
  },
  {
   "cell_type": "markdown",
   "id": "6745f9b5",
   "metadata": {},
   "source": [
    "For the basic recommender system, this will not take in any personalisation - it will be the same recommendations for all users.\n",
    "\n",
    "This recommender system only recommends artists that have high ratings.\n",
    "\n",
    "We will use the artists' average ratings, but this could be skewed by an artist who has very few ratings that yield a high average. To prevent this, we will take the top 10% of artists that have the highest number of user ratings, and then filter to find the artists with the highest average rating.\n",
    "\n",
    "\n",
    "1. Make one for most popular all time\n",
    "2. Make one for trending and use the timestamps one - maybe per genre?"
   ]
  },
  {
   "cell_type": "code",
   "execution_count": 9,
   "id": "4d6b3757",
   "metadata": {},
   "outputs": [],
   "source": [
    "artists_users_ratings = (\n",
    "    user_artists_ratings\n",
    "    .groupby('artistID', as_index=False)\n",
    "    .agg({'userID': ['count'], 'rating': ['mean']})\n",
    ")"
   ]
  },
  {
   "cell_type": "code",
   "execution_count": 10,
   "id": "2a2e3860",
   "metadata": {},
   "outputs": [],
   "source": [
    "artists_users_ratings.columns = ['artistID', 'count_users', 'avg_rating']"
   ]
  },
  {
   "cell_type": "code",
   "execution_count": 11,
   "id": "7607a5f0",
   "metadata": {},
   "outputs": [
    {
     "data": {
      "image/png": "[encoded data removed]",
      "text/plain": [
       "<Figure size 432x288 with 1 Axes>"
      ]
     },
     "metadata": {
      "needs_background": "light"
     },
     "output_type": "display_data"
    }
   ],
   "source": [
    "plt.hist(artists_users_ratings['count_users'], bins=100)\n",
    "plt.gca().set(\n",
    "    title='Distribution of Users', \n",
    "    xlabel='Number of Users',\n",
    "    ylabel='Frequency'\n",
    ");"
   ]
  },
  {
   "cell_type": "code",
   "execution_count": 12,
   "id": "3b3c7f0e",
   "metadata": {},
   "outputs": [
    {
     "data": {
      "image/png": "[encoded data removed]",
      "text/plain": [
       "<Figure size 432x288 with 1 Axes>"
      ]
     },
     "metadata": {
      "needs_background": "light"
     },
     "output_type": "display_data"
    }
   ],
   "source": [
    "plt.hist(artists_users_ratings['avg_rating'], bins=100)\n",
    "plt.gca().set(\n",
    "    title='Distribution of Average Rating', \n",
    "    xlabel='Average Rating',\n",
    "    ylabel='Frequency'\n",
    ");"
   ]
  },
  {
   "cell_type": "markdown",
   "id": "291b3684",
   "metadata": {},
   "source": [
    "Make a comment about these graphs."
   ]
  },
  {
   "cell_type": "markdown",
   "id": "4069d1d3",
   "metadata": {},
   "source": [
    "## Recommending the Top 5 Artists that You Might Like"
   ]
  },
  {
   "cell_type": "code",
   "execution_count": 13,
   "id": "bc11dd3d",
   "metadata": {},
   "outputs": [
    {
     "data": {
      "text/plain": [
       "8.0"
      ]
     },
     "execution_count": 13,
     "metadata": {},
     "output_type": "execute_result"
    }
   ],
   "source": [
    "## Finding the top 10% of artists\n",
    "np.percentile(artists_users_ratings['count_users'], 90)"
   ]
  },
  {
   "cell_type": "code",
   "execution_count": 34,
   "id": "a9ca2fed",
   "metadata": {},
   "outputs": [
    {
     "data": {
      "text/plain": [
       "0.605660163339383"
      ]
     },
     "execution_count": 34,
     "metadata": {},
     "output_type": "execute_result"
    }
   ],
   "source": [
    "len(artists_users_ratings[artists_users_ratings['count_users']==1]['count_users'])/len(artists_users_ratings['count_users'])"
   ]
  },
  {
   "cell_type": "markdown",
   "id": "18a53b9c",
   "metadata": {},
   "source": [
    "Over 60% of artists have only had one user listen to their music. "
   ]
  },
  {
   "cell_type": "code",
   "execution_count": 36,
   "id": "968b9100",
   "metadata": {},
   "outputs": [],
   "source": [
    "most_listened_to_artists = artists_users_ratings[artists_users_ratings['count_users']>=8]"
   ]
  },
  {
   "cell_type": "code",
   "execution_count": 39,
   "id": "1fefbdb4",
   "metadata": {},
   "outputs": [
    {
     "data": {
      "text/plain": [
       "3.5"
      ]
     },
     "execution_count": 39,
     "metadata": {},
     "output_type": "execute_result"
    }
   ],
   "source": [
    "most_listened_to_artists['avg_rating'].max()"
   ]
  },
  {
   "cell_type": "markdown",
   "id": "54aa4eee",
   "metadata": {},
   "source": [
    "Since the highest average rating for the top 10% of artists is only 3.5, we can either increase the amount of artists being considered (increase to the top 20% of artists), or we can identify the amount of times the artists is listened to per user. "
   ]
  },
  {
   "cell_type": "markdown",
   "id": "3bd7826a",
   "metadata": {},
   "source": [
    "## Identifying Total Listens per User"
   ]
  },
  {
   "cell_type": "code",
   "execution_count": 41,
   "id": "a04fbdc7",
   "metadata": {},
   "outputs": [],
   "source": [
    "artists_total_listens = (\n",
    "    user_artists_ratings\n",
    "    .groupby('artistID', as_index=False)\n",
    "    .agg({'userID': ['count'], 'rating': ['mean'], 'weight': ['sum']})\n",
    ")"
   ]
  },
  {
   "cell_type": "code",
   "execution_count": 43,
   "id": "9cb65bf0",
   "metadata": {},
   "outputs": [],
   "source": [
    "artists_total_listens.columns = ['artistID', 'count_users', 'avg_rating', 'total_listens']"
   ]
  },
  {
   "cell_type": "code",
   "execution_count": 45,
   "id": "4846dd17",
   "metadata": {},
   "outputs": [
    {
     "data": {
      "image/png": "[encoded data removed]",
      "text/plain": [
       "<Figure size 432x288 with 1 Axes>"
      ]
     },
     "metadata": {
      "needs_background": "light"
     },
     "output_type": "display_data"
    }
   ],
   "source": [
    "plt.hist(artists_total_listens['total_listens'], bins=100)\n",
    "plt.gca().set(\n",
    "    title='Distribution of Total Listens', \n",
    "    xlabel='Number of Listens',\n",
    "    ylabel='Frequency'\n",
    ");"
   ]
  },
  {
   "cell_type": "code",
   "execution_count": 47,
   "id": "d4827c75",
   "metadata": {},
   "outputs": [
    {
     "data": {
      "text/plain": [
       "4645.399999999998"
      ]
     },
     "execution_count": 47,
     "metadata": {},
     "output_type": "execute_result"
    }
   ],
   "source": [
    "## Finding the top 10% of artists\n",
    "np.percentile(artists_total_listens['total_listens'], 90)"
   ]
  },
  {
   "cell_type": "code",
   "execution_count": 48,
   "id": "0297d45a",
   "metadata": {},
   "outputs": [],
   "source": [
    "artists_highest_total_listens = artists_total_listens[artists_total_listens['total_listens']>=4645]"
   ]
  },
  {
   "cell_type": "code",
   "execution_count": 53,
   "id": "949d2db4",
   "metadata": {},
   "outputs": [
    {
     "data": {
      "image/png": "[encoded data removed]",
      "text/plain": [
       "<Figure size 432x288 with 1 Axes>"
      ]
     },
     "metadata": {
      "needs_background": "light"
     },
     "output_type": "display_data"
    }
   ],
   "source": [
    "plt.hist(artists_highest_total_listens['avg_rating'], bins=20)\n",
    "\n",
    "plt.gca().set(\n",
    "    title='Distribution of Average Ratings for the top 10% Listened-To Artists', \n",
    "    xlabel='Number of Listens',\n",
    "    ylabel='Frequency'\n",
    ");"
   ]
  },
  {
   "cell_type": "code",
   "execution_count": 67,
   "id": "6355b647",
   "metadata": {},
   "outputs": [],
   "source": [
    "artists_highest_listens = artists_highest_total_listens[artists_highest_total_listens['count_users']>=5]"
   ]
  },
  {
   "cell_type": "markdown",
   "id": "fa0110a5",
   "metadata": {},
   "source": [
    "By filtering this dataset to only artists that have a user count above 5, removed artists that have one/two user(s) who have listened a very large number of times and have given 5-star ratings."
   ]
  },
  {
   "cell_type": "code",
   "execution_count": 71,
   "id": "e8b15c23",
   "metadata": {},
   "outputs": [
    {
     "data": {
      "text/plain": [
       "(array([ 20., 182., 461., 487., 255., 105.,  44.,   5.,   4.,   1.]),\n",
       " array([1.1875 , 1.48875, 1.79   , 2.09125, 2.3925 , 2.69375, 2.995  ,\n",
       "        3.29625, 3.5975 , 3.89875, 4.2    ]),\n",
       " <BarContainer object of 10 artists>)"
      ]
     },
     "execution_count": 71,
     "metadata": {},
     "output_type": "execute_result"
    },
    {
     "data": {
      "image/png": "[encoded data removed]",
      "text/plain": [
       "<Figure size 432x288 with 1 Axes>"
      ]
     },
     "metadata": {
      "needs_background": "light"
     },
     "output_type": "display_data"
    }
   ],
   "source": [
    "plt.hist(artists_highest_listens['avg_rating']);"
   ]
  },
  {
   "cell_type": "code",
   "execution_count": 77,
   "id": "d1db3576",
   "metadata": {},
   "outputs": [],
   "source": [
    "recommendations = artists_highest_listens['avg_rating'].nlargest(2)"
   ]
  },
  {
   "cell_type": "code",
   "execution_count": 80,
   "id": "4c4fdfad",
   "metadata": {},
   "outputs": [
    {
     "data": {
      "text/plain": [
       "10886    4.200000\n",
       "2285     3.833333\n",
       "Name: avg_rating, dtype: float64"
      ]
     },
     "execution_count": 80,
     "metadata": {},
     "output_type": "execute_result"
    }
   ],
   "source": [
    "recommendations"
   ]
  },
  {
   "cell_type": "code",
   "execution_count": 83,
   "id": "fb3025e2",
   "metadata": {},
   "outputs": [],
   "source": [
    "artists_ordered_popularity = artists_highest_listens.sort_values(by='avg_rating', ascending=False)"
   ]
  },
  {
   "cell_type": "code",
   "execution_count": 91,
   "id": "253c539c",
   "metadata": {},
   "outputs": [],
   "source": [
    "artist1_rec = artists_ordered_popularity.iloc[0,]['artistID']\n",
    "artist2_rec = artists_ordered_popularity.iloc[1,]['artistID']"
   ]
  },
  {
   "cell_type": "code",
   "execution_count": 111,
   "id": "e9472361",
   "metadata": {},
   "outputs": [],
   "source": [
    "artist1_details = artists[artists['id']==artist1_rec]\n",
    "artist1_name = artist1_details.values[0][1]\n",
    "artist1_link = artist1_details.values[0][2]"
   ]
  },
  {
   "cell_type": "code",
   "execution_count": 107,
   "id": "a51031a0",
   "metadata": {},
   "outputs": [],
   "source": [
    "artist2_details = artists[artists['id']==artist2_rec]\n",
    "artist2_name = artist2_details.values[0][1]\n",
    "artist2_link = artist2_details.values[0][2]"
   ]
  },
  {
   "cell_type": "code",
   "execution_count": 109,
   "id": "2dd0d6dd",
   "metadata": {},
   "outputs": [
    {
     "data": {
      "text/plain": [
       "'http://www.last.fm/music/Ezginin+G%C3%BCnl%C3%BC%C4%9F%C3%BC'"
      ]
     },
     "execution_count": 109,
     "metadata": {},
     "output_type": "execute_result"
    }
   ],
   "source": [
    "artist2_link"
   ]
  },
  {
   "cell_type": "code",
   "execution_count": 112,
   "id": "8c1b4722",
   "metadata": {},
   "outputs": [
    {
     "name": "stdout",
     "output_type": "stream",
     "text": [
      "We think you might like Bernard Butler, and you can view their profile through this link: http://www.last.fm/music/Bernard+Butler\n"
     ]
    }
   ],
   "source": [
    "print(\"We think you might like \" + artist1_name + \", and you can view their profile through this link: \" + artist1_link)"
   ]
  },
  {
   "cell_type": "code",
   "execution_count": 114,
   "id": "0119e289",
   "metadata": {},
   "outputs": [
    {
     "name": "stdout",
     "output_type": "stream",
     "text": [
      "You might also like Ezginin Günlüğü, and you can view their profile through this link: http://www.last.fm/music/Ezginin+G%C3%BCnl%C3%BC%C4%9F%C3%BC\n"
     ]
    }
   ],
   "source": [
    "print(\"You might also like \" + artist2_name + \", and you can view their profile through this link: \" + artist2_link)"
   ]
  },
  {
   "cell_type": "markdown",
   "id": "b5edae69",
   "metadata": {},
   "source": [
    "It might also be interesting to allow the user to decide what percentage of artists they want to see"
   ]
  },
  {
   "cell_type": "markdown",
   "id": "b6884ea5",
   "metadata": {},
   "source": [
    "Let's see the results for if we wanted 50% of the artists included."
   ]
  },
  {
   "cell_type": "code",
   "execution_count": 15,
   "id": "6b5a11d1",
   "metadata": {},
   "outputs": [
    {
     "data": {
      "text/plain": [
       "1.0"
      ]
     },
     "execution_count": 15,
     "metadata": {},
     "output_type": "execute_result"
    }
   ],
   "source": [
    "## Finding the top 10% of artists\n",
    "np.percentile(artists_users_ratings['count_users'], 10)"
   ]
  }
 ],
 "metadata": {
  "kernelspec": {
   "display_name": "Python 3 (ipykernel)",
   "language": "python",
   "name": "python3"
  },
  "language_info": {
   "codemirror_mode": {
    "name": "ipython",
    "version": 3
   },
   "file_extension": ".py",
   "mimetype": "text/x-python",
   "name": "python",
   "nbconvert_exporter": "python",
   "pygments_lexer": "ipython3",
   "version": "3.9.7"
  }
 },
 "nbformat": 4,
 "nbformat_minor": 5
}
